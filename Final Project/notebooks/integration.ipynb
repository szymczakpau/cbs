{
 "cells": [
  {
   "cell_type": "code",
   "execution_count": 111,
   "metadata": {},
   "outputs": [],
   "source": [
    "require(data.table)\n",
    "require(impute)\n",
    "require(tidyverse)\n",
    "require(minfi)\n",
    "require(Gviz)\n",
    "require(missMethyl)\n",
    "require(limma)\n",
    "require(seqlm)\n",
    "require(sva)\n",
    "require(gprofiler2)\n",
    "require(GOsummaries)\n",
    "require(ggplot2)\n",
    "require(gridExtra)\n",
    "require(ggpubr)\n",
    "require('clusterProfiler')"
   ]
  },
  {
   "cell_type": "code",
   "execution_count": 112,
   "metadata": {},
   "outputs": [],
   "source": [
    "load(\"sig_cd8.RData\")\n",
    "load(\"sig_cd4.RData\")"
   ]
  },
  {
   "cell_type": "code",
   "execution_count": 115,
   "metadata": {},
   "outputs": [
    {
     "data": {
      "text/html": [
       "1861"
      ],
      "text/latex": [
       "1861"
      ],
      "text/markdown": [
       "1861"
      ],
      "text/plain": [
       "[1] 1861"
      ]
     },
     "metadata": {},
     "output_type": "display_data"
    },
    {
     "data": {
      "text/html": [
       "44"
      ],
      "text/latex": [
       "44"
      ],
      "text/markdown": [
       "44"
      ],
      "text/plain": [
       "[1] 44"
      ]
     },
     "metadata": {},
     "output_type": "display_data"
    }
   ],
   "source": [
    "nrow(cd8_mat)\n",
    "nrow(cd4_mat)"
   ]
  },
  {
   "cell_type": "code",
   "execution_count": 120,
   "metadata": {},
   "outputs": [
    {
     "data": {
      "text/html": [
       "32"
      ],
      "text/latex": [
       "32"
      ],
      "text/markdown": [
       "32"
      ],
      "text/plain": [
       "[1] 32"
      ]
     },
     "metadata": {},
     "output_type": "display_data"
    }
   ],
   "source": [
    "length(intersect(rownames(cd4_mat), rownames(cd8_mat)))"
   ]
  },
  {
   "cell_type": "markdown",
   "metadata": {},
   "source": [
    "# CD8"
   ]
  },
  {
   "cell_type": "markdown",
   "metadata": {},
   "source": [
    "# TOP5"
   ]
  },
  {
   "cell_type": "code",
   "execution_count": 121,
   "metadata": {},
   "outputs": [],
   "source": [
    "cd8_top5 <- cd8_mat[cd8_cpg$probes[1:5],]"
   ]
  },
  {
   "cell_type": "code",
   "execution_count": 122,
   "metadata": {},
   "outputs": [
    {
     "data": {
      "text/html": [
       "<table>\n",
       "<thead><tr><th scope=col>sample</th><th scope=col>title</th><th scope=col>age</th><th scope=col>cell_type</th><th scope=col>diagnosis</th><th scope=col>geo</th></tr></thead>\n",
       "<tbody>\n",
       "\t<tr><td>68                   </td><td>gDNA_CD8_Control_rep1</td><td>54                   </td><td>CD8 T cells          </td><td>Healthy              </td><td>GSM1848063           </td></tr>\n",
       "\t<tr><td>69                   </td><td>gDNA_CD8_Control_rep2</td><td>37                   </td><td>CD8 T cells          </td><td>Healthy              </td><td>GSM1848065           </td></tr>\n",
       "\t<tr><td>70                   </td><td>gDNA_CD8_Control_rep3</td><td>38                   </td><td>CD8 T cells          </td><td>Healthy              </td><td>GSM1848068           </td></tr>\n",
       "\t<tr><td>71                   </td><td>gDNA_CD8_Control_rep4</td><td>49                   </td><td>CD8 T cells          </td><td>Healthy              </td><td>GSM1848070           </td></tr>\n",
       "\t<tr><td>72                   </td><td>gDNA_CD8_Control_rep5</td><td>37                   </td><td>CD8 T cells          </td><td>Healthy              </td><td>GSM1848071           </td></tr>\n",
       "\t<tr><td>73                   </td><td>gDNA_CD8_Control_rep6</td><td>51                   </td><td>CD8 T cells          </td><td>Healthy              </td><td>GSM1848072           </td></tr>\n",
       "</tbody>\n",
       "</table>\n"
      ],
      "text/latex": [
       "\\begin{tabular}{r|llllll}\n",
       " sample & title & age & cell\\_type & diagnosis & geo\\\\\n",
       "\\hline\n",
       "\t 68                          & gDNA\\_CD8\\_Control\\_rep1 & 54                          & CD8 T cells                 & Healthy                     & GSM1848063                 \\\\\n",
       "\t 69                          & gDNA\\_CD8\\_Control\\_rep2 & 37                          & CD8 T cells                 & Healthy                     & GSM1848065                 \\\\\n",
       "\t 70                          & gDNA\\_CD8\\_Control\\_rep3 & 38                          & CD8 T cells                 & Healthy                     & GSM1848068                 \\\\\n",
       "\t 71                          & gDNA\\_CD8\\_Control\\_rep4 & 49                          & CD8 T cells                 & Healthy                     & GSM1848070                 \\\\\n",
       "\t 72                          & gDNA\\_CD8\\_Control\\_rep5 & 37                          & CD8 T cells                 & Healthy                     & GSM1848071                 \\\\\n",
       "\t 73                          & gDNA\\_CD8\\_Control\\_rep6 & 51                          & CD8 T cells                 & Healthy                     & GSM1848072                 \\\\\n",
       "\\end{tabular}\n"
      ],
      "text/markdown": [
       "\n",
       "| sample | title | age | cell_type | diagnosis | geo |\n",
       "|---|---|---|---|---|---|\n",
       "| 68                    | gDNA_CD8_Control_rep1 | 54                    | CD8 T cells           | Healthy               | GSM1848063            |\n",
       "| 69                    | gDNA_CD8_Control_rep2 | 37                    | CD8 T cells           | Healthy               | GSM1848065            |\n",
       "| 70                    | gDNA_CD8_Control_rep3 | 38                    | CD8 T cells           | Healthy               | GSM1848068            |\n",
       "| 71                    | gDNA_CD8_Control_rep4 | 49                    | CD8 T cells           | Healthy               | GSM1848070            |\n",
       "| 72                    | gDNA_CD8_Control_rep5 | 37                    | CD8 T cells           | Healthy               | GSM1848071            |\n",
       "| 73                    | gDNA_CD8_Control_rep6 | 51                    | CD8 T cells           | Healthy               | GSM1848072            |\n",
       "\n"
      ],
      "text/plain": [
       "  sample title                 age cell_type   diagnosis geo       \n",
       "1 68     gDNA_CD8_Control_rep1 54  CD8 T cells Healthy   GSM1848063\n",
       "2 69     gDNA_CD8_Control_rep2 37  CD8 T cells Healthy   GSM1848065\n",
       "3 70     gDNA_CD8_Control_rep3 38  CD8 T cells Healthy   GSM1848068\n",
       "4 71     gDNA_CD8_Control_rep4 49  CD8 T cells Healthy   GSM1848070\n",
       "5 72     gDNA_CD8_Control_rep5 37  CD8 T cells Healthy   GSM1848071\n",
       "6 73     gDNA_CD8_Control_rep6 51  CD8 T cells Healthy   GSM1848072"
      ]
     },
     "metadata": {},
     "output_type": "display_data"
    }
   ],
   "source": [
    "cd8_top5 <- as.data.frame(t(cd8_top5))\n",
    "colnames(cd8_top5) <- c(cd8_cpg$probes[1:5])\n",
    "cd8_geo_top5 <- rownames(cd8_top5)\n",
    "cd8_top5 <- cd8_top5 %>% mutate(\"geo\" = cd8_geo_top5) \n",
    "cd8_top5_key <- cd8_key %>% filter(geo %in% cd8_geo_top5)\n",
    "head(cd8_top5_key)"
   ]
  },
  {
   "cell_type": "code",
   "execution_count": 123,
   "metadata": {},
   "outputs": [],
   "source": [
    "cd8_top5 <- cd8_top5 %>%\n",
    "    mutate(\"cell_type\" = cd8_top5_key$cell_type,\n",
    "           \"diagnosis\" = cd8_top5_key$diagnosis)"
   ]
  },
  {
   "cell_type": "code",
   "execution_count": 124,
   "metadata": {},
   "outputs": [
    {
     "data": {
      "text/html": [
       "<ol class=list-inline>\n",
       "\t<li>'APBB2'</li>\n",
       "\t<li>'MAL2'</li>\n",
       "\t<li>'RIN3'</li>\n",
       "\t<li>'SEPT9'</li>\n",
       "\t<li>'TMEM55A'</li>\n",
       "</ol>\n"
      ],
      "text/latex": [
       "\\begin{enumerate*}\n",
       "\\item 'APBB2'\n",
       "\\item 'MAL2'\n",
       "\\item 'RIN3'\n",
       "\\item 'SEPT9'\n",
       "\\item 'TMEM55A'\n",
       "\\end{enumerate*}\n"
      ],
      "text/markdown": [
       "1. 'APBB2'\n",
       "2. 'MAL2'\n",
       "3. 'RIN3'\n",
       "4. 'SEPT9'\n",
       "5. 'TMEM55A'\n",
       "\n",
       "\n"
      ],
      "text/plain": [
       "[1] \"APBB2\"   \"MAL2\"    \"RIN3\"    \"SEPT9\"   \"TMEM55A\""
      ]
     },
     "metadata": {},
     "output_type": "display_data"
    }
   ],
   "source": [
    "cd8_top5_cpg <- cd8_cpg[1:5,] \n",
    "levels(droplevels((cd8_top5_cpg$UCSC_RefGene_Name)))"
   ]
  },
  {
   "cell_type": "code",
   "execution_count": 125,
   "metadata": {},
   "outputs": [],
   "source": [
    "colnames(cd8_top5)[1:5] = levels(droplevels((cd8_top5_cpg$UCSC_RefGene_Name)))"
   ]
  },
  {
   "cell_type": "code",
   "execution_count": 126,
   "metadata": {},
   "outputs": [
    {
     "data": {
      "text/html": [
       "<table>\n",
       "<thead><tr><th scope=col>APBB2</th><th scope=col>MAL2</th><th scope=col>RIN3</th><th scope=col>SEPT9</th><th scope=col>TMEM55A</th><th scope=col>geo</th><th scope=col>cell_type</th><th scope=col>diagnosis</th></tr></thead>\n",
       "<tbody>\n",
       "\t<tr><td>0.5522365  </td><td>0.6719406  </td><td>0.5439589  </td><td>0.6325498  </td><td>0.7856264  </td><td>GSM1848063 </td><td>CD8 T cells</td><td>Healthy    </td></tr>\n",
       "\t<tr><td>0.5785091  </td><td>0.7894404  </td><td>0.5872215  </td><td>0.4864225  </td><td>0.8588831  </td><td>GSM1848065 </td><td>CD8 T cells</td><td>Healthy    </td></tr>\n",
       "\t<tr><td>0.6408691  </td><td>0.7468551  </td><td>0.6002372  </td><td>0.5089860  </td><td>0.8636725  </td><td>GSM1848068 </td><td>CD8 T cells</td><td>Healthy    </td></tr>\n",
       "\t<tr><td>0.6721345  </td><td>0.7405998  </td><td>0.5409605  </td><td>0.5146971  </td><td>0.8540408  </td><td>GSM1848070 </td><td>CD8 T cells</td><td>Healthy    </td></tr>\n",
       "\t<tr><td>0.6499170  </td><td>0.7406536  </td><td>0.5054517  </td><td>0.5283667  </td><td>0.8873986  </td><td>GSM1848071 </td><td>CD8 T cells</td><td>Healthy    </td></tr>\n",
       "\t<tr><td>0.7297605  </td><td>0.7925555  </td><td>0.5323719  </td><td>0.4021034  </td><td>0.8825603  </td><td>GSM1848072 </td><td>CD8 T cells</td><td>Healthy    </td></tr>\n",
       "</tbody>\n",
       "</table>\n"
      ],
      "text/latex": [
       "\\begin{tabular}{r|llllllll}\n",
       " APBB2 & MAL2 & RIN3 & SEPT9 & TMEM55A & geo & cell\\_type & diagnosis\\\\\n",
       "\\hline\n",
       "\t 0.5522365   & 0.6719406   & 0.5439589   & 0.6325498   & 0.7856264   & GSM1848063  & CD8 T cells & Healthy    \\\\\n",
       "\t 0.5785091   & 0.7894404   & 0.5872215   & 0.4864225   & 0.8588831   & GSM1848065  & CD8 T cells & Healthy    \\\\\n",
       "\t 0.6408691   & 0.7468551   & 0.6002372   & 0.5089860   & 0.8636725   & GSM1848068  & CD8 T cells & Healthy    \\\\\n",
       "\t 0.6721345   & 0.7405998   & 0.5409605   & 0.5146971   & 0.8540408   & GSM1848070  & CD8 T cells & Healthy    \\\\\n",
       "\t 0.6499170   & 0.7406536   & 0.5054517   & 0.5283667   & 0.8873986   & GSM1848071  & CD8 T cells & Healthy    \\\\\n",
       "\t 0.7297605   & 0.7925555   & 0.5323719   & 0.4021034   & 0.8825603   & GSM1848072  & CD8 T cells & Healthy    \\\\\n",
       "\\end{tabular}\n"
      ],
      "text/markdown": [
       "\n",
       "| APBB2 | MAL2 | RIN3 | SEPT9 | TMEM55A | geo | cell_type | diagnosis |\n",
       "|---|---|---|---|---|---|---|---|\n",
       "| 0.5522365   | 0.6719406   | 0.5439589   | 0.6325498   | 0.7856264   | GSM1848063  | CD8 T cells | Healthy     |\n",
       "| 0.5785091   | 0.7894404   | 0.5872215   | 0.4864225   | 0.8588831   | GSM1848065  | CD8 T cells | Healthy     |\n",
       "| 0.6408691   | 0.7468551   | 0.6002372   | 0.5089860   | 0.8636725   | GSM1848068  | CD8 T cells | Healthy     |\n",
       "| 0.6721345   | 0.7405998   | 0.5409605   | 0.5146971   | 0.8540408   | GSM1848070  | CD8 T cells | Healthy     |\n",
       "| 0.6499170   | 0.7406536   | 0.5054517   | 0.5283667   | 0.8873986   | GSM1848071  | CD8 T cells | Healthy     |\n",
       "| 0.7297605   | 0.7925555   | 0.5323719   | 0.4021034   | 0.8825603   | GSM1848072  | CD8 T cells | Healthy     |\n",
       "\n"
      ],
      "text/plain": [
       "  APBB2     MAL2      RIN3      SEPT9     TMEM55A   geo        cell_type  \n",
       "1 0.5522365 0.6719406 0.5439589 0.6325498 0.7856264 GSM1848063 CD8 T cells\n",
       "2 0.5785091 0.7894404 0.5872215 0.4864225 0.8588831 GSM1848065 CD8 T cells\n",
       "3 0.6408691 0.7468551 0.6002372 0.5089860 0.8636725 GSM1848068 CD8 T cells\n",
       "4 0.6721345 0.7405998 0.5409605 0.5146971 0.8540408 GSM1848070 CD8 T cells\n",
       "5 0.6499170 0.7406536 0.5054517 0.5283667 0.8873986 GSM1848071 CD8 T cells\n",
       "6 0.7297605 0.7925555 0.5323719 0.4021034 0.8825603 GSM1848072 CD8 T cells\n",
       "  diagnosis\n",
       "1 Healthy  \n",
       "2 Healthy  \n",
       "3 Healthy  \n",
       "4 Healthy  \n",
       "5 Healthy  \n",
       "6 Healthy  "
      ]
     },
     "metadata": {},
     "output_type": "display_data"
    }
   ],
   "source": [
    "head(cd8_top5)"
   ]
  },
  {
   "cell_type": "code",
   "execution_count": 127,
   "metadata": {},
   "outputs": [],
   "source": [
    "cd8_top5 <- as.data.frame(cd8_top5) %>% gather(\"sample\", \"value\", -cell_type, -geo, -diagnosis)"
   ]
  },
  {
   "cell_type": "code",
   "execution_count": 128,
   "metadata": {},
   "outputs": [
    {
     "data": {
      "text/html": [
       "<table>\n",
       "<thead><tr><th scope=col>geo</th><th scope=col>cell_type</th><th scope=col>diagnosis</th><th scope=col>sample</th><th scope=col>value</th></tr></thead>\n",
       "<tbody>\n",
       "\t<tr><td>GSM1848063 </td><td>CD8 T cells</td><td>Healthy    </td><td>APBB2      </td><td>0.5522365  </td></tr>\n",
       "\t<tr><td>GSM1848065 </td><td>CD8 T cells</td><td>Healthy    </td><td>APBB2      </td><td>0.5785091  </td></tr>\n",
       "\t<tr><td>GSM1848068 </td><td>CD8 T cells</td><td>Healthy    </td><td>APBB2      </td><td>0.6408691  </td></tr>\n",
       "\t<tr><td>GSM1848070 </td><td>CD8 T cells</td><td>Healthy    </td><td>APBB2      </td><td>0.6721345  </td></tr>\n",
       "\t<tr><td>GSM1848071 </td><td>CD8 T cells</td><td>Healthy    </td><td>APBB2      </td><td>0.6499170  </td></tr>\n",
       "\t<tr><td>GSM1848072 </td><td>CD8 T cells</td><td>Healthy    </td><td>APBB2      </td><td>0.7297605  </td></tr>\n",
       "</tbody>\n",
       "</table>\n"
      ],
      "text/latex": [
       "\\begin{tabular}{r|lllll}\n",
       " geo & cell\\_type & diagnosis & sample & value\\\\\n",
       "\\hline\n",
       "\t GSM1848063  & CD8 T cells & Healthy     & APBB2       & 0.5522365  \\\\\n",
       "\t GSM1848065  & CD8 T cells & Healthy     & APBB2       & 0.5785091  \\\\\n",
       "\t GSM1848068  & CD8 T cells & Healthy     & APBB2       & 0.6408691  \\\\\n",
       "\t GSM1848070  & CD8 T cells & Healthy     & APBB2       & 0.6721345  \\\\\n",
       "\t GSM1848071  & CD8 T cells & Healthy     & APBB2       & 0.6499170  \\\\\n",
       "\t GSM1848072  & CD8 T cells & Healthy     & APBB2       & 0.7297605  \\\\\n",
       "\\end{tabular}\n"
      ],
      "text/markdown": [
       "\n",
       "| geo | cell_type | diagnosis | sample | value |\n",
       "|---|---|---|---|---|\n",
       "| GSM1848063  | CD8 T cells | Healthy     | APBB2       | 0.5522365   |\n",
       "| GSM1848065  | CD8 T cells | Healthy     | APBB2       | 0.5785091   |\n",
       "| GSM1848068  | CD8 T cells | Healthy     | APBB2       | 0.6408691   |\n",
       "| GSM1848070  | CD8 T cells | Healthy     | APBB2       | 0.6721345   |\n",
       "| GSM1848071  | CD8 T cells | Healthy     | APBB2       | 0.6499170   |\n",
       "| GSM1848072  | CD8 T cells | Healthy     | APBB2       | 0.7297605   |\n",
       "\n"
      ],
      "text/plain": [
       "  geo        cell_type   diagnosis sample value    \n",
       "1 GSM1848063 CD8 T cells Healthy   APBB2  0.5522365\n",
       "2 GSM1848065 CD8 T cells Healthy   APBB2  0.5785091\n",
       "3 GSM1848068 CD8 T cells Healthy   APBB2  0.6408691\n",
       "4 GSM1848070 CD8 T cells Healthy   APBB2  0.6721345\n",
       "5 GSM1848071 CD8 T cells Healthy   APBB2  0.6499170\n",
       "6 GSM1848072 CD8 T cells Healthy   APBB2  0.7297605"
      ]
     },
     "metadata": {},
     "output_type": "display_data"
    }
   ],
   "source": [
    "head(cd8_top5)"
   ]
  },
  {
   "cell_type": "code",
   "execution_count": 129,
   "metadata": {},
   "outputs": [],
   "source": [
    "cd8_top5$value <- as.numeric(cd8_top5$value)"
   ]
  },
  {
   "cell_type": "code",
   "execution_count": 130,
   "metadata": {},
   "outputs": [],
   "source": [
    "cd8_top5_plot <- ggplot(cd8_top5, aes(x=sample, y=value, fill=factor(diagnosis))) +\n",
    "    geom_boxplot() + facet_grid(~sample, scales=\"free\", space=\"free_y\") +\n",
    "    labs(title = \"CD8+ T cells\")"
   ]
  },
  {
   "cell_type": "markdown",
   "metadata": {},
   "source": [
    "# HISTOGRAMS"
   ]
  },
  {
   "cell_type": "code",
   "execution_count": 131,
   "metadata": {},
   "outputs": [],
   "source": [
    "cd8_healthy_geo <- filter(cd8_key, diagnosis == 'Healthy')$geo\n",
    "cd8_graves_geo <- filter(cd8_key, diagnosis != 'Healthy')$geo\n",
    "\n",
    "cd8_healthy_key <- filter(cd8_key, diagnosis == 'Healthy')\n",
    "cd8_graves_key <- filter(cd8_key, diagnosis != 'Healthy')"
   ]
  },
  {
   "cell_type": "code",
   "execution_count": 132,
   "metadata": {},
   "outputs": [],
   "source": [
    "cd8_healthy <- cd8_mat %>% select(cd8_healthy_geo)\n",
    "cd8_graves <- cd8_mat %>% select(cd8_graves_geo)"
   ]
  },
  {
   "cell_type": "code",
   "execution_count": 133,
   "metadata": {},
   "outputs": [],
   "source": [
    "cd8_healthy <- as.data.frame(t(cd8_healthy))\n",
    "cd8_healthy <- cd8_healthy %>% mutate(\"geo\" = cd8_healthy_geo,\n",
    "                                      \"diagnosis\" = cd8_healthy_key$diagnosis)\n"
   ]
  },
  {
   "cell_type": "code",
   "execution_count": 134,
   "metadata": {},
   "outputs": [],
   "source": [
    "cd8_graves <- as.data.frame(t(cd8_graves))\n",
    "cd8_graves <- cd8_graves %>% mutate(\"geo\" = cd8_graves_geo,\n",
    "                                      \"diagnosis\" = cd8_graves_key$diagnosis)\n"
   ]
  },
  {
   "cell_type": "code",
   "execution_count": 135,
   "metadata": {},
   "outputs": [],
   "source": [
    "cd8_healthy_gathered <- as.data.frame(cd8_healthy) %>% gather(\"sample\", \"value\",  -geo, -diagnosis)\n",
    "cd8_graves_gathered <- as.data.frame(cd8_graves) %>% gather(\"sample\", \"value\", -geo, -diagnosis)"
   ]
  },
  {
   "cell_type": "code",
   "execution_count": 136,
   "metadata": {},
   "outputs": [],
   "source": [
    "cd8_healthy_hist <- ggplot(cd8_healthy_gathered, aes(x=value)) + \n",
    "    geom_histogram(color=\"black\", fill=\"white\") +\n",
    "    labs(title=\"CD8: Control patients\")\n",
    "\n",
    "cd8_graves_hist <- ggplot(cd8_graves_gathered, aes(x=value)) + \n",
    "    geom_histogram(color=\"black\", fill=\"white\") +\n",
    "    labs(title=\"CD8: Graves' disease patients\")"
   ]
  },
  {
   "cell_type": "markdown",
   "metadata": {},
   "source": [
    "# GO ANNOTATION"
   ]
  },
  {
   "cell_type": "code",
   "execution_count": 137,
   "metadata": {},
   "outputs": [],
   "source": [
    "i <- cd8_healthy_gathered %>% group_by(sample) %>% summarise(\"mean\" = mean(value))\n",
    "j <- cd8_graves_gathered %>% group_by(sample) %>% summarise(\"mean\" = mean(value))\n",
    "\n",
    "\n",
    "cd8_hyper <- i %>% filter(mean < j$mean) %>% select(sample)\n",
    "cd8_hypo <- i %>% filter(mean > j$mean) %>% select(sample)\n"
   ]
  },
  {
   "cell_type": "code",
   "execution_count": 138,
   "metadata": {},
   "outputs": [
    {
     "data": {
      "text/html": [
       "568"
      ],
      "text/latex": [
       "568"
      ],
      "text/markdown": [
       "568"
      ],
      "text/plain": [
       "[1] 568"
      ]
     },
     "metadata": {},
     "output_type": "display_data"
    },
    {
     "data": {
      "text/html": [
       "1293"
      ],
      "text/latex": [
       "1293"
      ],
      "text/markdown": [
       "1293"
      ],
      "text/plain": [
       "[1] 1293"
      ]
     },
     "metadata": {},
     "output_type": "display_data"
    }
   ],
   "source": [
    "nrow(cd8_hyper)\n",
    "nrow(cd8_hypo)"
   ]
  },
  {
   "cell_type": "code",
   "execution_count": 139,
   "metadata": {},
   "outputs": [],
   "source": [
    "cd8_hypo_cpg <- cd8_cpg %>%\n",
    "    filter(probes %in% cd8_hypo$sample) %>%\n",
    "    select(UCSC_RefGene_Name)\n",
    "\n",
    "cd8_hyper_cpg <- cd8_cpg %>%\n",
    "    filter(probes %in% cd8_hyper$sample) %>%\n",
    "    select(UCSC_RefGene_Name)"
   ]
  },
  {
   "cell_type": "code",
   "execution_count": 140,
   "metadata": {},
   "outputs": [
    {
     "data": {
      "text/html": [
       "<ol class=list-inline>\n",
       "\t<li>'Q8TB24'</li>\n",
       "\t<li>'Q9UHD8'</li>\n",
       "\t<li>'Q92870'</li>\n",
       "\t<li>'O60292'</li>\n",
       "\t<li>'P58400'</li>\n",
       "\t<li>'Q9ULB1'</li>\n",
       "</ol>\n"
      ],
      "text/latex": [
       "\\begin{enumerate*}\n",
       "\\item 'Q8TB24'\n",
       "\\item 'Q9UHD8'\n",
       "\\item 'Q92870'\n",
       "\\item 'O60292'\n",
       "\\item 'P58400'\n",
       "\\item 'Q9ULB1'\n",
       "\\end{enumerate*}\n"
      ],
      "text/markdown": [
       "1. 'Q8TB24'\n",
       "2. 'Q9UHD8'\n",
       "3. 'Q92870'\n",
       "4. 'O60292'\n",
       "5. 'P58400'\n",
       "6. 'Q9ULB1'\n",
       "\n",
       "\n"
      ],
      "text/plain": [
       "[1] \"Q8TB24\" \"Q9UHD8\" \"Q92870\" \"O60292\" \"P58400\" \"Q9ULB1\""
      ]
     },
     "metadata": {},
     "output_type": "display_data"
    }
   ],
   "source": [
    "cd8_hypo_go <- gconvert(cd8_hypo_cpg$UCSC_RefGene_Name,\n",
    "               target = \"uniprotswissprot\")$target\n",
    "cd8_hyper_go <- gconvert(cd8_hyper_cpg$UCSC_RefGene_Name,\n",
    "               target = \"uniprotswissprot\")$target\n",
    "\n",
    "head(cd8_hypo_go)\n",
    "\n",
    "cd8_hypo_gost <- gost(cd8_hypo_go)\n",
    "cd8_hyper_gost <- gost(cd8_hyper_go)"
   ]
  },
  {
   "cell_type": "code",
   "execution_count": 141,
   "metadata": {},
   "outputs": [
    {
     "data": {
      "text/html": [
       "<table>\n",
       "<thead><tr><th scope=col>query</th><th scope=col>significant</th><th scope=col>p_value</th><th scope=col>term_size</th><th scope=col>query_size</th><th scope=col>intersection_size</th><th scope=col>precision</th><th scope=col>recall</th><th scope=col>term_id</th><th scope=col>source</th><th scope=col>term_name</th><th scope=col>effective_domain_size</th><th scope=col>source_order</th><th scope=col>parents</th></tr></thead>\n",
       "<tbody>\n",
       "\t<tr><td>query_1                     </td><td>TRUE                        </td><td>4.961894e-02                </td><td>   3                        </td><td>183                         </td><td>  3                         </td><td>0.01639344                  </td><td>1.00000000                  </td><td>CORUM:6928                  </td><td>CORUM                       </td><td>ARHGEF7-GIT2-PAK1 complex   </td><td> 3631                       </td><td> 2466                       </td><td>CORUM:0000000               </td></tr>\n",
       "\t<tr><td>query_1                     </td><td>TRUE                        </td><td>1.010355e-08                </td><td>1296                        </td><td>666                         </td><td> 99                         </td><td>0.14864865                  </td><td>0.07638889                  </td><td>GO:0045321                  </td><td>GO:BP                       </td><td>leukocyte activation        </td><td>17847                       </td><td>13426                       </td><td>GO:0002376, GO:0001775      </td></tr>\n",
       "\t<tr><td>query_1                     </td><td>TRUE                        </td><td>2.846800e-08                </td><td> 653                        </td><td>666                         </td><td> 62                         </td><td>0.09309309                  </td><td>0.09494640                  </td><td>GO:0002274                  </td><td>GO:BP                       </td><td>myeloid leukocyte activation</td><td>17847                       </td><td>  945                       </td><td>GO:0045321                  </td></tr>\n",
       "\t<tr><td>query_1                     </td><td>TRUE                        </td><td>6.398274e-08                </td><td>1455                        </td><td>666                         </td><td>105                         </td><td>0.15765766                  </td><td>0.07216495                  </td><td>GO:0001775                  </td><td>GO:BP                       </td><td>cell activation             </td><td>17847                       </td><td>  568                       </td><td>GO:0009987                  </td></tr>\n",
       "\t<tr><td>query_1                     </td><td>TRUE                        </td><td>5.482015e-07                </td><td>1273                        </td><td>666                         </td><td> 93                         </td><td>0.13963964                  </td><td>0.07305577                  </td><td>GO:0002252                  </td><td>GO:BP                       </td><td>immune effector process     </td><td>17847                       </td><td>  923                       </td><td>GO:0002376                  </td></tr>\n",
       "\t<tr><td>query_1                     </td><td>TRUE                        </td><td>1.335024e-06                </td><td> 498                        </td><td>666                         </td><td> 49                         </td><td>0.07357357                  </td><td>0.09839357                  </td><td>GO:0002446                  </td><td>GO:BP                       </td><td>neutrophil mediated immunity</td><td>17847                       </td><td> 1117                       </td><td>GO:0002444                  </td></tr>\n",
       "</tbody>\n",
       "</table>\n"
      ],
      "text/latex": [
       "\\begin{tabular}{r|llllllllllllll}\n",
       " query & significant & p\\_value & term\\_size & query\\_size & intersection\\_size & precision & recall & term\\_id & source & term\\_name & effective\\_domain\\_size & source\\_order & parents\\\\\n",
       "\\hline\n",
       "\t query\\_1                    & TRUE                         & 4.961894e-02                 &    3                         & 183                          &   3                          & 0.01639344                   & 1.00000000                   & CORUM:6928                   & CORUM                        & ARHGEF7-GIT2-PAK1 complex    &  3631                        &  2466                        & CORUM:0000000               \\\\\n",
       "\t query\\_1                    & TRUE                         & 1.010355e-08                 & 1296                         & 666                          &  99                          & 0.14864865                   & 0.07638889                   & GO:0045321                   & GO:BP                        & leukocyte activation         & 17847                        & 13426                        & GO:0002376, GO:0001775      \\\\\n",
       "\t query\\_1                    & TRUE                         & 2.846800e-08                 &  653                         & 666                          &  62                          & 0.09309309                   & 0.09494640                   & GO:0002274                   & GO:BP                        & myeloid leukocyte activation & 17847                        &   945                        & GO:0045321                  \\\\\n",
       "\t query\\_1                    & TRUE                         & 6.398274e-08                 & 1455                         & 666                          & 105                          & 0.15765766                   & 0.07216495                   & GO:0001775                   & GO:BP                        & cell activation              & 17847                        &   568                        & GO:0009987                  \\\\\n",
       "\t query\\_1                    & TRUE                         & 5.482015e-07                 & 1273                         & 666                          &  93                          & 0.13963964                   & 0.07305577                   & GO:0002252                   & GO:BP                        & immune effector process      & 17847                        &   923                        & GO:0002376                  \\\\\n",
       "\t query\\_1                    & TRUE                         & 1.335024e-06                 &  498                         & 666                          &  49                          & 0.07357357                   & 0.09839357                   & GO:0002446                   & GO:BP                        & neutrophil mediated immunity & 17847                        &  1117                        & GO:0002444                  \\\\\n",
       "\\end{tabular}\n"
      ],
      "text/markdown": [
       "\n",
       "| query | significant | p_value | term_size | query_size | intersection_size | precision | recall | term_id | source | term_name | effective_domain_size | source_order | parents |\n",
       "|---|---|---|---|---|---|---|---|---|---|---|---|---|---|\n",
       "| query_1                      | TRUE                         | 4.961894e-02                 |    3                         | 183                          |   3                          | 0.01639344                   | 1.00000000                   | CORUM:6928                   | CORUM                        | ARHGEF7-GIT2-PAK1 complex    |  3631                        |  2466                        | CORUM:0000000                |\n",
       "| query_1                      | TRUE                         | 1.010355e-08                 | 1296                         | 666                          |  99                          | 0.14864865                   | 0.07638889                   | GO:0045321                   | GO:BP                        | leukocyte activation         | 17847                        | 13426                        | GO:0002376, GO:0001775       |\n",
       "| query_1                      | TRUE                         | 2.846800e-08                 |  653                         | 666                          |  62                          | 0.09309309                   | 0.09494640                   | GO:0002274                   | GO:BP                        | myeloid leukocyte activation | 17847                        |   945                        | GO:0045321                   |\n",
       "| query_1                      | TRUE                         | 6.398274e-08                 | 1455                         | 666                          | 105                          | 0.15765766                   | 0.07216495                   | GO:0001775                   | GO:BP                        | cell activation              | 17847                        |   568                        | GO:0009987                   |\n",
       "| query_1                      | TRUE                         | 5.482015e-07                 | 1273                         | 666                          |  93                          | 0.13963964                   | 0.07305577                   | GO:0002252                   | GO:BP                        | immune effector process      | 17847                        |   923                        | GO:0002376                   |\n",
       "| query_1                      | TRUE                         | 1.335024e-06                 |  498                         | 666                          |  49                          | 0.07357357                   | 0.09839357                   | GO:0002446                   | GO:BP                        | neutrophil mediated immunity | 17847                        |  1117                        | GO:0002444                   |\n",
       "\n"
      ],
      "text/plain": [
       "  query   significant p_value      term_size query_size intersection_size\n",
       "1 query_1 TRUE        4.961894e-02    3      183          3              \n",
       "2 query_1 TRUE        1.010355e-08 1296      666         99              \n",
       "3 query_1 TRUE        2.846800e-08  653      666         62              \n",
       "4 query_1 TRUE        6.398274e-08 1455      666        105              \n",
       "5 query_1 TRUE        5.482015e-07 1273      666         93              \n",
       "6 query_1 TRUE        1.335024e-06  498      666         49              \n",
       "  precision  recall     term_id    source term_name                   \n",
       "1 0.01639344 1.00000000 CORUM:6928 CORUM  ARHGEF7-GIT2-PAK1 complex   \n",
       "2 0.14864865 0.07638889 GO:0045321 GO:BP  leukocyte activation        \n",
       "3 0.09309309 0.09494640 GO:0002274 GO:BP  myeloid leukocyte activation\n",
       "4 0.15765766 0.07216495 GO:0001775 GO:BP  cell activation             \n",
       "5 0.13963964 0.07305577 GO:0002252 GO:BP  immune effector process     \n",
       "6 0.07357357 0.09839357 GO:0002446 GO:BP  neutrophil mediated immunity\n",
       "  effective_domain_size source_order parents               \n",
       "1  3631                  2466        CORUM:0000000         \n",
       "2 17847                 13426        GO:0002376, GO:0001775\n",
       "3 17847                   945        GO:0045321            \n",
       "4 17847                   568        GO:0009987            \n",
       "5 17847                   923        GO:0002376            \n",
       "6 17847                  1117        GO:0002444            "
      ]
     },
     "metadata": {},
     "output_type": "display_data"
    },
    {
     "data": {
      "text/html": [
       "<table>\n",
       "<thead><tr><th scope=col>query</th><th scope=col>significant</th><th scope=col>p_value</th><th scope=col>term_size</th><th scope=col>query_size</th><th scope=col>intersection_size</th><th scope=col>precision</th><th scope=col>recall</th><th scope=col>term_id</th><th scope=col>source</th><th scope=col>term_name</th><th scope=col>effective_domain_size</th><th scope=col>source_order</th><th scope=col>parents</th></tr></thead>\n",
       "<tbody>\n",
       "\t<tr><td>query_1                     </td><td>TRUE                        </td><td>1.529136e-19                </td><td> 470                        </td><td>264                         </td><td> 44                         </td><td>0.16666667                  </td><td>0.09361702                  </td><td>GO:0042110                  </td><td>GO:BP                       </td><td>T cell activation           </td><td>17847                       </td><td>11669                       </td><td>GO:0046649                  </td></tr>\n",
       "\t<tr><td>query_1                     </td><td>TRUE                        </td><td>2.885160e-16                </td><td> 744                        </td><td>264                         </td><td> 50                         </td><td>0.18939394                  </td><td>0.06720430                  </td><td>GO:0046649                  </td><td>GO:BP                       </td><td>lymphocyte activation       </td><td>17847                       </td><td>14571                       </td><td>GO:0045321                  </td></tr>\n",
       "\t<tr><td>query_1                     </td><td>TRUE                        </td><td>1.990654e-14                </td><td> 140                        </td><td>264                         </td><td> 23                         </td><td>0.08712121                  </td><td>0.16428571                  </td><td>GO:0046631                  </td><td>GO:BP                       </td><td>alpha-beta T cell activation</td><td>17847                       </td><td>14553                       </td><td>GO:0042110                  </td></tr>\n",
       "\t<tr><td>query_1                     </td><td>TRUE                        </td><td>1.239562e-12                </td><td>3214                        </td><td>264                         </td><td>103                         </td><td>0.39015152                  </td><td>0.03204729                  </td><td>GO:0002376                  </td><td>GO:BP                       </td><td>immune system process       </td><td>17847                       </td><td> 1047                       </td><td>GO:0008150                  </td></tr>\n",
       "\t<tr><td>query_1                     </td><td>TRUE                        </td><td>2.474203e-12                </td><td>1455                        </td><td>264                         </td><td> 64                         </td><td>0.24242424                  </td><td>0.04398625                  </td><td>GO:0001775                  </td><td>GO:BP                       </td><td>cell activation             </td><td>17847                       </td><td>  568                       </td><td>GO:0009987                  </td></tr>\n",
       "\t<tr><td>query_1                     </td><td>TRUE                        </td><td>9.418972e-12                </td><td>1296                        </td><td>264                         </td><td> 59                         </td><td>0.22348485                  </td><td>0.04552469                  </td><td>GO:0045321                  </td><td>GO:BP                       </td><td>leukocyte activation        </td><td>17847                       </td><td>13426                       </td><td>GO:0002376, GO:0001775      </td></tr>\n",
       "</tbody>\n",
       "</table>\n"
      ],
      "text/latex": [
       "\\begin{tabular}{r|llllllllllllll}\n",
       " query & significant & p\\_value & term\\_size & query\\_size & intersection\\_size & precision & recall & term\\_id & source & term\\_name & effective\\_domain\\_size & source\\_order & parents\\\\\n",
       "\\hline\n",
       "\t query\\_1                    & TRUE                         & 1.529136e-19                 &  470                         & 264                          &  44                          & 0.16666667                   & 0.09361702                   & GO:0042110                   & GO:BP                        & T cell activation            & 17847                        & 11669                        & GO:0046649                  \\\\\n",
       "\t query\\_1                    & TRUE                         & 2.885160e-16                 &  744                         & 264                          &  50                          & 0.18939394                   & 0.06720430                   & GO:0046649                   & GO:BP                        & lymphocyte activation        & 17847                        & 14571                        & GO:0045321                  \\\\\n",
       "\t query\\_1                    & TRUE                         & 1.990654e-14                 &  140                         & 264                          &  23                          & 0.08712121                   & 0.16428571                   & GO:0046631                   & GO:BP                        & alpha-beta T cell activation & 17847                        & 14553                        & GO:0042110                  \\\\\n",
       "\t query\\_1                    & TRUE                         & 1.239562e-12                 & 3214                         & 264                          & 103                          & 0.39015152                   & 0.03204729                   & GO:0002376                   & GO:BP                        & immune system process        & 17847                        &  1047                        & GO:0008150                  \\\\\n",
       "\t query\\_1                    & TRUE                         & 2.474203e-12                 & 1455                         & 264                          &  64                          & 0.24242424                   & 0.04398625                   & GO:0001775                   & GO:BP                        & cell activation              & 17847                        &   568                        & GO:0009987                  \\\\\n",
       "\t query\\_1                    & TRUE                         & 9.418972e-12                 & 1296                         & 264                          &  59                          & 0.22348485                   & 0.04552469                   & GO:0045321                   & GO:BP                        & leukocyte activation         & 17847                        & 13426                        & GO:0002376, GO:0001775      \\\\\n",
       "\\end{tabular}\n"
      ],
      "text/markdown": [
       "\n",
       "| query | significant | p_value | term_size | query_size | intersection_size | precision | recall | term_id | source | term_name | effective_domain_size | source_order | parents |\n",
       "|---|---|---|---|---|---|---|---|---|---|---|---|---|---|\n",
       "| query_1                      | TRUE                         | 1.529136e-19                 |  470                         | 264                          |  44                          | 0.16666667                   | 0.09361702                   | GO:0042110                   | GO:BP                        | T cell activation            | 17847                        | 11669                        | GO:0046649                   |\n",
       "| query_1                      | TRUE                         | 2.885160e-16                 |  744                         | 264                          |  50                          | 0.18939394                   | 0.06720430                   | GO:0046649                   | GO:BP                        | lymphocyte activation        | 17847                        | 14571                        | GO:0045321                   |\n",
       "| query_1                      | TRUE                         | 1.990654e-14                 |  140                         | 264                          |  23                          | 0.08712121                   | 0.16428571                   | GO:0046631                   | GO:BP                        | alpha-beta T cell activation | 17847                        | 14553                        | GO:0042110                   |\n",
       "| query_1                      | TRUE                         | 1.239562e-12                 | 3214                         | 264                          | 103                          | 0.39015152                   | 0.03204729                   | GO:0002376                   | GO:BP                        | immune system process        | 17847                        |  1047                        | GO:0008150                   |\n",
       "| query_1                      | TRUE                         | 2.474203e-12                 | 1455                         | 264                          |  64                          | 0.24242424                   | 0.04398625                   | GO:0001775                   | GO:BP                        | cell activation              | 17847                        |   568                        | GO:0009987                   |\n",
       "| query_1                      | TRUE                         | 9.418972e-12                 | 1296                         | 264                          |  59                          | 0.22348485                   | 0.04552469                   | GO:0045321                   | GO:BP                        | leukocyte activation         | 17847                        | 13426                        | GO:0002376, GO:0001775       |\n",
       "\n"
      ],
      "text/plain": [
       "  query   significant p_value      term_size query_size intersection_size\n",
       "1 query_1 TRUE        1.529136e-19  470      264         44              \n",
       "2 query_1 TRUE        2.885160e-16  744      264         50              \n",
       "3 query_1 TRUE        1.990654e-14  140      264         23              \n",
       "4 query_1 TRUE        1.239562e-12 3214      264        103              \n",
       "5 query_1 TRUE        2.474203e-12 1455      264         64              \n",
       "6 query_1 TRUE        9.418972e-12 1296      264         59              \n",
       "  precision  recall     term_id    source term_name                   \n",
       "1 0.16666667 0.09361702 GO:0042110 GO:BP  T cell activation           \n",
       "2 0.18939394 0.06720430 GO:0046649 GO:BP  lymphocyte activation       \n",
       "3 0.08712121 0.16428571 GO:0046631 GO:BP  alpha-beta T cell activation\n",
       "4 0.39015152 0.03204729 GO:0002376 GO:BP  immune system process       \n",
       "5 0.24242424 0.04398625 GO:0001775 GO:BP  cell activation             \n",
       "6 0.22348485 0.04552469 GO:0045321 GO:BP  leukocyte activation        \n",
       "  effective_domain_size source_order parents               \n",
       "1 17847                 11669        GO:0046649            \n",
       "2 17847                 14571        GO:0045321            \n",
       "3 17847                 14553        GO:0042110            \n",
       "4 17847                  1047        GO:0008150            \n",
       "5 17847                   568        GO:0009987            \n",
       "6 17847                 13426        GO:0002376, GO:0001775"
      ]
     },
     "metadata": {},
     "output_type": "display_data"
    }
   ],
   "source": [
    "head(cd8_hypo_gost$result)\n",
    "head(cd8_hyper_gost$result)\n",
    "\n",
    "cd8_hyper_gost_result <- cd8_hyper_gost$result %>% arrange(p_value)\n",
    "cd8_hyper_gost_result <- cd8_hyper_gost_result[1:10, ] %>% arrange(intersection_size)"
   ]
  },
  {
   "cell_type": "code",
   "execution_count": 142,
   "metadata": {},
   "outputs": [
    {
     "data": {
      "text/html": [
       "<strong>png:</strong> 2"
      ],
      "text/latex": [
       "\\textbf{png:} 2"
      ],
      "text/markdown": [
       "**png:** 2"
      ],
      "text/plain": [
       "png \n",
       "  2 "
      ]
     },
     "metadata": {},
     "output_type": "display_data"
    }
   ],
   "source": [
    "png(filename=\"cd8_functional3.png\", res=300, units=\"in\", width=8, height=5)\n",
    "ggplot(cd8_hyper_gost_result, aes(x=reorder(term_name, -intersection_size), y=intersection_size, fill=p_value)) +\n",
    "    geom_bar(stat = \"identity\") +\n",
    "    theme(axis.text.x = element_text(angle = 90, hjust = 1)) +\n",
    "    scale_fill_continuous(low=\"blue\", high=\"red\") +\n",
    "    labs(title = \"Functional characterization of differentially methylated sites\",\n",
    "         subtitle = \"CD8+ T cells, hypermethylated\",\n",
    "         x = \"Gene ontology terms\", y = \"Intersection sizes\")\n",
    "dev.off()"
   ]
  },
  {
   "cell_type": "markdown",
   "metadata": {},
   "source": [
    "# CD4"
   ]
  },
  {
   "cell_type": "markdown",
   "metadata": {},
   "source": [
    "# TOP5"
   ]
  },
  {
   "cell_type": "code",
   "execution_count": 143,
   "metadata": {},
   "outputs": [
    {
     "data": {
      "text/html": [
       "<table>\n",
       "<thead><tr><th></th><th scope=col>GSM1847992</th><th scope=col>GSM1847993</th><th scope=col>GSM1847994</th><th scope=col>GSM1847995</th><th scope=col>GSM1847996</th><th scope=col>GSM1847997</th><th scope=col>GSM1847998</th><th scope=col>GSM1847999</th><th scope=col>GSM1848000</th><th scope=col>GSM1848001</th><th scope=col>...</th><th scope=col>GSM1848049</th><th scope=col>GSM1848050</th><th scope=col>GSM1848051</th><th scope=col>GSM1848052</th><th scope=col>GSM1848053</th><th scope=col>GSM1848054</th><th scope=col>GSM1848055</th><th scope=col>GSM1848056</th><th scope=col>GSM1848057</th><th scope=col>GSM1848060</th></tr></thead>\n",
       "<tbody>\n",
       "\t<tr><th scope=row>cg07418892</th><td>0.3746188</td><td>0.3973541</td><td>0.4893164</td><td>0.3623600</td><td>0.3904227</td><td>0.2790231</td><td>0.4380088</td><td>0.3876601</td><td>0.3378170</td><td>0.3664634</td><td>...      </td><td>0.5540782</td><td>0.4730239</td><td>0.5020737</td><td>0.5610653</td><td>0.4792795</td><td>0.4678891</td><td>0.5043112</td><td>0.4691209</td><td>0.5015271</td><td>0.5399349</td></tr>\n",
       "\t<tr><th scope=row>cg14339466</th><td>0.3118346</td><td>0.4007610</td><td>0.4041487</td><td>0.3125327</td><td>0.3937488</td><td>0.2931638</td><td>0.3734629</td><td>0.3486088</td><td>0.3453136</td><td>0.3410663</td><td>...      </td><td>0.5137801</td><td>0.4320967</td><td>0.4301446</td><td>0.5139158</td><td>0.4795576</td><td>0.4275743</td><td>0.4871791</td><td>0.4000400</td><td>0.4309430</td><td>0.4422882</td></tr>\n",
       "\t<tr><th scope=row>cg27666046</th><td>0.2000737</td><td>0.1910964</td><td>0.3308640</td><td>0.2949468</td><td>0.2846265</td><td>0.1809921</td><td>0.4114654</td><td>0.2862912</td><td>0.2974187</td><td>0.2340255</td><td>...      </td><td>0.5153853</td><td>0.3479376</td><td>0.4077258</td><td>0.4697500</td><td>0.4203842</td><td>0.3831982</td><td>0.4219122</td><td>0.3610347</td><td>0.3950184</td><td>0.3413175</td></tr>\n",
       "\t<tr><th scope=row>cg18825594</th><td>0.3434822</td><td>0.2787679</td><td>0.3929762</td><td>0.3234270</td><td>0.3713220</td><td>0.1956442</td><td>0.3979059</td><td>0.3619022</td><td>0.2914690</td><td>0.2291669</td><td>...      </td><td>0.4508102</td><td>0.3977738</td><td>0.4756833</td><td>0.4993715</td><td>0.4158253</td><td>0.4198898</td><td>0.5017659</td><td>0.4050197</td><td>0.4521970</td><td>0.4795657</td></tr>\n",
       "\t<tr><th scope=row>cg01673307</th><td>0.2949360</td><td>0.3058109</td><td>0.3127201</td><td>0.3085045</td><td>0.2382209</td><td>0.2137857</td><td>0.4432739</td><td>0.3081647</td><td>0.2591678</td><td>0.2784781</td><td>...      </td><td>0.5576611</td><td>0.3685801</td><td>0.4296107</td><td>0.3954151</td><td>0.3668905</td><td>0.3999512</td><td>0.4841656</td><td>0.4594781</td><td>0.3956058</td><td>0.4527579</td></tr>\n",
       "</tbody>\n",
       "</table>\n"
      ],
      "text/latex": [
       "\\begin{tabular}{r|lllllllllllllllllllllllllllllllllllllllllllllllllllllllllllllllllll}\n",
       "  & GSM1847992 & GSM1847993 & GSM1847994 & GSM1847995 & GSM1847996 & GSM1847997 & GSM1847998 & GSM1847999 & GSM1848000 & GSM1848001 & ... & GSM1848049 & GSM1848050 & GSM1848051 & GSM1848052 & GSM1848053 & GSM1848054 & GSM1848055 & GSM1848056 & GSM1848057 & GSM1848060\\\\\n",
       "\\hline\n",
       "\tcg07418892 & 0.3746188 & 0.3973541 & 0.4893164 & 0.3623600 & 0.3904227 & 0.2790231 & 0.4380088 & 0.3876601 & 0.3378170 & 0.3664634 & ...       & 0.5540782 & 0.4730239 & 0.5020737 & 0.5610653 & 0.4792795 & 0.4678891 & 0.5043112 & 0.4691209 & 0.5015271 & 0.5399349\\\\\n",
       "\tcg14339466 & 0.3118346 & 0.4007610 & 0.4041487 & 0.3125327 & 0.3937488 & 0.2931638 & 0.3734629 & 0.3486088 & 0.3453136 & 0.3410663 & ...       & 0.5137801 & 0.4320967 & 0.4301446 & 0.5139158 & 0.4795576 & 0.4275743 & 0.4871791 & 0.4000400 & 0.4309430 & 0.4422882\\\\\n",
       "\tcg27666046 & 0.2000737 & 0.1910964 & 0.3308640 & 0.2949468 & 0.2846265 & 0.1809921 & 0.4114654 & 0.2862912 & 0.2974187 & 0.2340255 & ...       & 0.5153853 & 0.3479376 & 0.4077258 & 0.4697500 & 0.4203842 & 0.3831982 & 0.4219122 & 0.3610347 & 0.3950184 & 0.3413175\\\\\n",
       "\tcg18825594 & 0.3434822 & 0.2787679 & 0.3929762 & 0.3234270 & 0.3713220 & 0.1956442 & 0.3979059 & 0.3619022 & 0.2914690 & 0.2291669 & ...       & 0.4508102 & 0.3977738 & 0.4756833 & 0.4993715 & 0.4158253 & 0.4198898 & 0.5017659 & 0.4050197 & 0.4521970 & 0.4795657\\\\\n",
       "\tcg01673307 & 0.2949360 & 0.3058109 & 0.3127201 & 0.3085045 & 0.2382209 & 0.2137857 & 0.4432739 & 0.3081647 & 0.2591678 & 0.2784781 & ...       & 0.5576611 & 0.3685801 & 0.4296107 & 0.3954151 & 0.3668905 & 0.3999512 & 0.4841656 & 0.4594781 & 0.3956058 & 0.4527579\\\\\n",
       "\\end{tabular}\n"
      ],
      "text/markdown": [
       "\n",
       "| <!--/--> | GSM1847992 | GSM1847993 | GSM1847994 | GSM1847995 | GSM1847996 | GSM1847997 | GSM1847998 | GSM1847999 | GSM1848000 | GSM1848001 | ... | GSM1848049 | GSM1848050 | GSM1848051 | GSM1848052 | GSM1848053 | GSM1848054 | GSM1848055 | GSM1848056 | GSM1848057 | GSM1848060 |\n",
       "|---|---|---|---|---|---|---|---|---|---|---|---|---|---|---|---|---|---|---|---|---|---|\n",
       "| cg07418892 | 0.3746188 | 0.3973541 | 0.4893164 | 0.3623600 | 0.3904227 | 0.2790231 | 0.4380088 | 0.3876601 | 0.3378170 | 0.3664634 | ...       | 0.5540782 | 0.4730239 | 0.5020737 | 0.5610653 | 0.4792795 | 0.4678891 | 0.5043112 | 0.4691209 | 0.5015271 | 0.5399349 |\n",
       "| cg14339466 | 0.3118346 | 0.4007610 | 0.4041487 | 0.3125327 | 0.3937488 | 0.2931638 | 0.3734629 | 0.3486088 | 0.3453136 | 0.3410663 | ...       | 0.5137801 | 0.4320967 | 0.4301446 | 0.5139158 | 0.4795576 | 0.4275743 | 0.4871791 | 0.4000400 | 0.4309430 | 0.4422882 |\n",
       "| cg27666046 | 0.2000737 | 0.1910964 | 0.3308640 | 0.2949468 | 0.2846265 | 0.1809921 | 0.4114654 | 0.2862912 | 0.2974187 | 0.2340255 | ...       | 0.5153853 | 0.3479376 | 0.4077258 | 0.4697500 | 0.4203842 | 0.3831982 | 0.4219122 | 0.3610347 | 0.3950184 | 0.3413175 |\n",
       "| cg18825594 | 0.3434822 | 0.2787679 | 0.3929762 | 0.3234270 | 0.3713220 | 0.1956442 | 0.3979059 | 0.3619022 | 0.2914690 | 0.2291669 | ...       | 0.4508102 | 0.3977738 | 0.4756833 | 0.4993715 | 0.4158253 | 0.4198898 | 0.5017659 | 0.4050197 | 0.4521970 | 0.4795657 |\n",
       "| cg01673307 | 0.2949360 | 0.3058109 | 0.3127201 | 0.3085045 | 0.2382209 | 0.2137857 | 0.4432739 | 0.3081647 | 0.2591678 | 0.2784781 | ...       | 0.5576611 | 0.3685801 | 0.4296107 | 0.3954151 | 0.3668905 | 0.3999512 | 0.4841656 | 0.4594781 | 0.3956058 | 0.4527579 |\n",
       "\n"
      ],
      "text/plain": [
       "           GSM1847992 GSM1847993 GSM1847994 GSM1847995 GSM1847996 GSM1847997\n",
       "cg07418892 0.3746188  0.3973541  0.4893164  0.3623600  0.3904227  0.2790231 \n",
       "cg14339466 0.3118346  0.4007610  0.4041487  0.3125327  0.3937488  0.2931638 \n",
       "cg27666046 0.2000737  0.1910964  0.3308640  0.2949468  0.2846265  0.1809921 \n",
       "cg18825594 0.3434822  0.2787679  0.3929762  0.3234270  0.3713220  0.1956442 \n",
       "cg01673307 0.2949360  0.3058109  0.3127201  0.3085045  0.2382209  0.2137857 \n",
       "           GSM1847998 GSM1847999 GSM1848000 GSM1848001 ... GSM1848049\n",
       "cg07418892 0.4380088  0.3876601  0.3378170  0.3664634  ... 0.5540782 \n",
       "cg14339466 0.3734629  0.3486088  0.3453136  0.3410663  ... 0.5137801 \n",
       "cg27666046 0.4114654  0.2862912  0.2974187  0.2340255  ... 0.5153853 \n",
       "cg18825594 0.3979059  0.3619022  0.2914690  0.2291669  ... 0.4508102 \n",
       "cg01673307 0.4432739  0.3081647  0.2591678  0.2784781  ... 0.5576611 \n",
       "           GSM1848050 GSM1848051 GSM1848052 GSM1848053 GSM1848054 GSM1848055\n",
       "cg07418892 0.4730239  0.5020737  0.5610653  0.4792795  0.4678891  0.5043112 \n",
       "cg14339466 0.4320967  0.4301446  0.5139158  0.4795576  0.4275743  0.4871791 \n",
       "cg27666046 0.3479376  0.4077258  0.4697500  0.4203842  0.3831982  0.4219122 \n",
       "cg18825594 0.3977738  0.4756833  0.4993715  0.4158253  0.4198898  0.5017659 \n",
       "cg01673307 0.3685801  0.4296107  0.3954151  0.3668905  0.3999512  0.4841656 \n",
       "           GSM1848056 GSM1848057 GSM1848060\n",
       "cg07418892 0.4691209  0.5015271  0.5399349 \n",
       "cg14339466 0.4000400  0.4309430  0.4422882 \n",
       "cg27666046 0.3610347  0.3950184  0.3413175 \n",
       "cg18825594 0.4050197  0.4521970  0.4795657 \n",
       "cg01673307 0.4594781  0.3956058  0.4527579 "
      ]
     },
     "metadata": {},
     "output_type": "display_data"
    }
   ],
   "source": [
    "cd4_top5 <- cd4_mat[cd4_cpg$probes[1:5],]\n",
    "head(cd4_top5)"
   ]
  },
  {
   "cell_type": "code",
   "execution_count": 144,
   "metadata": {},
   "outputs": [
    {
     "data": {
      "text/html": [
       "<table>\n",
       "<thead><tr><th scope=col>sample</th><th scope=col>title</th><th scope=col>age</th><th scope=col>cell_type</th><th scope=col>diagnosis</th><th scope=col>geo</th></tr></thead>\n",
       "<tbody>\n",
       "\t<tr><td>1                    </td><td>gDNA_CD4_Control_rep1</td><td>54                   </td><td>CD4 T cells          </td><td>Healthy              </td><td>GSM1847992           </td></tr>\n",
       "\t<tr><td>2                    </td><td>gDNA_CD4_Control_rep2</td><td>37                   </td><td>CD4 T cells          </td><td>Healthy              </td><td>GSM1847993           </td></tr>\n",
       "\t<tr><td>3                    </td><td>gDNA_CD4_Control_rep3</td><td>38                   </td><td>CD4 T cells          </td><td>Healthy              </td><td>GSM1847994           </td></tr>\n",
       "\t<tr><td>4                    </td><td>gDNA_CD4_Control_rep4</td><td>49                   </td><td>CD4 T cells          </td><td>Healthy              </td><td>GSM1847995           </td></tr>\n",
       "\t<tr><td>5                    </td><td>gDNA_CD4_Control_rep5</td><td>37                   </td><td>CD4 T cells          </td><td>Healthy              </td><td>GSM1847996           </td></tr>\n",
       "\t<tr><td>6                    </td><td>gDNA_CD4_Control_rep6</td><td>51                   </td><td>CD4 T cells          </td><td>Healthy              </td><td>GSM1847997           </td></tr>\n",
       "</tbody>\n",
       "</table>\n"
      ],
      "text/latex": [
       "\\begin{tabular}{r|llllll}\n",
       " sample & title & age & cell\\_type & diagnosis & geo\\\\\n",
       "\\hline\n",
       "\t 1                           & gDNA\\_CD4\\_Control\\_rep1 & 54                          & CD4 T cells                 & Healthy                     & GSM1847992                 \\\\\n",
       "\t 2                           & gDNA\\_CD4\\_Control\\_rep2 & 37                          & CD4 T cells                 & Healthy                     & GSM1847993                 \\\\\n",
       "\t 3                           & gDNA\\_CD4\\_Control\\_rep3 & 38                          & CD4 T cells                 & Healthy                     & GSM1847994                 \\\\\n",
       "\t 4                           & gDNA\\_CD4\\_Control\\_rep4 & 49                          & CD4 T cells                 & Healthy                     & GSM1847995                 \\\\\n",
       "\t 5                           & gDNA\\_CD4\\_Control\\_rep5 & 37                          & CD4 T cells                 & Healthy                     & GSM1847996                 \\\\\n",
       "\t 6                           & gDNA\\_CD4\\_Control\\_rep6 & 51                          & CD4 T cells                 & Healthy                     & GSM1847997                 \\\\\n",
       "\\end{tabular}\n"
      ],
      "text/markdown": [
       "\n",
       "| sample | title | age | cell_type | diagnosis | geo |\n",
       "|---|---|---|---|---|---|\n",
       "| 1                     | gDNA_CD4_Control_rep1 | 54                    | CD4 T cells           | Healthy               | GSM1847992            |\n",
       "| 2                     | gDNA_CD4_Control_rep2 | 37                    | CD4 T cells           | Healthy               | GSM1847993            |\n",
       "| 3                     | gDNA_CD4_Control_rep3 | 38                    | CD4 T cells           | Healthy               | GSM1847994            |\n",
       "| 4                     | gDNA_CD4_Control_rep4 | 49                    | CD4 T cells           | Healthy               | GSM1847995            |\n",
       "| 5                     | gDNA_CD4_Control_rep5 | 37                    | CD4 T cells           | Healthy               | GSM1847996            |\n",
       "| 6                     | gDNA_CD4_Control_rep6 | 51                    | CD4 T cells           | Healthy               | GSM1847997            |\n",
       "\n"
      ],
      "text/plain": [
       "  sample title                 age cell_type   diagnosis geo       \n",
       "1 1      gDNA_CD4_Control_rep1 54  CD4 T cells Healthy   GSM1847992\n",
       "2 2      gDNA_CD4_Control_rep2 37  CD4 T cells Healthy   GSM1847993\n",
       "3 3      gDNA_CD4_Control_rep3 38  CD4 T cells Healthy   GSM1847994\n",
       "4 4      gDNA_CD4_Control_rep4 49  CD4 T cells Healthy   GSM1847995\n",
       "5 5      gDNA_CD4_Control_rep5 37  CD4 T cells Healthy   GSM1847996\n",
       "6 6      gDNA_CD4_Control_rep6 51  CD4 T cells Healthy   GSM1847997"
      ]
     },
     "metadata": {},
     "output_type": "display_data"
    }
   ],
   "source": [
    "cd4_top5 <- as.data.frame(t(cd4_top5))\n",
    "colnames(cd4_top5) <- c(cd4_cpg$probes[1:5])\n",
    "cd4_geo_top5 <- rownames(cd4_top5)\n",
    "cd4_top5 <- cd4_top5 %>% mutate(\"geo\" = cd4_geo_top5) \n",
    "cd4_top5_key <- cd4_key %>% filter(geo %in% cd4_geo_top5)\n",
    "head(cd4_top5_key)"
   ]
  },
  {
   "cell_type": "code",
   "execution_count": 145,
   "metadata": {},
   "outputs": [],
   "source": [
    "cd4_top5 <- cd4_top5 %>%\n",
    "    mutate(\"cell_type\" = cd4_top5_key$cell_type,\n",
    "           \"diagnosis\" = cd4_top5_key$diagnosis)"
   ]
  },
  {
   "cell_type": "code",
   "execution_count": 146,
   "metadata": {},
   "outputs": [
    {
     "data": {
      "text/html": [
       "<table>\n",
       "<thead><tr><th scope=col>seqnames</th><th scope=col>start</th><th scope=col>end</th><th scope=col>width</th><th scope=col>strand</th><th scope=col>length</th><th scope=col>coef</th><th scope=col>se</th><th scope=col>tstat</th><th scope=col>p.value</th><th scope=col>fdr</th><th scope=col>bonferroni</th><th scope=col>UCSC_RefGene_Group</th><th scope=col>Relation_to_UCSC_CpG_Island</th><th scope=col>UCSC_RefGene_Name</th><th scope=col>probes</th></tr></thead>\n",
       "<tbody>\n",
       "\t<tr><td>6           </td><td>52150456    </td><td>52150456    </td><td>1           </td><td>*           </td><td>1           </td><td>-0.1095361  </td><td>0.01313983  </td><td>-8.336187   </td><td>7.385337e-12</td><td>8.200459e-10</td><td>2.214124e-08</td><td>TSS1500     </td><td>S_Shore     </td><td>MCM3        </td><td>cg07418892  </td></tr>\n",
       "\t<tr><td>13          </td><td>27927490    </td><td>27927490    </td><td>1           </td><td>*           </td><td>1           </td><td>-0.1031197  </td><td>0.01372436  </td><td>-7.513627   </td><td>2.134152e-10</td><td>5.927095e-09</td><td>6.398189e-07</td><td>            </td><td>            </td><td>            </td><td>cg14339466  </td></tr>\n",
       "\t<tr><td>17          </td><td>80279077    </td><td>80279077    </td><td>1           </td><td>*           </td><td>1           </td><td>-0.1153534  </td><td>0.01556828  </td><td>-7.409516   </td><td>3.265983e-10</td><td>7.252902e-09</td><td>9.791417e-07</td><td>3'UTR       </td><td>Island      </td><td>SECTM1      </td><td>cg27666046  </td></tr>\n",
       "\t<tr><td>2           </td><td>10184650    </td><td>10184650    </td><td>1           </td><td>*           </td><td>1           </td><td>-0.1018892  </td><td>0.01375859  </td><td>-7.405495   </td><td>3.320083e-10</td><td>7.318830e-09</td><td>9.953608e-07</td><td>Body        </td><td>Island      </td><td>KLF11       </td><td>cg18825594  </td></tr>\n",
       "\t<tr><td>6           </td><td>32819911    </td><td>32819911    </td><td>1           </td><td>*           </td><td>1           </td><td>-0.1028032  </td><td>0.01427678  </td><td>-7.200731   </td><td>7.658650e-10</td><td>1.177904e-08</td><td>2.296063e-06</td><td>Body        </td><td>N_Shore     </td><td>TAP1        </td><td>cg01673307  </td></tr>\n",
       "</tbody>\n",
       "</table>\n"
      ],
      "text/latex": [
       "\\begin{tabular}{r|llllllllllllllll}\n",
       " seqnames & start & end & width & strand & length & coef & se & tstat & p.value & fdr & bonferroni & UCSC\\_RefGene\\_Group & Relation\\_to\\_UCSC\\_CpG\\_Island & UCSC\\_RefGene\\_Name & probes\\\\\n",
       "\\hline\n",
       "\t 6            & 52150456     & 52150456     & 1            & *            & 1            & -0.1095361   & 0.01313983   & -8.336187    & 7.385337e-12 & 8.200459e-10 & 2.214124e-08 & TSS1500      & S\\_Shore    & MCM3         & cg07418892  \\\\\n",
       "\t 13           & 27927490     & 27927490     & 1            & *            & 1            & -0.1031197   & 0.01372436   & -7.513627    & 2.134152e-10 & 5.927095e-09 & 6.398189e-07 &              &              &              & cg14339466  \\\\\n",
       "\t 17           & 80279077     & 80279077     & 1            & *            & 1            & -0.1153534   & 0.01556828   & -7.409516    & 3.265983e-10 & 7.252902e-09 & 9.791417e-07 & 3'UTR        & Island       & SECTM1       & cg27666046  \\\\\n",
       "\t 2            & 10184650     & 10184650     & 1            & *            & 1            & -0.1018892   & 0.01375859   & -7.405495    & 3.320083e-10 & 7.318830e-09 & 9.953608e-07 & Body         & Island       & KLF11        & cg18825594  \\\\\n",
       "\t 6            & 32819911     & 32819911     & 1            & *            & 1            & -0.1028032   & 0.01427678   & -7.200731    & 7.658650e-10 & 1.177904e-08 & 2.296063e-06 & Body         & N\\_Shore    & TAP1         & cg01673307  \\\\\n",
       "\\end{tabular}\n"
      ],
      "text/markdown": [
       "\n",
       "| seqnames | start | end | width | strand | length | coef | se | tstat | p.value | fdr | bonferroni | UCSC_RefGene_Group | Relation_to_UCSC_CpG_Island | UCSC_RefGene_Name | probes |\n",
       "|---|---|---|---|---|---|---|---|---|---|---|---|---|---|---|---|\n",
       "| 6            | 52150456     | 52150456     | 1            | *            | 1            | -0.1095361   | 0.01313983   | -8.336187    | 7.385337e-12 | 8.200459e-10 | 2.214124e-08 | TSS1500      | S_Shore      | MCM3         | cg07418892   |\n",
       "| 13           | 27927490     | 27927490     | 1            | *            | 1            | -0.1031197   | 0.01372436   | -7.513627    | 2.134152e-10 | 5.927095e-09 | 6.398189e-07 |              |              |              | cg14339466   |\n",
       "| 17           | 80279077     | 80279077     | 1            | *            | 1            | -0.1153534   | 0.01556828   | -7.409516    | 3.265983e-10 | 7.252902e-09 | 9.791417e-07 | 3'UTR        | Island       | SECTM1       | cg27666046   |\n",
       "| 2            | 10184650     | 10184650     | 1            | *            | 1            | -0.1018892   | 0.01375859   | -7.405495    | 3.320083e-10 | 7.318830e-09 | 9.953608e-07 | Body         | Island       | KLF11        | cg18825594   |\n",
       "| 6            | 32819911     | 32819911     | 1            | *            | 1            | -0.1028032   | 0.01427678   | -7.200731    | 7.658650e-10 | 1.177904e-08 | 2.296063e-06 | Body         | N_Shore      | TAP1         | cg01673307   |\n",
       "\n"
      ],
      "text/plain": [
       "  seqnames start    end      width strand length coef       se        \n",
       "1 6        52150456 52150456 1     *      1      -0.1095361 0.01313983\n",
       "2 13       27927490 27927490 1     *      1      -0.1031197 0.01372436\n",
       "3 17       80279077 80279077 1     *      1      -0.1153534 0.01556828\n",
       "4 2        10184650 10184650 1     *      1      -0.1018892 0.01375859\n",
       "5 6        32819911 32819911 1     *      1      -0.1028032 0.01427678\n",
       "  tstat     p.value      fdr          bonferroni   UCSC_RefGene_Group\n",
       "1 -8.336187 7.385337e-12 8.200459e-10 2.214124e-08 TSS1500           \n",
       "2 -7.513627 2.134152e-10 5.927095e-09 6.398189e-07                   \n",
       "3 -7.409516 3.265983e-10 7.252902e-09 9.791417e-07 3'UTR             \n",
       "4 -7.405495 3.320083e-10 7.318830e-09 9.953608e-07 Body              \n",
       "5 -7.200731 7.658650e-10 1.177904e-08 2.296063e-06 Body              \n",
       "  Relation_to_UCSC_CpG_Island UCSC_RefGene_Name probes    \n",
       "1 S_Shore                     MCM3              cg07418892\n",
       "2                                               cg14339466\n",
       "3 Island                      SECTM1            cg27666046\n",
       "4 Island                      KLF11             cg18825594\n",
       "5 N_Shore                     TAP1              cg01673307"
      ]
     },
     "metadata": {},
     "output_type": "display_data"
    }
   ],
   "source": [
    "head(cd4_top5_cpg <- cd4_cpg[1:5,])"
   ]
  },
  {
   "cell_type": "code",
   "execution_count": 147,
   "metadata": {},
   "outputs": [],
   "source": [
    "cd4_top5_cpg <- cd4_cpg[1:5,] "
   ]
  },
  {
   "cell_type": "code",
   "execution_count": 148,
   "metadata": {},
   "outputs": [
    {
     "data": {
      "text/html": [
       "<table>\n",
       "<thead><tr><th scope=col>cg07418892</th><th scope=col>cg14339466</th><th scope=col>cg27666046</th><th scope=col>cg18825594</th><th scope=col>cg01673307</th><th scope=col>geo</th><th scope=col>cell_type</th><th scope=col>diagnosis</th></tr></thead>\n",
       "<tbody>\n",
       "\t<tr><td>0.3746188  </td><td>0.3118346  </td><td>0.2000737  </td><td>0.3434822  </td><td>0.2949360  </td><td>GSM1847992 </td><td>CD4 T cells</td><td>Healthy    </td></tr>\n",
       "\t<tr><td>0.3973541  </td><td>0.4007610  </td><td>0.1910964  </td><td>0.2787679  </td><td>0.3058109  </td><td>GSM1847993 </td><td>CD4 T cells</td><td>Healthy    </td></tr>\n",
       "\t<tr><td>0.4893164  </td><td>0.4041487  </td><td>0.3308640  </td><td>0.3929762  </td><td>0.3127201  </td><td>GSM1847994 </td><td>CD4 T cells</td><td>Healthy    </td></tr>\n",
       "\t<tr><td>0.3623600  </td><td>0.3125327  </td><td>0.2949468  </td><td>0.3234270  </td><td>0.3085045  </td><td>GSM1847995 </td><td>CD4 T cells</td><td>Healthy    </td></tr>\n",
       "\t<tr><td>0.3904227  </td><td>0.3937488  </td><td>0.2846265  </td><td>0.3713220  </td><td>0.2382209  </td><td>GSM1847996 </td><td>CD4 T cells</td><td>Healthy    </td></tr>\n",
       "\t<tr><td>0.2790231  </td><td>0.2931638  </td><td>0.1809921  </td><td>0.1956442  </td><td>0.2137857  </td><td>GSM1847997 </td><td>CD4 T cells</td><td>Healthy    </td></tr>\n",
       "</tbody>\n",
       "</table>\n"
      ],
      "text/latex": [
       "\\begin{tabular}{r|llllllll}\n",
       " cg07418892 & cg14339466 & cg27666046 & cg18825594 & cg01673307 & geo & cell\\_type & diagnosis\\\\\n",
       "\\hline\n",
       "\t 0.3746188   & 0.3118346   & 0.2000737   & 0.3434822   & 0.2949360   & GSM1847992  & CD4 T cells & Healthy    \\\\\n",
       "\t 0.3973541   & 0.4007610   & 0.1910964   & 0.2787679   & 0.3058109   & GSM1847993  & CD4 T cells & Healthy    \\\\\n",
       "\t 0.4893164   & 0.4041487   & 0.3308640   & 0.3929762   & 0.3127201   & GSM1847994  & CD4 T cells & Healthy    \\\\\n",
       "\t 0.3623600   & 0.3125327   & 0.2949468   & 0.3234270   & 0.3085045   & GSM1847995  & CD4 T cells & Healthy    \\\\\n",
       "\t 0.3904227   & 0.3937488   & 0.2846265   & 0.3713220   & 0.2382209   & GSM1847996  & CD4 T cells & Healthy    \\\\\n",
       "\t 0.2790231   & 0.2931638   & 0.1809921   & 0.1956442   & 0.2137857   & GSM1847997  & CD4 T cells & Healthy    \\\\\n",
       "\\end{tabular}\n"
      ],
      "text/markdown": [
       "\n",
       "| cg07418892 | cg14339466 | cg27666046 | cg18825594 | cg01673307 | geo | cell_type | diagnosis |\n",
       "|---|---|---|---|---|---|---|---|\n",
       "| 0.3746188   | 0.3118346   | 0.2000737   | 0.3434822   | 0.2949360   | GSM1847992  | CD4 T cells | Healthy     |\n",
       "| 0.3973541   | 0.4007610   | 0.1910964   | 0.2787679   | 0.3058109   | GSM1847993  | CD4 T cells | Healthy     |\n",
       "| 0.4893164   | 0.4041487   | 0.3308640   | 0.3929762   | 0.3127201   | GSM1847994  | CD4 T cells | Healthy     |\n",
       "| 0.3623600   | 0.3125327   | 0.2949468   | 0.3234270   | 0.3085045   | GSM1847995  | CD4 T cells | Healthy     |\n",
       "| 0.3904227   | 0.3937488   | 0.2846265   | 0.3713220   | 0.2382209   | GSM1847996  | CD4 T cells | Healthy     |\n",
       "| 0.2790231   | 0.2931638   | 0.1809921   | 0.1956442   | 0.2137857   | GSM1847997  | CD4 T cells | Healthy     |\n",
       "\n"
      ],
      "text/plain": [
       "  cg07418892 cg14339466 cg27666046 cg18825594 cg01673307 geo        cell_type  \n",
       "1 0.3746188  0.3118346  0.2000737  0.3434822  0.2949360  GSM1847992 CD4 T cells\n",
       "2 0.3973541  0.4007610  0.1910964  0.2787679  0.3058109  GSM1847993 CD4 T cells\n",
       "3 0.4893164  0.4041487  0.3308640  0.3929762  0.3127201  GSM1847994 CD4 T cells\n",
       "4 0.3623600  0.3125327  0.2949468  0.3234270  0.3085045  GSM1847995 CD4 T cells\n",
       "5 0.3904227  0.3937488  0.2846265  0.3713220  0.2382209  GSM1847996 CD4 T cells\n",
       "6 0.2790231  0.2931638  0.1809921  0.1956442  0.2137857  GSM1847997 CD4 T cells\n",
       "  diagnosis\n",
       "1 Healthy  \n",
       "2 Healthy  \n",
       "3 Healthy  \n",
       "4 Healthy  \n",
       "5 Healthy  \n",
       "6 Healthy  "
      ]
     },
     "metadata": {},
     "output_type": "display_data"
    }
   ],
   "source": [
    "head(cd4_top5)"
   ]
  },
  {
   "cell_type": "code",
   "execution_count": 149,
   "metadata": {},
   "outputs": [],
   "source": [
    "cd4_top5 <- as.data.frame(cd4_top5) %>% gather(\"sample\", \"value\", -cell_type, -geo, -diagnosis)\n",
    "cd4_top5$value <- as.numeric(cd4_top5$value)"
   ]
  },
  {
   "cell_type": "code",
   "execution_count": null,
   "metadata": {},
   "outputs": [],
   "source": []
  },
  {
   "cell_type": "code",
   "execution_count": 150,
   "metadata": {},
   "outputs": [],
   "source": [
    "cd4_top5_plot <- ggplot(cd4_top5, aes(x=sample, y=value, fill=factor(diagnosis))) +\n",
    "    geom_boxplot() + facet_grid(~sample, scales=\"free\", space=\"free_y\") +\n",
    "    labs(title = \"CD4+ T cells\")"
   ]
  },
  {
   "cell_type": "markdown",
   "metadata": {},
   "source": [
    "# Histograms"
   ]
  },
  {
   "cell_type": "code",
   "execution_count": 151,
   "metadata": {},
   "outputs": [],
   "source": [
    "cd4_healthy_geo <- filter(cd4_key, diagnosis == 'Healthy')$geo\n",
    "cd4_graves_geo <- filter(cd4_key, diagnosis != 'Healthy')$geo\n",
    "\n",
    "cd4_healthy_key <- filter(cd4_key, diagnosis == 'Healthy')\n",
    "cd4_graves_key <- filter(cd4_key, diagnosis != 'Healthy')"
   ]
  },
  {
   "cell_type": "code",
   "execution_count": 152,
   "metadata": {},
   "outputs": [],
   "source": [
    "cd4_healthy <- cd4_mat %>% select(cd4_healthy_geo)\n",
    "cd4_graves <- cd4_mat %>% select(cd4_graves_geo)"
   ]
  },
  {
   "cell_type": "code",
   "execution_count": 153,
   "metadata": {},
   "outputs": [],
   "source": [
    "cd4_healthy <- as.data.frame(t(cd4_healthy))\n",
    "cd4_healthy <- cd4_healthy %>% mutate(\"geo\" = cd4_healthy_geo,\n",
    "                                      \"diagnosis\" = cd4_healthy_key$diagnosis)\n"
   ]
  },
  {
   "cell_type": "code",
   "execution_count": 154,
   "metadata": {},
   "outputs": [],
   "source": [
    "cd4_graves <- as.data.frame(t(cd4_graves))\n",
    "cd4_graves <- cd4_graves %>% mutate(\"geo\" = cd4_graves_geo,\n",
    "                                      \"diagnosis\" = cd4_graves_key$diagnosis)\n"
   ]
  },
  {
   "cell_type": "code",
   "execution_count": 155,
   "metadata": {},
   "outputs": [],
   "source": [
    "cd4_healthy_gathered <- as.data.frame(cd4_healthy) %>% gather(\"sample\", \"value\",  -geo, -diagnosis)\n",
    "cd4_graves_gathered <- as.data.frame(cd4_graves) %>% gather(\"sample\", \"value\", -geo, -diagnosis)"
   ]
  },
  {
   "cell_type": "code",
   "execution_count": 156,
   "metadata": {},
   "outputs": [
    {
     "data": {
      "text/html": [
       "<table>\n",
       "<thead><tr><th scope=col>geo</th><th scope=col>diagnosis</th><th scope=col>sample</th><th scope=col>value</th></tr></thead>\n",
       "<tbody>\n",
       "\t<tr><td>GSM1847992</td><td>Healthy   </td><td>cg00142257</td><td>0.4122434 </td></tr>\n",
       "\t<tr><td>GSM1847993</td><td>Healthy   </td><td>cg00142257</td><td>0.5184848 </td></tr>\n",
       "\t<tr><td>GSM1847994</td><td>Healthy   </td><td>cg00142257</td><td>0.5627227 </td></tr>\n",
       "\t<tr><td>GSM1847995</td><td>Healthy   </td><td>cg00142257</td><td>0.4864585 </td></tr>\n",
       "\t<tr><td>GSM1847996</td><td>Healthy   </td><td>cg00142257</td><td>0.4313295 </td></tr>\n",
       "\t<tr><td>GSM1847997</td><td>Healthy   </td><td>cg00142257</td><td>0.4655618 </td></tr>\n",
       "</tbody>\n",
       "</table>\n"
      ],
      "text/latex": [
       "\\begin{tabular}{r|llll}\n",
       " geo & diagnosis & sample & value\\\\\n",
       "\\hline\n",
       "\t GSM1847992 & Healthy    & cg00142257 & 0.4122434 \\\\\n",
       "\t GSM1847993 & Healthy    & cg00142257 & 0.5184848 \\\\\n",
       "\t GSM1847994 & Healthy    & cg00142257 & 0.5627227 \\\\\n",
       "\t GSM1847995 & Healthy    & cg00142257 & 0.4864585 \\\\\n",
       "\t GSM1847996 & Healthy    & cg00142257 & 0.4313295 \\\\\n",
       "\t GSM1847997 & Healthy    & cg00142257 & 0.4655618 \\\\\n",
       "\\end{tabular}\n"
      ],
      "text/markdown": [
       "\n",
       "| geo | diagnosis | sample | value |\n",
       "|---|---|---|---|\n",
       "| GSM1847992 | Healthy    | cg00142257 | 0.4122434  |\n",
       "| GSM1847993 | Healthy    | cg00142257 | 0.5184848  |\n",
       "| GSM1847994 | Healthy    | cg00142257 | 0.5627227  |\n",
       "| GSM1847995 | Healthy    | cg00142257 | 0.4864585  |\n",
       "| GSM1847996 | Healthy    | cg00142257 | 0.4313295  |\n",
       "| GSM1847997 | Healthy    | cg00142257 | 0.4655618  |\n",
       "\n"
      ],
      "text/plain": [
       "  geo        diagnosis sample     value    \n",
       "1 GSM1847992 Healthy   cg00142257 0.4122434\n",
       "2 GSM1847993 Healthy   cg00142257 0.5184848\n",
       "3 GSM1847994 Healthy   cg00142257 0.5627227\n",
       "4 GSM1847995 Healthy   cg00142257 0.4864585\n",
       "5 GSM1847996 Healthy   cg00142257 0.4313295\n",
       "6 GSM1847997 Healthy   cg00142257 0.4655618"
      ]
     },
     "metadata": {},
     "output_type": "display_data"
    }
   ],
   "source": [
    "head(cd4_healthy_gathered)"
   ]
  },
  {
   "cell_type": "code",
   "execution_count": 157,
   "metadata": {},
   "outputs": [],
   "source": [
    "cd4_healthy_hist <- ggplot(cd4_healthy_gathered, aes(x=value)) + \n",
    "    geom_histogram(color=\"black\", fill=\"white\") +\n",
    "    labs(title=\"CD4: Control patients\")\n",
    "\n",
    "cd4_graves_hist <- ggplot(cd4_graves_gathered, aes(x=value)) + \n",
    "    geom_histogram(color=\"black\", fill=\"white\") +\n",
    "    labs(title=\"CD4: Graves' disease patients\")"
   ]
  },
  {
   "cell_type": "markdown",
   "metadata": {},
   "source": [
    "# GO annotation"
   ]
  },
  {
   "cell_type": "code",
   "execution_count": 160,
   "metadata": {},
   "outputs": [],
   "source": [
    "i <- cd4_healthy_gathered %>% group_by(sample) %>% summarise(\"mean\" = mean(value))\n",
    "j <- cd4_graves_gathered %>% group_by(sample) %>% summarise(\"mean\" = mean(value))\n",
    "\n",
    "\n",
    "cd4_hyper <- i %>% filter(mean <= j$mean) %>% select(sample)\n",
    "cd4_hypo <- i %>% filter(mean > j$mean) %>% select(sample)\n"
   ]
  },
  {
   "cell_type": "code",
   "execution_count": 163,
   "metadata": {},
   "outputs": [
    {
     "data": {
      "text/html": [
       "30"
      ],
      "text/latex": [
       "30"
      ],
      "text/markdown": [
       "30"
      ],
      "text/plain": [
       "[1] 30"
      ]
     },
     "metadata": {},
     "output_type": "display_data"
    },
    {
     "data": {
      "text/html": [
       "14"
      ],
      "text/latex": [
       "14"
      ],
      "text/markdown": [
       "14"
      ],
      "text/plain": [
       "[1] 14"
      ]
     },
     "metadata": {},
     "output_type": "display_data"
    }
   ],
   "source": [
    "nrow(cd4_hyper)\n",
    "nrow(cd4_hypo)"
   ]
  },
  {
   "cell_type": "markdown",
   "metadata": {},
   "source": [
    "# Differential methylation analysis"
   ]
  },
  {
   "cell_type": "code",
   "execution_count": 108,
   "metadata": {},
   "outputs": [
    {
     "data": {
      "text/html": [
       "<strong>png:</strong> 2"
      ],
      "text/latex": [
       "\\textbf{png:} 2"
      ],
      "text/markdown": [
       "**png:** 2"
      ],
      "text/plain": [
       "png \n",
       "  2 "
      ]
     },
     "metadata": {},
     "output_type": "display_data"
    }
   ],
   "source": [
    "png(filename=\"top5_cpg3.png\", res=300, units=\"in\", width=8, height=8)\n",
    "annotate_figure(ggarrange(cd4_top5_plot,\n",
    "                          cd8_top5_plot,\n",
    "                          nrow=2, common.legend=TRUE),\n",
    "                top = text_grob(\"Top 5 differentially methylated CpGs\", size=20))\n",
    "dev.off()"
   ]
  },
  {
   "cell_type": "code",
   "execution_count": 109,
   "metadata": {},
   "outputs": [
    {
     "name": "stderr",
     "output_type": "stream",
     "text": [
      "`stat_bin()` using `bins = 30`. Pick better value with `binwidth`.\n",
      "`stat_bin()` using `bins = 30`. Pick better value with `binwidth`.\n",
      "`stat_bin()` using `bins = 30`. Pick better value with `binwidth`.\n",
      "`stat_bin()` using `bins = 30`. Pick better value with `binwidth`.\n",
      "`stat_bin()` using `bins = 30`. Pick better value with `binwidth`.\n",
      "`stat_bin()` using `bins = 30`. Pick better value with `binwidth`.\n",
      "`stat_bin()` using `bins = 30`. Pick better value with `binwidth`.\n",
      "`stat_bin()` using `bins = 30`. Pick better value with `binwidth`.\n"
     ]
    },
    {
     "data": {
      "text/html": [
       "<strong>png:</strong> 2"
      ],
      "text/latex": [
       "\\textbf{png:} 2"
      ],
      "text/markdown": [
       "**png:** 2"
      ],
      "text/plain": [
       "png \n",
       "  2 "
      ]
     },
     "metadata": {},
     "output_type": "display_data"
    }
   ],
   "source": [
    "png(filename=\"hist2.png\", res=300, units=\"in\", width=8, height=8)\n",
    "annotate_figure(ggarrange(cd4_healthy_hist,\n",
    "                          cd4_graves_hist,\n",
    "                          cd8_healthy_hist,\n",
    "                          cd8_graves_hist,\n",
    "                          nrow=2, ncol=2, common.legend=TRUE),\n",
    "                top = text_grob(\"Histograms\", size=20))\n",
    "dev.off()"
   ]
  },
  {
   "cell_type": "code",
   "execution_count": 70,
   "metadata": {},
   "outputs": [
    {
     "name": "stderr",
     "output_type": "stream",
     "text": [
      "Warning message:\n",
      "\"Length of logical index must be 1 or 1293, not 0\""
     ]
    },
    {
     "data": {
      "text/html": [],
      "text/latex": [],
      "text/markdown": [],
      "text/plain": [
       "<0 x 0 matrix>"
      ]
     },
     "metadata": {},
     "output_type": "display_data"
    },
    {
     "name": "stderr",
     "output_type": "stream",
     "text": [
      "Warning message:\n",
      "\"Length of logical index must be 1 or 568, not 0\""
     ]
    },
    {
     "data": {
      "text/html": [],
      "text/latex": [],
      "text/markdown": [],
      "text/plain": [
       "<0 x 0 matrix>"
      ]
     },
     "metadata": {},
     "output_type": "display_data"
    }
   ],
   "source": [
    "intersect(cd4_hypo, cd8_hypo)\n",
    "intersect(cd4_hyper, cd8_hyper)\n"
   ]
  },
  {
   "cell_type": "markdown",
   "metadata": {},
   "source": [
    "# EXPRESSION DATA"
   ]
  },
  {
   "cell_type": "code",
   "execution_count": 168,
   "metadata": {},
   "outputs": [
    {
     "data": {
      "text/html": [
       "584"
      ],
      "text/latex": [
       "584"
      ],
      "text/markdown": [
       "584"
      ],
      "text/plain": [
       "[1] 584"
      ]
     },
     "metadata": {},
     "output_type": "display_data"
    }
   ],
   "source": [
    "load(\"expr.RData\")\n",
    "length(intersect(rownames(cd8_expr), rownames(cd4_expr)))"
   ]
  },
  {
   "cell_type": "markdown",
   "metadata": {},
   "source": [
    "# CD8"
   ]
  },
  {
   "cell_type": "markdown",
   "metadata": {},
   "source": [
    "# GO ANNOTATION"
   ]
  },
  {
   "cell_type": "code",
   "execution_count": 165,
   "metadata": {},
   "outputs": [],
   "source": [
    "cd8_expr_healthy_geo <- filter(cd8_expr_key, diagnosis == 'Healthy')$geo\n",
    "cd8_expr_graves_geo <- filter(cd8_expr_key, diagnosis != 'Healthy')$geo\n",
    "\n",
    "cd8_expr_healthy_key <- filter(cd8_expr_key, diagnosis == 'Healthy')\n",
    "cd8_expr_graves_key <- filter(cd8_expr_key, diagnosis != 'Healthy')"
   ]
  },
  {
   "cell_type": "code",
   "execution_count": 166,
   "metadata": {},
   "outputs": [],
   "source": [
    "cd8_expr_healthy <- cd8_expr %>% select(cd8_expr_healthy_geo)\n",
    "cd8_expr_graves <- cd8_expr %>% select(cd8_expr_graves_geo)"
   ]
  },
  {
   "cell_type": "code",
   "execution_count": 169,
   "metadata": {},
   "outputs": [],
   "source": [
    "cd8_expr_healthy <- as.data.frame(t(cd8_expr_healthy))\n",
    "cd8_expr_healthy <- cd8_expr_healthy %>% mutate(\"geo\" = cd8_expr_healthy_geo,\n",
    "                                      \"diagnosis\" = cd8_expr_healthy_key$diagnosis)\n"
   ]
  },
  {
   "cell_type": "code",
   "execution_count": 170,
   "metadata": {},
   "outputs": [],
   "source": [
    "cd8_expr_graves <- as.data.frame(t(cd8_expr_graves))\n",
    "cd8_expr_graves <- cd8_expr_graves %>% mutate(\"geo\" = cd8_expr_graves_geo,\n",
    "                                      \"diagnosis\" = cd8_expr_graves_key$diagnosis)\n"
   ]
  },
  {
   "cell_type": "code",
   "execution_count": 171,
   "metadata": {},
   "outputs": [],
   "source": [
    "cd8_expr_healthy_gathered <- as.data.frame(cd8_expr_healthy) %>% gather(\"sample\", \"value\",  -geo, -diagnosis)\n",
    "cd8_expr_graves_gathered <- as.data.frame(cd8_expr_graves) %>% gather(\"sample\", \"value\", -geo, -diagnosis)"
   ]
  },
  {
   "cell_type": "code",
   "execution_count": 172,
   "metadata": {},
   "outputs": [],
   "source": [
    "i <- cd8_expr_healthy_gathered %>% group_by(sample) %>% summarise(\"mean\" = mean(value))\n",
    "j <- cd8_expr_graves_gathered %>% group_by(sample) %>% summarise(\"mean\" = mean(value))\n",
    "\n",
    "\n",
    "cd8_expr_hyper <- i %>% filter(mean < j$mean) %>% select(sample)\n",
    "cd8_expr_hypo <- i %>% filter(mean > j$mean) %>% select(sample)\n"
   ]
  },
  {
   "cell_type": "code",
   "execution_count": 173,
   "metadata": {},
   "outputs": [
    {
     "data": {
      "text/html": [
       "0"
      ],
      "text/latex": [
       "0"
      ],
      "text/markdown": [
       "0"
      ],
      "text/plain": [
       "[1] 0"
      ]
     },
     "metadata": {},
     "output_type": "display_data"
    },
    {
     "data": {
      "text/html": [
       "5118"
      ],
      "text/latex": [
       "5118"
      ],
      "text/markdown": [
       "5118"
      ],
      "text/plain": [
       "[1] 5118"
      ]
     },
     "metadata": {},
     "output_type": "display_data"
    }
   ],
   "source": [
    "nrow(cd8_expr_hyper)\n",
    "nrow(cd8_expr_hypo)"
   ]
  },
  {
   "cell_type": "code",
   "execution_count": 174,
   "metadata": {},
   "outputs": [],
   "source": [
    "cd8_expr_hypo_gost <- gost(cd8_expr_anno$ILMN_Gene, \n",
    "                           sources=c(\"KEGG\", \"REAC\", \"MI\"))"
   ]
  },
  {
   "cell_type": "code",
   "execution_count": 175,
   "metadata": {},
   "outputs": [
    {
     "data": {
      "text/html": [
       "<table>\n",
       "<thead><tr><th scope=col>query</th><th scope=col>significant</th><th scope=col>p_value</th><th scope=col>term_size</th><th scope=col>query_size</th><th scope=col>intersection_size</th><th scope=col>precision</th><th scope=col>recall</th><th scope=col>term_id</th><th scope=col>source</th><th scope=col>term_name</th><th scope=col>effective_domain_size</th><th scope=col>source_order</th><th scope=col>parents</th></tr></thead>\n",
       "<tbody>\n",
       "\t<tr><td>query_1                                  </td><td>TRUE                                     </td><td>3.004615e-09                             </td><td>134                                      </td><td> 998                                     </td><td>47                                       </td><td>0.04709419                               </td><td>0.3507463                                </td><td>KEGG:03010                               </td><td>KEGG                                     </td><td>Ribosome                                 </td><td> 7772                                    </td><td>204                                      </td><td>KEGG:00000                               </td></tr>\n",
       "\t<tr><td>query_1                                  </td><td>TRUE                                     </td><td>2.240719e-03                             </td><td>149                                      </td><td> 998                                     </td><td>38                                       </td><td>0.03807615                               </td><td>0.2550336                                </td><td>KEGG:04932                               </td><td>KEGG                                     </td><td>Non-alcoholic fatty liver disease (NAFLD)</td><td> 7772                                    </td><td>365                                      </td><td>KEGG:00000                               </td></tr>\n",
       "\t<tr><td>query_1                                  </td><td>TRUE                                     </td><td>1.609943e-02                             </td><td>191                                      </td><td> 998                                     </td><td>43                                       </td><td>0.04308617                               </td><td>0.2251309                                </td><td>KEGG:05016                               </td><td>KEGG                                     </td><td>Huntington disease                       </td><td> 7772                                    </td><td>388                                      </td><td>KEGG:00000                               </td></tr>\n",
       "\t<tr><td>query_1                                  </td><td>TRUE                                     </td><td>2.338380e-02                             </td><td>142                                      </td><td> 998                                     </td><td>34                                       </td><td>0.03406814                               </td><td>0.2394366                                </td><td>KEGG:05012                               </td><td>KEGG                                     </td><td>Parkinson disease                        </td><td> 7772                                    </td><td>386                                      </td><td>KEGG:00000                               </td></tr>\n",
       "\t<tr><td>query_1                                  </td><td>TRUE                                     </td><td>1.445504e-13                             </td><td> 94                                      </td><td>1327                                     </td><td>44                                       </td><td>0.03315750                               </td><td>0.4680851                                </td><td>REAC:R-HSA-156842                        </td><td>REAC                                     </td><td>Eukaryotic Translation Elongation        </td><td>10565                                    </td><td>729                                      </td><td>REAC:R-HSA-72766                         </td></tr>\n",
       "\t<tr><td>query_1                                  </td><td>TRUE                                     </td><td>1.068772e-12                             </td><td>102                                      </td><td>1327                                     </td><td>45                                       </td><td>0.03391108                               </td><td>0.4411765                                </td><td>REAC:R-HSA-72689                         </td><td>REAC                                     </td><td>Formation of a pool of free 40S subunits </td><td>10565                                    </td><td>801                                      </td><td>REAC:R-HSA-72737                         </td></tr>\n",
       "</tbody>\n",
       "</table>\n"
      ],
      "text/latex": [
       "\\begin{tabular}{r|llllllllllllll}\n",
       " query & significant & p\\_value & term\\_size & query\\_size & intersection\\_size & precision & recall & term\\_id & source & term\\_name & effective\\_domain\\_size & source\\_order & parents\\\\\n",
       "\\hline\n",
       "\t query\\_1                                 & TRUE                                      & 3.004615e-09                              & 134                                       &  998                                      & 47                                        & 0.04709419                                & 0.3507463                                 & KEGG:03010                                & KEGG                                      & Ribosome                                  &  7772                                     & 204                                       & KEGG:00000                               \\\\\n",
       "\t query\\_1                                 & TRUE                                      & 2.240719e-03                              & 149                                       &  998                                      & 38                                        & 0.03807615                                & 0.2550336                                 & KEGG:04932                                & KEGG                                      & Non-alcoholic fatty liver disease (NAFLD) &  7772                                     & 365                                       & KEGG:00000                               \\\\\n",
       "\t query\\_1                                 & TRUE                                      & 1.609943e-02                              & 191                                       &  998                                      & 43                                        & 0.04308617                                & 0.2251309                                 & KEGG:05016                                & KEGG                                      & Huntington disease                        &  7772                                     & 388                                       & KEGG:00000                               \\\\\n",
       "\t query\\_1                                 & TRUE                                      & 2.338380e-02                              & 142                                       &  998                                      & 34                                        & 0.03406814                                & 0.2394366                                 & KEGG:05012                                & KEGG                                      & Parkinson disease                         &  7772                                     & 386                                       & KEGG:00000                               \\\\\n",
       "\t query\\_1                                 & TRUE                                      & 1.445504e-13                              &  94                                       & 1327                                      & 44                                        & 0.03315750                                & 0.4680851                                 & REAC:R-HSA-156842                         & REAC                                      & Eukaryotic Translation Elongation         & 10565                                     & 729                                       & REAC:R-HSA-72766                         \\\\\n",
       "\t query\\_1                                 & TRUE                                      & 1.068772e-12                              & 102                                       & 1327                                      & 45                                        & 0.03391108                                & 0.4411765                                 & REAC:R-HSA-72689                          & REAC                                      & Formation of a pool of free 40S subunits  & 10565                                     & 801                                       & REAC:R-HSA-72737                         \\\\\n",
       "\\end{tabular}\n"
      ],
      "text/markdown": [
       "\n",
       "| query | significant | p_value | term_size | query_size | intersection_size | precision | recall | term_id | source | term_name | effective_domain_size | source_order | parents |\n",
       "|---|---|---|---|---|---|---|---|---|---|---|---|---|---|\n",
       "| query_1                                   | TRUE                                      | 3.004615e-09                              | 134                                       |  998                                      | 47                                        | 0.04709419                                | 0.3507463                                 | KEGG:03010                                | KEGG                                      | Ribosome                                  |  7772                                     | 204                                       | KEGG:00000                                |\n",
       "| query_1                                   | TRUE                                      | 2.240719e-03                              | 149                                       |  998                                      | 38                                        | 0.03807615                                | 0.2550336                                 | KEGG:04932                                | KEGG                                      | Non-alcoholic fatty liver disease (NAFLD) |  7772                                     | 365                                       | KEGG:00000                                |\n",
       "| query_1                                   | TRUE                                      | 1.609943e-02                              | 191                                       |  998                                      | 43                                        | 0.04308617                                | 0.2251309                                 | KEGG:05016                                | KEGG                                      | Huntington disease                        |  7772                                     | 388                                       | KEGG:00000                                |\n",
       "| query_1                                   | TRUE                                      | 2.338380e-02                              | 142                                       |  998                                      | 34                                        | 0.03406814                                | 0.2394366                                 | KEGG:05012                                | KEGG                                      | Parkinson disease                         |  7772                                     | 386                                       | KEGG:00000                                |\n",
       "| query_1                                   | TRUE                                      | 1.445504e-13                              |  94                                       | 1327                                      | 44                                        | 0.03315750                                | 0.4680851                                 | REAC:R-HSA-156842                         | REAC                                      | Eukaryotic Translation Elongation         | 10565                                     | 729                                       | REAC:R-HSA-72766                          |\n",
       "| query_1                                   | TRUE                                      | 1.068772e-12                              | 102                                       | 1327                                      | 45                                        | 0.03391108                                | 0.4411765                                 | REAC:R-HSA-72689                          | REAC                                      | Formation of a pool of free 40S subunits  | 10565                                     | 801                                       | REAC:R-HSA-72737                          |\n",
       "\n"
      ],
      "text/plain": [
       "  query   significant p_value      term_size query_size intersection_size\n",
       "1 query_1 TRUE        3.004615e-09 134        998       47               \n",
       "2 query_1 TRUE        2.240719e-03 149        998       38               \n",
       "3 query_1 TRUE        1.609943e-02 191        998       43               \n",
       "4 query_1 TRUE        2.338380e-02 142        998       34               \n",
       "5 query_1 TRUE        1.445504e-13  94       1327       44               \n",
       "6 query_1 TRUE        1.068772e-12 102       1327       45               \n",
       "  precision  recall    term_id           source\n",
       "1 0.04709419 0.3507463 KEGG:03010        KEGG  \n",
       "2 0.03807615 0.2550336 KEGG:04932        KEGG  \n",
       "3 0.04308617 0.2251309 KEGG:05016        KEGG  \n",
       "4 0.03406814 0.2394366 KEGG:05012        KEGG  \n",
       "5 0.03315750 0.4680851 REAC:R-HSA-156842 REAC  \n",
       "6 0.03391108 0.4411765 REAC:R-HSA-72689  REAC  \n",
       "  term_name                                 effective_domain_size source_order\n",
       "1 Ribosome                                   7772                 204         \n",
       "2 Non-alcoholic fatty liver disease (NAFLD)  7772                 365         \n",
       "3 Huntington disease                         7772                 388         \n",
       "4 Parkinson disease                          7772                 386         \n",
       "5 Eukaryotic Translation Elongation         10565                 729         \n",
       "6 Formation of a pool of free 40S subunits  10565                 801         \n",
       "  parents         \n",
       "1 KEGG:00000      \n",
       "2 KEGG:00000      \n",
       "3 KEGG:00000      \n",
       "4 KEGG:00000      \n",
       "5 REAC:R-HSA-72766\n",
       "6 REAC:R-HSA-72737"
      ]
     },
     "metadata": {},
     "output_type": "display_data"
    }
   ],
   "source": [
    "head(cd8_expr_hypo_gost$result)"
   ]
  },
  {
   "cell_type": "code",
   "execution_count": 176,
   "metadata": {},
   "outputs": [],
   "source": [
    "cd8_expr_hypo_gost_result <- cd8_expr_hypo_gost$result %>% arrange(p_value)\n",
    "cd8_expr_hypo_gost_result <- cd8_expr_hypo_gost_result[1:10, ] %>% arrange(intersection_size)"
   ]
  },
  {
   "cell_type": "code",
   "execution_count": 177,
   "metadata": {},
   "outputs": [],
   "source": [
    "cd8_hypo_goplot <- ggplot(cd8_expr_hypo_gost_result, aes(x=reorder(term_name, -intersection_size), y=intersection_size, fill=p_value)) +\n",
    "    geom_bar(stat = \"identity\") +\n",
    "    theme(axis.text.x = element_text(angle = 90, hjust = 1)) +\n",
    "    scale_fill_continuous(low=\"blue\", high=\"red\") +\n",
    "    labs(subtitle = \"CD8+ T cells, downregulated\",\n",
    "         x = \"Gene ontology terms\", y = \"Intersection sizes\")"
   ]
  },
  {
   "cell_type": "markdown",
   "metadata": {},
   "source": [
    "# CD4"
   ]
  },
  {
   "cell_type": "markdown",
   "metadata": {},
   "source": [
    "# GO ANNOTATION"
   ]
  },
  {
   "cell_type": "code",
   "execution_count": 178,
   "metadata": {},
   "outputs": [],
   "source": [
    "cd4_expr_healthy_geo <- filter(cd4_expr_key, diagnosis == 'Healthy')$geo\n",
    "cd4_expr_graves_geo <- filter(cd4_expr_key, diagnosis != 'Healthy')$geo\n",
    "\n",
    "cd4_expr_healthy_key <- filter(cd4_expr_key, diagnosis == 'Healthy')\n",
    "cd4_expr_graves_key <- filter(cd4_expr_key, diagnosis != 'Healthy')"
   ]
  },
  {
   "cell_type": "code",
   "execution_count": null,
   "metadata": {},
   "outputs": [],
   "source": []
  },
  {
   "cell_type": "code",
   "execution_count": 179,
   "metadata": {},
   "outputs": [],
   "source": [
    "cd4_expr_healthy <- cd4_expr %>% select(cd4_expr_healthy_geo)\n",
    "cd4_expr_graves <- cd4_expr %>% select(cd4_expr_graves_geo)"
   ]
  },
  {
   "cell_type": "code",
   "execution_count": 180,
   "metadata": {},
   "outputs": [],
   "source": [
    "cd4_expr_healthy <- as.data.frame(t(cd4_expr_healthy))\n",
    "cd4_expr_healthy <- cd4_expr_healthy %>% mutate(\"geo\" = cd4_expr_healthy_geo,\n",
    "                                      \"diagnosis\" = cd4_expr_healthy_key$diagnosis)\n",
    "\n",
    "cd4_expr_graves <- as.data.frame(t(cd4_expr_graves))\n",
    "cd4_expr_graves <- cd4_expr_graves %>% mutate(\"geo\" = cd4_expr_graves_geo,\n",
    "                                      \"diagnosis\" = cd4_expr_graves_key$diagnosis)\n"
   ]
  },
  {
   "cell_type": "code",
   "execution_count": 181,
   "metadata": {},
   "outputs": [],
   "source": [
    "cd4_expr_healthy_gathered <- as.data.frame(cd4_expr_healthy) %>% gather(\"sample\", \"value\",  -geo, -diagnosis)\n",
    "cd4_expr_graves_gathered <- as.data.frame(cd4_expr_graves) %>% gather(\"sample\", \"value\", -geo, -diagnosis)"
   ]
  },
  {
   "cell_type": "code",
   "execution_count": 182,
   "metadata": {},
   "outputs": [],
   "source": [
    "i <- cd4_expr_healthy_gathered %>% group_by(sample) %>% summarise(\"mean\" = mean(value))\n",
    "j <- cd4_expr_graves_gathered %>% group_by(sample) %>% summarise(\"mean\" = mean(value))\n",
    "\n",
    "\n",
    "cd4_expr_hyper <- i %>% filter(mean < j$mean) %>% select(sample)\n",
    "cd4_expr_hypo <- i %>% filter(mean > j$mean) %>% select(sample)\n"
   ]
  },
  {
   "cell_type": "code",
   "execution_count": 183,
   "metadata": {},
   "outputs": [
    {
     "data": {
      "text/html": [
       "0"
      ],
      "text/latex": [
       "0"
      ],
      "text/markdown": [
       "0"
      ],
      "text/plain": [
       "[1] 0"
      ]
     },
     "metadata": {},
     "output_type": "display_data"
    },
    {
     "data": {
      "text/html": [
       "2909"
      ],
      "text/latex": [
       "2909"
      ],
      "text/markdown": [
       "2909"
      ],
      "text/plain": [
       "[1] 2909"
      ]
     },
     "metadata": {},
     "output_type": "display_data"
    }
   ],
   "source": [
    "nrow(cd4_expr_hyper)\n",
    "nrow(cd4_expr_hypo)"
   ]
  },
  {
   "cell_type": "code",
   "execution_count": 184,
   "metadata": {},
   "outputs": [],
   "source": [
    "cd4_expr_hypo_gost <- gost(cd4_expr_anno$ILMN_Gene, \n",
    "                           sources=c(\"KEGG\", \"REAC\", \"MI\"))"
   ]
  },
  {
   "cell_type": "code",
   "execution_count": 185,
   "metadata": {},
   "outputs": [],
   "source": [
    "cd4_expr_hypo_gost_result <- cd4_expr_hypo_gost$result %>% arrange(p_value)\n",
    "cd4_expr_hypo_gost_result <- cd4_expr_hypo_gost_result[1:10, ] %>% arrange(intersection_size)"
   ]
  },
  {
   "cell_type": "code",
   "execution_count": 186,
   "metadata": {},
   "outputs": [],
   "source": [
    "cd4_hypo_goplot <- ggplot(cd4_expr_hypo_gost_result, aes(x=reorder(term_name, -intersection_size), y=intersection_size, fill=p_value)) +\n",
    "    geom_bar(stat = \"identity\") +\n",
    "    theme(axis.text.x = element_text(angle = 90, hjust = 1)) +\n",
    "    scale_fill_continuous(low=\"blue\", high=\"red\") +\n",
    "    labs(subtitle = \"CD4+ T cells, downregulated genes\",\n",
    "         x = \"Gene ontology terms\", y = \"Intersection sizes\")"
   ]
  },
  {
   "cell_type": "markdown",
   "metadata": {},
   "source": [
    "# GO ANNOTATION"
   ]
  },
  {
   "cell_type": "code",
   "execution_count": 187,
   "metadata": {},
   "outputs": [
    {
     "data": {
      "text/html": [
       "<strong>png:</strong> 2"
      ],
      "text/latex": [
       "\\textbf{png:} 2"
      ],
      "text/markdown": [
       "**png:** 2"
      ],
      "text/plain": [
       "png \n",
       "  2 "
      ]
     },
     "metadata": {},
     "output_type": "display_data"
    }
   ],
   "source": [
    "png(\"expr.png\", res=300, units=\"in\", width=8, height=8)\n",
    "annotate_figure(ggarrange(cd4_hypo_goplot,\n",
    "                          nrow=1, common.legend=FALSE),\n",
    "                top = text_grob(\"Functional characterization of differentially expressed genes\", size=16))\n",
    "dev.off()"
   ]
  },
  {
   "cell_type": "markdown",
   "metadata": {},
   "source": [
    "# CORRELATION"
   ]
  },
  {
   "cell_type": "code",
   "execution_count": 188,
   "metadata": {},
   "outputs": [
    {
     "data": {
      "text/html": [
       "<ol class=list-inline>\n",
       "\t<li>'ILMN_1702501'</li>\n",
       "\t<li>'ILMN_1774733'</li>\n",
       "\t<li>'ILMN_2415157'</li>\n",
       "\t<li>'ILMN_1673207'</li>\n",
       "\t<li>'ILMN_1782983'</li>\n",
       "</ol>\n"
      ],
      "text/latex": [
       "\\begin{enumerate*}\n",
       "\\item 'ILMN\\_1702501'\n",
       "\\item 'ILMN\\_1774733'\n",
       "\\item 'ILMN\\_2415157'\n",
       "\\item 'ILMN\\_1673207'\n",
       "\\item 'ILMN\\_1782983'\n",
       "\\end{enumerate*}\n"
      ],
      "text/markdown": [
       "1. 'ILMN_1702501'\n",
       "2. 'ILMN_1774733'\n",
       "3. 'ILMN_2415157'\n",
       "4. 'ILMN_1673207'\n",
       "5. 'ILMN_1782983'\n",
       "\n",
       "\n"
      ],
      "text/plain": [
       "[1] \"ILMN_1702501\" \"ILMN_1774733\" \"ILMN_2415157\" \"ILMN_1673207\" \"ILMN_1782983\""
      ]
     },
     "metadata": {},
     "output_type": "display_data"
    },
    {
     "data": {
      "text/html": [
       "5"
      ],
      "text/latex": [
       "5"
      ],
      "text/markdown": [
       "5"
      ],
      "text/plain": [
       "[1] 5"
      ]
     },
     "metadata": {},
     "output_type": "display_data"
    }
   ],
   "source": [
    "cd4_meth_genes <- gconvert(cd4_anno$UCSC_RefGene_Accession, target=\"ILLUMINA_HUMANHT_12_V4\")$target\n",
    "cd4_expr_genes <- cd4_expr_anno$ID\n",
    "cd4_both <- intersect(cd4_meth_genes, cd4_expr_genes)\n",
    "cd4_both\n",
    "length(cd4_both)"
   ]
  },
  {
   "cell_type": "code",
   "execution_count": 94,
   "metadata": {},
   "outputs": [
    {
     "name": "stderr",
     "output_type": "stream",
     "text": [
      "Joining, by = \"input\""
     ]
    }
   ],
   "source": [
    "cd4_anno_selected <- cd4_anno %>% select(ID, \"input\"=UCSC_RefGene_Accession) %>% separate_rows(input, sep = \";\")\n",
    "cd4_anno_selected <- gconvert(cd4_anno_selected$input, target=\"ILLUMINA_HUMANHT_12_V4\") %>% \n",
    "select(input, target, name) %>% inner_join(cd4_anno_selected) %>% filter(target %in% cd4_both)"
   ]
  },
  {
   "cell_type": "code",
   "execution_count": 95,
   "metadata": {},
   "outputs": [
    {
     "data": {
      "text/html": [
       "<table>\n",
       "<thead><tr><th scope=col>input</th><th scope=col>target</th><th scope=col>name</th><th scope=col>ID</th></tr></thead>\n",
       "<tbody>\n",
       "\t<tr><td>NM_001006932</td><td>ILMN_1702501</td><td>RPS6KA2     </td><td>cg00278517  </td></tr>\n",
       "\t<tr><td>NM_001006932</td><td>ILMN_1702501</td><td>RPS6KA2     </td><td>cg08109681  </td></tr>\n",
       "\t<tr><td>NM_003745   </td><td>ILMN_1774733</td><td>SOCS1       </td><td>cg03014241  </td></tr>\n",
       "\t<tr><td>NM_212481   </td><td>ILMN_2415157</td><td>ARID5A      </td><td>cg04722215  </td></tr>\n",
       "\t<tr><td>NM_001006932</td><td>ILMN_1702501</td><td>RPS6KA2     </td><td>cg00278517  </td></tr>\n",
       "\t<tr><td>NM_001006932</td><td>ILMN_1702501</td><td>RPS6KA2     </td><td>cg08109681  </td></tr>\n",
       "\t<tr><td>NM_021135   </td><td>ILMN_1702501</td><td>RPS6KA2     </td><td>cg08109681  </td></tr>\n",
       "\t<tr><td>NM_003597   </td><td>ILMN_1673207</td><td>KLF11       </td><td>cg18825594  </td></tr>\n",
       "\t<tr><td>NM_003597   </td><td>ILMN_1782983</td><td>KLF11       </td><td>cg18825594  </td></tr>\n",
       "</tbody>\n",
       "</table>\n"
      ],
      "text/latex": [
       "\\begin{tabular}{r|llll}\n",
       " input & target & name & ID\\\\\n",
       "\\hline\n",
       "\t NM\\_001006932 & ILMN\\_1702501 & RPS6KA2        & cg00278517    \\\\\n",
       "\t NM\\_001006932 & ILMN\\_1702501 & RPS6KA2        & cg08109681    \\\\\n",
       "\t NM\\_003745    & ILMN\\_1774733 & SOCS1          & cg03014241    \\\\\n",
       "\t NM\\_212481    & ILMN\\_2415157 & ARID5A         & cg04722215    \\\\\n",
       "\t NM\\_001006932 & ILMN\\_1702501 & RPS6KA2        & cg00278517    \\\\\n",
       "\t NM\\_001006932 & ILMN\\_1702501 & RPS6KA2        & cg08109681    \\\\\n",
       "\t NM\\_021135    & ILMN\\_1702501 & RPS6KA2        & cg08109681    \\\\\n",
       "\t NM\\_003597    & ILMN\\_1673207 & KLF11          & cg18825594    \\\\\n",
       "\t NM\\_003597    & ILMN\\_1782983 & KLF11          & cg18825594    \\\\\n",
       "\\end{tabular}\n"
      ],
      "text/markdown": [
       "\n",
       "| input | target | name | ID |\n",
       "|---|---|---|---|\n",
       "| NM_001006932 | ILMN_1702501 | RPS6KA2      | cg00278517   |\n",
       "| NM_001006932 | ILMN_1702501 | RPS6KA2      | cg08109681   |\n",
       "| NM_003745    | ILMN_1774733 | SOCS1        | cg03014241   |\n",
       "| NM_212481    | ILMN_2415157 | ARID5A       | cg04722215   |\n",
       "| NM_001006932 | ILMN_1702501 | RPS6KA2      | cg00278517   |\n",
       "| NM_001006932 | ILMN_1702501 | RPS6KA2      | cg08109681   |\n",
       "| NM_021135    | ILMN_1702501 | RPS6KA2      | cg08109681   |\n",
       "| NM_003597    | ILMN_1673207 | KLF11        | cg18825594   |\n",
       "| NM_003597    | ILMN_1782983 | KLF11        | cg18825594   |\n",
       "\n"
      ],
      "text/plain": [
       "  input        target       name    ID        \n",
       "1 NM_001006932 ILMN_1702501 RPS6KA2 cg00278517\n",
       "2 NM_001006932 ILMN_1702501 RPS6KA2 cg08109681\n",
       "3 NM_003745    ILMN_1774733 SOCS1   cg03014241\n",
       "4 NM_212481    ILMN_2415157 ARID5A  cg04722215\n",
       "5 NM_001006932 ILMN_1702501 RPS6KA2 cg00278517\n",
       "6 NM_001006932 ILMN_1702501 RPS6KA2 cg08109681\n",
       "7 NM_021135    ILMN_1702501 RPS6KA2 cg08109681\n",
       "8 NM_003597    ILMN_1673207 KLF11   cg18825594\n",
       "9 NM_003597    ILMN_1782983 KLF11   cg18825594"
      ]
     },
     "metadata": {},
     "output_type": "display_data"
    }
   ],
   "source": [
    "cd4_anno_selected"
   ]
  },
  {
   "cell_type": "code",
   "execution_count": 96,
   "metadata": {},
   "outputs": [
    {
     "data": {
      "text/html": [
       "<table>\n",
       "<thead><tr><th></th><th scope=col>ILMN_1702501</th><th scope=col>ILMN_1774733</th><th scope=col>ILMN_2415157</th><th scope=col>ILMN_1673207</th><th scope=col>ILMN_1782983</th></tr></thead>\n",
       "<tbody>\n",
       "\t<tr><th scope=row>GSM1848135</th><td>5.274709</td><td>6.237749</td><td>5.822172</td><td>5.812649</td><td>4.411962</td></tr>\n",
       "\t<tr><th scope=row>GSM1848136</th><td>4.950417</td><td>5.304016</td><td>5.188688</td><td>5.643818</td><td>4.382054</td></tr>\n",
       "\t<tr><th scope=row>GSM1848137</th><td>4.320105</td><td>4.575799</td><td>4.644114</td><td>5.058216</td><td>4.413359</td></tr>\n",
       "\t<tr><th scope=row>GSM1848138</th><td>4.317128</td><td>7.097592</td><td>5.302331</td><td>5.505367</td><td>5.027821</td></tr>\n",
       "\t<tr><th scope=row>GSM1848139</th><td>5.090345</td><td>5.925700</td><td>5.835750</td><td>5.631124</td><td>4.364255</td></tr>\n",
       "\t<tr><th scope=row>GSM1848140</th><td>4.766525</td><td>5.499136</td><td>5.249782</td><td>5.569375</td><td>4.475754</td></tr>\n",
       "</tbody>\n",
       "</table>\n"
      ],
      "text/latex": [
       "\\begin{tabular}{r|lllll}\n",
       "  & ILMN\\_1702501 & ILMN\\_1774733 & ILMN\\_2415157 & ILMN\\_1673207 & ILMN\\_1782983\\\\\n",
       "\\hline\n",
       "\tGSM1848135 & 5.274709 & 6.237749 & 5.822172 & 5.812649 & 4.411962\\\\\n",
       "\tGSM1848136 & 4.950417 & 5.304016 & 5.188688 & 5.643818 & 4.382054\\\\\n",
       "\tGSM1848137 & 4.320105 & 4.575799 & 4.644114 & 5.058216 & 4.413359\\\\\n",
       "\tGSM1848138 & 4.317128 & 7.097592 & 5.302331 & 5.505367 & 5.027821\\\\\n",
       "\tGSM1848139 & 5.090345 & 5.925700 & 5.835750 & 5.631124 & 4.364255\\\\\n",
       "\tGSM1848140 & 4.766525 & 5.499136 & 5.249782 & 5.569375 & 4.475754\\\\\n",
       "\\end{tabular}\n"
      ],
      "text/markdown": [
       "\n",
       "| <!--/--> | ILMN_1702501 | ILMN_1774733 | ILMN_2415157 | ILMN_1673207 | ILMN_1782983 |\n",
       "|---|---|---|---|---|---|\n",
       "| GSM1848135 | 5.274709 | 6.237749 | 5.822172 | 5.812649 | 4.411962 |\n",
       "| GSM1848136 | 4.950417 | 5.304016 | 5.188688 | 5.643818 | 4.382054 |\n",
       "| GSM1848137 | 4.320105 | 4.575799 | 4.644114 | 5.058216 | 4.413359 |\n",
       "| GSM1848138 | 4.317128 | 7.097592 | 5.302331 | 5.505367 | 5.027821 |\n",
       "| GSM1848139 | 5.090345 | 5.925700 | 5.835750 | 5.631124 | 4.364255 |\n",
       "| GSM1848140 | 4.766525 | 5.499136 | 5.249782 | 5.569375 | 4.475754 |\n",
       "\n"
      ],
      "text/plain": [
       "           ILMN_1702501 ILMN_1774733 ILMN_2415157 ILMN_1673207 ILMN_1782983\n",
       "GSM1848135 5.274709     6.237749     5.822172     5.812649     4.411962    \n",
       "GSM1848136 4.950417     5.304016     5.188688     5.643818     4.382054    \n",
       "GSM1848137 4.320105     4.575799     4.644114     5.058216     4.413359    \n",
       "GSM1848138 4.317128     7.097592     5.302331     5.505367     5.027821    \n",
       "GSM1848139 5.090345     5.925700     5.835750     5.631124     4.364255    \n",
       "GSM1848140 4.766525     5.499136     5.249782     5.569375     4.475754    "
      ]
     },
     "metadata": {},
     "output_type": "display_data"
    },
    {
     "name": "stderr",
     "output_type": "stream",
     "text": [
      "Warning message in ID == colnames(cd4_meth_both):\n",
      "\"długość dłuszego obiektu nie jest wielokrotnością długości krótszego obiektu\""
     ]
    },
    {
     "data": {
      "text/html": [
       "<table>\n",
       "<thead><tr><th></th><th scope=col>ILMN_1702501</th><th scope=col>ILMN_1702501</th><th scope=col>ILMN_1774733</th><th scope=col>ILMN_2415157</th><th scope=col>ILMN_1702501</th></tr></thead>\n",
       "<tbody>\n",
       "\t<tr><th scope=row>GSM1847992</th><td>0.4734909 </td><td>0.28505674</td><td>0.2090005 </td><td>0.2757364 </td><td>0.3434822 </td></tr>\n",
       "\t<tr><th scope=row>GSM1847993</th><td>0.5687090 </td><td>0.09896093</td><td>0.1178048 </td><td>0.1767087 </td><td>0.2787679 </td></tr>\n",
       "\t<tr><th scope=row>GSM1847994</th><td>0.5864801 </td><td>0.28105626</td><td>0.2806463 </td><td>0.3338618 </td><td>0.3929762 </td></tr>\n",
       "\t<tr><th scope=row>GSM1847995</th><td>0.4977508 </td><td>0.26305208</td><td>0.2373052 </td><td>0.2866298 </td><td>0.3234270 </td></tr>\n",
       "\t<tr><th scope=row>GSM1847996</th><td>0.6137593 </td><td>0.35970426</td><td>0.3001462 </td><td>0.2412977 </td><td>0.3713220 </td></tr>\n",
       "\t<tr><th scope=row>GSM1847997</th><td>0.5986472 </td><td>0.24169998</td><td>0.2047115 </td><td>0.1710810 </td><td>0.1956442 </td></tr>\n",
       "</tbody>\n",
       "</table>\n"
      ],
      "text/latex": [
       "\\begin{tabular}{r|lllll}\n",
       "  & ILMN\\_1702501 & ILMN\\_1702501 & ILMN\\_1774733 & ILMN\\_2415157 & ILMN\\_1702501\\\\\n",
       "\\hline\n",
       "\tGSM1847992 & 0.4734909  & 0.28505674 & 0.2090005  & 0.2757364  & 0.3434822 \\\\\n",
       "\tGSM1847993 & 0.5687090  & 0.09896093 & 0.1178048  & 0.1767087  & 0.2787679 \\\\\n",
       "\tGSM1847994 & 0.5864801  & 0.28105626 & 0.2806463  & 0.3338618  & 0.3929762 \\\\\n",
       "\tGSM1847995 & 0.4977508  & 0.26305208 & 0.2373052  & 0.2866298  & 0.3234270 \\\\\n",
       "\tGSM1847996 & 0.6137593  & 0.35970426 & 0.3001462  & 0.2412977  & 0.3713220 \\\\\n",
       "\tGSM1847997 & 0.5986472  & 0.24169998 & 0.2047115  & 0.1710810  & 0.1956442 \\\\\n",
       "\\end{tabular}\n"
      ],
      "text/markdown": [
       "\n",
       "| <!--/--> | ILMN_1702501 | ILMN_1702501 | ILMN_1774733 | ILMN_2415157 | ILMN_1702501 |\n",
       "|---|---|---|---|---|---|\n",
       "| GSM1847992 | 0.4734909  | 0.28505674 | 0.2090005  | 0.2757364  | 0.3434822  |\n",
       "| GSM1847993 | 0.5687090  | 0.09896093 | 0.1178048  | 0.1767087  | 0.2787679  |\n",
       "| GSM1847994 | 0.5864801  | 0.28105626 | 0.2806463  | 0.3338618  | 0.3929762  |\n",
       "| GSM1847995 | 0.4977508  | 0.26305208 | 0.2373052  | 0.2866298  | 0.3234270  |\n",
       "| GSM1847996 | 0.6137593  | 0.35970426 | 0.3001462  | 0.2412977  | 0.3713220  |\n",
       "| GSM1847997 | 0.5986472  | 0.24169998 | 0.2047115  | 0.1710810  | 0.1956442  |\n",
       "\n"
      ],
      "text/plain": [
       "           ILMN_1702501 ILMN_1702501 ILMN_1774733 ILMN_2415157 ILMN_1702501\n",
       "GSM1847992 0.4734909    0.28505674   0.2090005    0.2757364    0.3434822   \n",
       "GSM1847993 0.5687090    0.09896093   0.1178048    0.1767087    0.2787679   \n",
       "GSM1847994 0.5864801    0.28105626   0.2806463    0.3338618    0.3929762   \n",
       "GSM1847995 0.4977508    0.26305208   0.2373052    0.2866298    0.3234270   \n",
       "GSM1847996 0.6137593    0.35970426   0.3001462    0.2412977    0.3713220   \n",
       "GSM1847997 0.5986472    0.24169998   0.2047115    0.1710810    0.1956442   "
      ]
     },
     "metadata": {},
     "output_type": "display_data"
    }
   ],
   "source": [
    "cd4_expr_both <- as.data.frame(t(cd4_expr))\n",
    "head(cd4_expr_both %>% select(cd4_anno_selected$target))\n",
    "\n",
    "cd4_meth_both <- as.data.frame(t(cd4_mat))\n",
    "cd4_meth_both <- cd4_meth_both %>% select(cd4_anno_selected$ID)\n",
    "\n",
    "colnames(cd4_meth_both) <- (cd4_anno_selected %>% filter(ID == colnames(cd4_meth_both)) %>%\n",
    "                           select(target))$target\n",
    "\n",
    "head(cd4_meth_both)"
   ]
  },
  {
   "cell_type": "code",
   "execution_count": 97,
   "metadata": {},
   "outputs": [],
   "source": [
    "cd4_meth_both_gathered <- as.data.frame(cd4_meth_both) %>% gather(\"sample\", \"meth_value\")\n",
    "cd4_expr_both_gathered <- as.data.frame(cd4_expr_both) %>% gather(\"sample\", \"expr_value\")"
   ]
  },
  {
   "cell_type": "code",
   "execution_count": 98,
   "metadata": {},
   "outputs": [
    {
     "data": {
      "text/html": [
       "<table>\n",
       "<thead><tr><th scope=col>ILMN_1702501</th><th scope=col>ILMN_1702501</th><th scope=col>sample</th><th scope=col>meth_value</th></tr></thead>\n",
       "<tbody>\n",
       "\t<tr><td>0.28505674  </td><td>0.3434822   </td><td>ILMN_1702501</td><td>0.4734909   </td></tr>\n",
       "\t<tr><td>0.09896093  </td><td>0.2787679   </td><td>ILMN_1702501</td><td>0.5687090   </td></tr>\n",
       "\t<tr><td>0.28105626  </td><td>0.3929762   </td><td>ILMN_1702501</td><td>0.5864801   </td></tr>\n",
       "\t<tr><td>0.26305208  </td><td>0.3234270   </td><td>ILMN_1702501</td><td>0.4977508   </td></tr>\n",
       "\t<tr><td>0.35970426  </td><td>0.3713220   </td><td>ILMN_1702501</td><td>0.6137593   </td></tr>\n",
       "\t<tr><td>0.24169998  </td><td>0.1956442   </td><td>ILMN_1702501</td><td>0.5986472   </td></tr>\n",
       "</tbody>\n",
       "</table>\n"
      ],
      "text/latex": [
       "\\begin{tabular}{r|llll}\n",
       " ILMN\\_1702501 & ILMN\\_1702501 & sample & meth\\_value\\\\\n",
       "\\hline\n",
       "\t 0.28505674     & 0.3434822      & ILMN\\_1702501 & 0.4734909     \\\\\n",
       "\t 0.09896093     & 0.2787679      & ILMN\\_1702501 & 0.5687090     \\\\\n",
       "\t 0.28105626     & 0.3929762      & ILMN\\_1702501 & 0.5864801     \\\\\n",
       "\t 0.26305208     & 0.3234270      & ILMN\\_1702501 & 0.4977508     \\\\\n",
       "\t 0.35970426     & 0.3713220      & ILMN\\_1702501 & 0.6137593     \\\\\n",
       "\t 0.24169998     & 0.1956442      & ILMN\\_1702501 & 0.5986472     \\\\\n",
       "\\end{tabular}\n"
      ],
      "text/markdown": [
       "\n",
       "| ILMN_1702501 | ILMN_1702501 | sample | meth_value |\n",
       "|---|---|---|---|\n",
       "| 0.28505674   | 0.3434822    | ILMN_1702501 | 0.4734909    |\n",
       "| 0.09896093   | 0.2787679    | ILMN_1702501 | 0.5687090    |\n",
       "| 0.28105626   | 0.3929762    | ILMN_1702501 | 0.5864801    |\n",
       "| 0.26305208   | 0.3234270    | ILMN_1702501 | 0.4977508    |\n",
       "| 0.35970426   | 0.3713220    | ILMN_1702501 | 0.6137593    |\n",
       "| 0.24169998   | 0.1956442    | ILMN_1702501 | 0.5986472    |\n",
       "\n"
      ],
      "text/plain": [
       "  ILMN_1702501 ILMN_1702501 sample       meth_value\n",
       "1 0.28505674   0.3434822    ILMN_1702501 0.4734909 \n",
       "2 0.09896093   0.2787679    ILMN_1702501 0.5687090 \n",
       "3 0.28105626   0.3929762    ILMN_1702501 0.5864801 \n",
       "4 0.26305208   0.3234270    ILMN_1702501 0.4977508 \n",
       "5 0.35970426   0.3713220    ILMN_1702501 0.6137593 \n",
       "6 0.24169998   0.1956442    ILMN_1702501 0.5986472 "
      ]
     },
     "metadata": {},
     "output_type": "display_data"
    },
    {
     "data": {
      "text/html": [
       "<table>\n",
       "<thead><tr><th scope=col>sample</th><th scope=col>expr_value</th></tr></thead>\n",
       "<tbody>\n",
       "\t<tr><td>ILMN_1651262</td><td>8.512601    </td></tr>\n",
       "\t<tr><td>ILMN_1651262</td><td>8.422841    </td></tr>\n",
       "\t<tr><td>ILMN_1651262</td><td>7.859521    </td></tr>\n",
       "\t<tr><td>ILMN_1651262</td><td>8.538718    </td></tr>\n",
       "\t<tr><td>ILMN_1651262</td><td>8.272984    </td></tr>\n",
       "\t<tr><td>ILMN_1651262</td><td>8.291457    </td></tr>\n",
       "</tbody>\n",
       "</table>\n"
      ],
      "text/latex": [
       "\\begin{tabular}{r|ll}\n",
       " sample & expr\\_value\\\\\n",
       "\\hline\n",
       "\t ILMN\\_1651262 & 8.512601      \\\\\n",
       "\t ILMN\\_1651262 & 8.422841      \\\\\n",
       "\t ILMN\\_1651262 & 7.859521      \\\\\n",
       "\t ILMN\\_1651262 & 8.538718      \\\\\n",
       "\t ILMN\\_1651262 & 8.272984      \\\\\n",
       "\t ILMN\\_1651262 & 8.291457      \\\\\n",
       "\\end{tabular}\n"
      ],
      "text/markdown": [
       "\n",
       "| sample | expr_value |\n",
       "|---|---|\n",
       "| ILMN_1651262 | 8.512601     |\n",
       "| ILMN_1651262 | 8.422841     |\n",
       "| ILMN_1651262 | 7.859521     |\n",
       "| ILMN_1651262 | 8.538718     |\n",
       "| ILMN_1651262 | 8.272984     |\n",
       "| ILMN_1651262 | 8.291457     |\n",
       "\n"
      ],
      "text/plain": [
       "  sample       expr_value\n",
       "1 ILMN_1651262 8.512601  \n",
       "2 ILMN_1651262 8.422841  \n",
       "3 ILMN_1651262 7.859521  \n",
       "4 ILMN_1651262 8.538718  \n",
       "5 ILMN_1651262 8.272984  \n",
       "6 ILMN_1651262 8.291457  "
      ]
     },
     "metadata": {},
     "output_type": "display_data"
    }
   ],
   "source": [
    "head(cd4_meth_both_gathered)\n",
    "head(cd4_expr_both_gathered)"
   ]
  },
  {
   "cell_type": "code",
   "execution_count": 99,
   "metadata": {},
   "outputs": [
    {
     "name": "stderr",
     "output_type": "stream",
     "text": [
      "Joining, by = \"sample\""
     ]
    }
   ],
   "source": [
    "cd4_correlation <- cd4_meth_both_gathered[c(-1,-2)] %>% inner_join(cd4_expr_both_gathered)"
   ]
  },
  {
   "cell_type": "code",
   "execution_count": 100,
   "metadata": {},
   "outputs": [
    {
     "data": {
      "image/png": "[encoded data removed]",
      "text/plain": [
       "plot without title"
      ]
     },
     "metadata": {},
     "output_type": "display_data"
    }
   ],
   "source": [
    "ggplot(cd4_correlation, aes(x=meth_value, y=expr_value)) + geom_point()\n"
   ]
  },
  {
   "cell_type": "code",
   "execution_count": 189,
   "metadata": {},
   "outputs": [
    {
     "data": {
      "text/html": [
       "<ol class=list-inline>\n",
       "\t<li>'ILMN_1712719'</li>\n",
       "\t<li>'ILMN_1748473'</li>\n",
       "\t<li>'ILMN_1783645'</li>\n",
       "\t<li>'ILMN_2414325'</li>\n",
       "\t<li>'ILMN_1799848'</li>\n",
       "\t<li>'ILMN_2132599'</li>\n",
       "\t<li>'ILMN_1739454'</li>\n",
       "\t<li>'ILMN_3236866'</li>\n",
       "\t<li>'ILMN_1705183'</li>\n",
       "\t<li>'ILMN_1804170'</li>\n",
       "\t<li>'ILMN_1761921'</li>\n",
       "\t<li>'ILMN_2275399'</li>\n",
       "\t<li>'ILMN_1801246'</li>\n",
       "\t<li>'ILMN_1671678'</li>\n",
       "\t<li>'ILMN_3185278'</li>\n",
       "\t<li>'ILMN_1732926'</li>\n",
       "\t<li>'ILMN_1911196'</li>\n",
       "\t<li>'ILMN_3310890'</li>\n",
       "\t<li>'ILMN_1785141'</li>\n",
       "\t<li>'ILMN_1664410'</li>\n",
       "\t<li>'ILMN_1678145'</li>\n",
       "\t<li>'ILMN_3308148'</li>\n",
       "\t<li>'ILMN_1673330'</li>\n",
       "\t<li>'ILMN_3310426'</li>\n",
       "\t<li>'ILMN_2361324'</li>\n",
       "\t<li>'ILMN_1788531'</li>\n",
       "\t<li>'ILMN_1769433'</li>\n",
       "\t<li>'ILMN_1749269'</li>\n",
       "\t<li>'ILMN_1757827'</li>\n",
       "\t<li>'ILMN_1660541'</li>\n",
       "\t<li>'ILMN_1743290'</li>\n",
       "\t<li>'ILMN_1731049'</li>\n",
       "\t<li>'ILMN_1761262'</li>\n",
       "\t<li>'ILMN_1664691'</li>\n",
       "\t<li>'ILMN_1682495'</li>\n",
       "\t<li>'ILMN_1782230'</li>\n",
       "\t<li>'ILMN_2053992'</li>\n",
       "\t<li>'ILMN_1674838'</li>\n",
       "\t<li>'ILMN_1780898'</li>\n",
       "\t<li>'ILMN_1727288'</li>\n",
       "\t<li>'ILMN_1701248'</li>\n",
       "\t<li>'ILMN_1742001'</li>\n",
       "\t<li>'ILMN_1771695'</li>\n",
       "\t<li>'ILMN_1696702'</li>\n",
       "\t<li>'ILMN_2252495'</li>\n",
       "\t<li>'ILMN_1695418'</li>\n",
       "\t<li>'ILMN_1657891'</li>\n",
       "\t<li>'ILMN_1888609'</li>\n",
       "\t<li>'ILMN_2390609'</li>\n",
       "\t<li>'ILMN_1752668'</li>\n",
       "\t<li>'ILMN_1732049'</li>\n",
       "\t<li>'ILMN_1711681'</li>\n",
       "\t<li>'ILMN_2221066'</li>\n",
       "\t<li>'ILMN_1708130'</li>\n",
       "\t<li>'ILMN_1725427'</li>\n",
       "\t<li>'ILMN_2148459'</li>\n",
       "\t<li>'ILMN_1815205'</li>\n",
       "\t<li>'ILMN_2162972'</li>\n",
       "\t<li>'ILMN_1749629'</li>\n",
       "\t<li>'ILMN_1777017'</li>\n",
       "\t<li>'ILMN_1731231'</li>\n",
       "\t<li>'ILMN_1727602'</li>\n",
       "\t<li>'ILMN_1747744'</li>\n",
       "\t<li>'ILMN_1751656'</li>\n",
       "\t<li>'ILMN_1809259'</li>\n",
       "\t<li>'ILMN_1736836'</li>\n",
       "\t<li>'ILMN_1729487'</li>\n",
       "\t<li>'ILMN_2248863'</li>\n",
       "\t<li>'ILMN_1781381'</li>\n",
       "\t<li>'ILMN_1765872'</li>\n",
       "\t<li>'ILMN_3229324'</li>\n",
       "\t<li>'ILMN_3305938'</li>\n",
       "\t<li>'ILMN_1747223'</li>\n",
       "\t<li>'ILMN_1671933'</li>\n",
       "\t<li>'ILMN_1716264'</li>\n",
       "\t<li>'ILMN_1790555'</li>\n",
       "\t<li>'ILMN_1711102'</li>\n",
       "\t<li>'ILMN_2108699'</li>\n",
       "\t<li>'ILMN_1706957'</li>\n",
       "\t<li>'ILMN_1675848'</li>\n",
       "</ol>\n"
      ],
      "text/latex": [
       "\\begin{enumerate*}\n",
       "\\item 'ILMN\\_1712719'\n",
       "\\item 'ILMN\\_1748473'\n",
       "\\item 'ILMN\\_1783645'\n",
       "\\item 'ILMN\\_2414325'\n",
       "\\item 'ILMN\\_1799848'\n",
       "\\item 'ILMN\\_2132599'\n",
       "\\item 'ILMN\\_1739454'\n",
       "\\item 'ILMN\\_3236866'\n",
       "\\item 'ILMN\\_1705183'\n",
       "\\item 'ILMN\\_1804170'\n",
       "\\item 'ILMN\\_1761921'\n",
       "\\item 'ILMN\\_2275399'\n",
       "\\item 'ILMN\\_1801246'\n",
       "\\item 'ILMN\\_1671678'\n",
       "\\item 'ILMN\\_3185278'\n",
       "\\item 'ILMN\\_1732926'\n",
       "\\item 'ILMN\\_1911196'\n",
       "\\item 'ILMN\\_3310890'\n",
       "\\item 'ILMN\\_1785141'\n",
       "\\item 'ILMN\\_1664410'\n",
       "\\item 'ILMN\\_1678145'\n",
       "\\item 'ILMN\\_3308148'\n",
       "\\item 'ILMN\\_1673330'\n",
       "\\item 'ILMN\\_3310426'\n",
       "\\item 'ILMN\\_2361324'\n",
       "\\item 'ILMN\\_1788531'\n",
       "\\item 'ILMN\\_1769433'\n",
       "\\item 'ILMN\\_1749269'\n",
       "\\item 'ILMN\\_1757827'\n",
       "\\item 'ILMN\\_1660541'\n",
       "\\item 'ILMN\\_1743290'\n",
       "\\item 'ILMN\\_1731049'\n",
       "\\item 'ILMN\\_1761262'\n",
       "\\item 'ILMN\\_1664691'\n",
       "\\item 'ILMN\\_1682495'\n",
       "\\item 'ILMN\\_1782230'\n",
       "\\item 'ILMN\\_2053992'\n",
       "\\item 'ILMN\\_1674838'\n",
       "\\item 'ILMN\\_1780898'\n",
       "\\item 'ILMN\\_1727288'\n",
       "\\item 'ILMN\\_1701248'\n",
       "\\item 'ILMN\\_1742001'\n",
       "\\item 'ILMN\\_1771695'\n",
       "\\item 'ILMN\\_1696702'\n",
       "\\item 'ILMN\\_2252495'\n",
       "\\item 'ILMN\\_1695418'\n",
       "\\item 'ILMN\\_1657891'\n",
       "\\item 'ILMN\\_1888609'\n",
       "\\item 'ILMN\\_2390609'\n",
       "\\item 'ILMN\\_1752668'\n",
       "\\item 'ILMN\\_1732049'\n",
       "\\item 'ILMN\\_1711681'\n",
       "\\item 'ILMN\\_2221066'\n",
       "\\item 'ILMN\\_1708130'\n",
       "\\item 'ILMN\\_1725427'\n",
       "\\item 'ILMN\\_2148459'\n",
       "\\item 'ILMN\\_1815205'\n",
       "\\item 'ILMN\\_2162972'\n",
       "\\item 'ILMN\\_1749629'\n",
       "\\item 'ILMN\\_1777017'\n",
       "\\item 'ILMN\\_1731231'\n",
       "\\item 'ILMN\\_1727602'\n",
       "\\item 'ILMN\\_1747744'\n",
       "\\item 'ILMN\\_1751656'\n",
       "\\item 'ILMN\\_1809259'\n",
       "\\item 'ILMN\\_1736836'\n",
       "\\item 'ILMN\\_1729487'\n",
       "\\item 'ILMN\\_2248863'\n",
       "\\item 'ILMN\\_1781381'\n",
       "\\item 'ILMN\\_1765872'\n",
       "\\item 'ILMN\\_3229324'\n",
       "\\item 'ILMN\\_3305938'\n",
       "\\item 'ILMN\\_1747223'\n",
       "\\item 'ILMN\\_1671933'\n",
       "\\item 'ILMN\\_1716264'\n",
       "\\item 'ILMN\\_1790555'\n",
       "\\item 'ILMN\\_1711102'\n",
       "\\item 'ILMN\\_2108699'\n",
       "\\item 'ILMN\\_1706957'\n",
       "\\item 'ILMN\\_1675848'\n",
       "\\end{enumerate*}\n"
      ],
      "text/markdown": [
       "1. 'ILMN_1712719'\n",
       "2. 'ILMN_1748473'\n",
       "3. 'ILMN_1783645'\n",
       "4. 'ILMN_2414325'\n",
       "5. 'ILMN_1799848'\n",
       "6. 'ILMN_2132599'\n",
       "7. 'ILMN_1739454'\n",
       "8. 'ILMN_3236866'\n",
       "9. 'ILMN_1705183'\n",
       "10. 'ILMN_1804170'\n",
       "11. 'ILMN_1761921'\n",
       "12. 'ILMN_2275399'\n",
       "13. 'ILMN_1801246'\n",
       "14. 'ILMN_1671678'\n",
       "15. 'ILMN_3185278'\n",
       "16. 'ILMN_1732926'\n",
       "17. 'ILMN_1911196'\n",
       "18. 'ILMN_3310890'\n",
       "19. 'ILMN_1785141'\n",
       "20. 'ILMN_1664410'\n",
       "21. 'ILMN_1678145'\n",
       "22. 'ILMN_3308148'\n",
       "23. 'ILMN_1673330'\n",
       "24. 'ILMN_3310426'\n",
       "25. 'ILMN_2361324'\n",
       "26. 'ILMN_1788531'\n",
       "27. 'ILMN_1769433'\n",
       "28. 'ILMN_1749269'\n",
       "29. 'ILMN_1757827'\n",
       "30. 'ILMN_1660541'\n",
       "31. 'ILMN_1743290'\n",
       "32. 'ILMN_1731049'\n",
       "33. 'ILMN_1761262'\n",
       "34. 'ILMN_1664691'\n",
       "35. 'ILMN_1682495'\n",
       "36. 'ILMN_1782230'\n",
       "37. 'ILMN_2053992'\n",
       "38. 'ILMN_1674838'\n",
       "39. 'ILMN_1780898'\n",
       "40. 'ILMN_1727288'\n",
       "41. 'ILMN_1701248'\n",
       "42. 'ILMN_1742001'\n",
       "43. 'ILMN_1771695'\n",
       "44. 'ILMN_1696702'\n",
       "45. 'ILMN_2252495'\n",
       "46. 'ILMN_1695418'\n",
       "47. 'ILMN_1657891'\n",
       "48. 'ILMN_1888609'\n",
       "49. 'ILMN_2390609'\n",
       "50. 'ILMN_1752668'\n",
       "51. 'ILMN_1732049'\n",
       "52. 'ILMN_1711681'\n",
       "53. 'ILMN_2221066'\n",
       "54. 'ILMN_1708130'\n",
       "55. 'ILMN_1725427'\n",
       "56. 'ILMN_2148459'\n",
       "57. 'ILMN_1815205'\n",
       "58. 'ILMN_2162972'\n",
       "59. 'ILMN_1749629'\n",
       "60. 'ILMN_1777017'\n",
       "61. 'ILMN_1731231'\n",
       "62. 'ILMN_1727602'\n",
       "63. 'ILMN_1747744'\n",
       "64. 'ILMN_1751656'\n",
       "65. 'ILMN_1809259'\n",
       "66. 'ILMN_1736836'\n",
       "67. 'ILMN_1729487'\n",
       "68. 'ILMN_2248863'\n",
       "69. 'ILMN_1781381'\n",
       "70. 'ILMN_1765872'\n",
       "71. 'ILMN_3229324'\n",
       "72. 'ILMN_3305938'\n",
       "73. 'ILMN_1747223'\n",
       "74. 'ILMN_1671933'\n",
       "75. 'ILMN_1716264'\n",
       "76. 'ILMN_1790555'\n",
       "77. 'ILMN_1711102'\n",
       "78. 'ILMN_2108699'\n",
       "79. 'ILMN_1706957'\n",
       "80. 'ILMN_1675848'\n",
       "\n",
       "\n"
      ],
      "text/plain": [
       " [1] \"ILMN_1712719\" \"ILMN_1748473\" \"ILMN_1783645\" \"ILMN_2414325\" \"ILMN_1799848\"\n",
       " [6] \"ILMN_2132599\" \"ILMN_1739454\" \"ILMN_3236866\" \"ILMN_1705183\" \"ILMN_1804170\"\n",
       "[11] \"ILMN_1761921\" \"ILMN_2275399\" \"ILMN_1801246\" \"ILMN_1671678\" \"ILMN_3185278\"\n",
       "[16] \"ILMN_1732926\" \"ILMN_1911196\" \"ILMN_3310890\" \"ILMN_1785141\" \"ILMN_1664410\"\n",
       "[21] \"ILMN_1678145\" \"ILMN_3308148\" \"ILMN_1673330\" \"ILMN_3310426\" \"ILMN_2361324\"\n",
       "[26] \"ILMN_1788531\" \"ILMN_1769433\" \"ILMN_1749269\" \"ILMN_1757827\" \"ILMN_1660541\"\n",
       "[31] \"ILMN_1743290\" \"ILMN_1731049\" \"ILMN_1761262\" \"ILMN_1664691\" \"ILMN_1682495\"\n",
       "[36] \"ILMN_1782230\" \"ILMN_2053992\" \"ILMN_1674838\" \"ILMN_1780898\" \"ILMN_1727288\"\n",
       "[41] \"ILMN_1701248\" \"ILMN_1742001\" \"ILMN_1771695\" \"ILMN_1696702\" \"ILMN_2252495\"\n",
       "[46] \"ILMN_1695418\" \"ILMN_1657891\" \"ILMN_1888609\" \"ILMN_2390609\" \"ILMN_1752668\"\n",
       "[51] \"ILMN_1732049\" \"ILMN_1711681\" \"ILMN_2221066\" \"ILMN_1708130\" \"ILMN_1725427\"\n",
       "[56] \"ILMN_2148459\" \"ILMN_1815205\" \"ILMN_2162972\" \"ILMN_1749629\" \"ILMN_1777017\"\n",
       "[61] \"ILMN_1731231\" \"ILMN_1727602\" \"ILMN_1747744\" \"ILMN_1751656\" \"ILMN_1809259\"\n",
       "[66] \"ILMN_1736836\" \"ILMN_1729487\" \"ILMN_2248863\" \"ILMN_1781381\" \"ILMN_1765872\"\n",
       "[71] \"ILMN_3229324\" \"ILMN_3305938\" \"ILMN_1747223\" \"ILMN_1671933\" \"ILMN_1716264\"\n",
       "[76] \"ILMN_1790555\" \"ILMN_1711102\" \"ILMN_2108699\" \"ILMN_1706957\" \"ILMN_1675848\""
      ]
     },
     "metadata": {},
     "output_type": "display_data"
    },
    {
     "data": {
      "text/html": [
       "80"
      ],
      "text/latex": [
       "80"
      ],
      "text/markdown": [
       "80"
      ],
      "text/plain": [
       "[1] 80"
      ]
     },
     "metadata": {},
     "output_type": "display_data"
    }
   ],
   "source": [
    "cd8_meth_genes <- gconvert(cd8_anno$UCSC_RefGene_Accession, target=\"ILLUMINA_HUMANHT_12_V4\")$target\n",
    "cd8_expr_genes <- cd8_expr_anno$ID\n",
    "cd8_both <- intersect(cd8_meth_genes, cd8_expr_genes)\n",
    "cd8_both\n",
    "length(cd8_both)"
   ]
  },
  {
   "cell_type": "code",
   "execution_count": null,
   "metadata": {},
   "outputs": [],
   "source": []
  }
 ],
 "metadata": {
  "kernelspec": {
   "display_name": "R",
   "language": "R",
   "name": "ir"
  },
  "language_info": {
   "codemirror_mode": "r",
   "file_extension": ".r",
   "mimetype": "text/x-r-source",
   "name": "R",
   "pygments_lexer": "r",
   "version": "3.6.1"
  }
 },
 "nbformat": 4,
 "nbformat_minor": 2
}
