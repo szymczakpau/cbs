{
 "cells": [
  {
   "cell_type": "code",
   "execution_count": 36,
   "metadata": {},
   "outputs": [
    {
     "name": "stderr",
     "output_type": "stream",
     "text": [
      "Bioconductor version 3.10 (BiocManager 1.30.10), R 3.6.1 (2019-07-05)\n",
      "Installing package(s) 'missMDA'\n",
      "also installing the dependencies 'zip', 'ucminf', 'SparseM', 'MatrixModels', 'sp', 'openxlsx', 'ordinal', 'carData', 'abind', 'pbkrtest', 'quantreg', 'maptools', 'rio', 'pan', 'jomo', 'car', 'ellipse', 'flashClust', 'leaps', 'scatterplot3d', 'mitml', 'FactoMineR', 'mice'\n",
      "\n",
      "Updating HTML index of packages in '.Library'\n",
      "Making 'packages.html' ... done\n",
      "Old packages: 'BH', 'bibtex', 'BiocParallel', 'bit', 'blob', 'boot', 'broom',\n",
      "  'callr', 'caTools', 'data.table', 'DBI', 'doRNG', 'evaluate', 'farver',\n",
      "  'foreign', 'future', 'future.apply', 'GenomicFeatures', 'ggridges', 'gh',\n",
      "  'gmp', 'gplots', 'gRain', 'gRbase', 'Gviz', 'hms', 'IRanges', 'IRkernel',\n",
      "  'knitr', 'leiden', 'limma', 'loo', 'MASS', 'metap', 'mime', 'missMethyl',\n",
      "  'multcomp', 'mvtnorm', 'nlme', 'pkgmaker', 'prettyunits', 'RcppArmadillo',\n",
      "  'RCurl', 'Rdpack', 'repr', 'reticulate', 'Rhtslib', 'rlang', 'rmarkdown',\n",
      "  'rngtools', 'RSQLite', 'S4Vectors', 'sctransform', 'tidyr', 'tidyselect',\n",
      "  'tinytex', 'vctrs', 'xfun', 'XML', 'zoo'\n"
     ]
    }
   ],
   "source": [
    "BiocManager::install(\"clusterProfiler\")\n",
    "# install.packages(\"devtools\")"
   ]
  },
  {
   "cell_type": "code",
   "execution_count": 1,
   "metadata": {},
   "outputs": [
    {
     "name": "stderr",
     "output_type": "stream",
     "text": [
      "Loading required package: GEOquery\n",
      "Loading required package: Biobase\n",
      "Loading required package: BiocGenerics\n",
      "Loading required package: parallel\n",
      "\n",
      "Attaching package: ‘BiocGenerics’\n",
      "\n",
      "The following objects are masked from ‘package:parallel’:\n",
      "\n",
      "    clusterApply, clusterApplyLB, clusterCall, clusterEvalQ,\n",
      "    clusterExport, clusterMap, parApply, parCapply, parLapply,\n",
      "    parLapplyLB, parRapply, parSapply, parSapplyLB\n",
      "\n",
      "The following objects are masked from ‘package:stats’:\n",
      "\n",
      "    IQR, mad, sd, var, xtabs\n",
      "\n",
      "The following objects are masked from ‘package:base’:\n",
      "\n",
      "    anyDuplicated, append, as.data.frame, basename, cbind, colnames,\n",
      "    dirname, do.call, duplicated, eval, evalq, Filter, Find, get, grep,\n",
      "    grepl, intersect, is.unsorted, lapply, Map, mapply, match, mget,\n",
      "    order, paste, pmax, pmax.int, pmin, pmin.int, Position, rank,\n",
      "    rbind, Reduce, rownames, sapply, setdiff, sort, table, tapply,\n",
      "    union, unique, unsplit, which, which.max, which.min\n",
      "\n",
      "Welcome to Bioconductor\n",
      "\n",
      "    Vignettes contain introductory material; view with\n",
      "    'browseVignettes()'. To cite Bioconductor, see\n",
      "    'citation(\"Biobase\")', and for packages 'citation(\"pkgname\")'.\n",
      "\n",
      "Setting options('download.file.method.GEOquery'='auto')\n",
      "Setting options('GEOquery.inmemory.gpl'=FALSE)\n",
      "Loading required package: data.table\n",
      "Loading required package: impute\n",
      "Loading required package: tidyverse\n",
      "── Attaching packages ─────────────────────────────────────── tidyverse 1.3.0 ──\n",
      "✔ ggplot2 3.2.1     ✔ purrr   0.3.3\n",
      "✔ tibble  2.1.3     ✔ dplyr   0.8.3\n",
      "✔ tidyr   1.0.0     ✔ stringr 1.4.0\n",
      "✔ readr   1.3.1     ✔ forcats 0.4.0\n",
      "── Conflicts ────────────────────────────────────────── tidyverse_conflicts() ──\n",
      "✖ dplyr::between()    masks data.table::between()\n",
      "✖ dplyr::combine()    masks Biobase::combine(), BiocGenerics::combine()\n",
      "✖ dplyr::filter()     masks stats::filter()\n",
      "✖ dplyr::first()      masks data.table::first()\n",
      "✖ dplyr::lag()        masks stats::lag()\n",
      "✖ dplyr::last()       masks data.table::last()\n",
      "✖ ggplot2::Position() masks BiocGenerics::Position(), base::Position()\n",
      "✖ purrr::transpose()  masks data.table::transpose()\n",
      "Loading required package: minfi\n",
      "Loading required package: GenomicRanges\n",
      "Loading required package: stats4\n",
      "Loading required package: S4Vectors\n",
      "\n",
      "Attaching package: ‘S4Vectors’\n",
      "\n",
      "The following objects are masked from ‘package:dplyr’:\n",
      "\n",
      "    first, rename\n",
      "\n",
      "The following object is masked from ‘package:tidyr’:\n",
      "\n",
      "    expand\n",
      "\n",
      "The following objects are masked from ‘package:data.table’:\n",
      "\n",
      "    first, second\n",
      "\n",
      "The following object is masked from ‘package:base’:\n",
      "\n",
      "    expand.grid\n",
      "\n",
      "Loading required package: IRanges\n",
      "\n",
      "Attaching package: ‘IRanges’\n",
      "\n",
      "The following objects are masked from ‘package:dplyr’:\n",
      "\n",
      "    collapse, desc, slice\n",
      "\n",
      "The following object is masked from ‘package:purrr’:\n",
      "\n",
      "    reduce\n",
      "\n",
      "The following object is masked from ‘package:data.table’:\n",
      "\n",
      "    shift\n",
      "\n",
      "Loading required package: GenomeInfoDb\n",
      "Loading required package: SummarizedExperiment\n",
      "Loading required package: DelayedArray\n",
      "Loading required package: matrixStats\n",
      "\n",
      "Attaching package: ‘matrixStats’\n",
      "\n",
      "The following object is masked from ‘package:dplyr’:\n",
      "\n",
      "    count\n",
      "\n",
      "The following objects are masked from ‘package:Biobase’:\n",
      "\n",
      "    anyMissing, rowMedians\n",
      "\n",
      "Loading required package: BiocParallel\n",
      "\n",
      "Attaching package: ‘DelayedArray’\n",
      "\n",
      "The following objects are masked from ‘package:matrixStats’:\n",
      "\n",
      "    colMaxs, colMins, colRanges, rowMaxs, rowMins, rowRanges\n",
      "\n",
      "The following object is masked from ‘package:purrr’:\n",
      "\n",
      "    simplify\n",
      "\n",
      "The following objects are masked from ‘package:base’:\n",
      "\n",
      "    aperm, apply, rowsum\n",
      "\n",
      "Loading required package: Biostrings\n",
      "Loading required package: XVector\n",
      "\n",
      "Attaching package: ‘XVector’\n",
      "\n",
      "The following object is masked from ‘package:purrr’:\n",
      "\n",
      "    compact\n",
      "\n",
      "\n",
      "Attaching package: ‘Biostrings’\n",
      "\n",
      "The following object is masked from ‘package:base’:\n",
      "\n",
      "    strsplit\n",
      "\n",
      "Loading required package: bumphunter\n",
      "Loading required package: foreach\n",
      "\n",
      "Attaching package: ‘foreach’\n",
      "\n",
      "The following objects are masked from ‘package:purrr’:\n",
      "\n",
      "    accumulate, when\n",
      "\n",
      "Loading required package: iterators\n",
      "Loading required package: locfit\n",
      "locfit 1.5-9.1 \t 2013-03-22\n",
      "Loading required package: Gviz\n",
      "Loading required package: grid\n",
      "Loading required package: missMethyl\n",
      "\n",
      "\n",
      "Loading required package: limma\n",
      "\n",
      "Attaching package: 'limma'\n",
      "\n",
      "The following object is masked from 'package:BiocGenerics':\n",
      "\n",
      "    plotMA\n",
      "\n",
      "Loading required package: seqlm\n",
      "Loading required package: sva\n",
      "Loading required package: mgcv\n",
      "Loading required package: nlme\n",
      "\n",
      "Attaching package: 'nlme'\n",
      "\n",
      "The following object is masked from 'package:Biostrings':\n",
      "\n",
      "    collapse\n",
      "\n",
      "The following object is masked from 'package:IRanges':\n",
      "\n",
      "    collapse\n",
      "\n",
      "The following object is masked from 'package:dplyr':\n",
      "\n",
      "    collapse\n",
      "\n",
      "This is mgcv 1.8-31. For overview type 'help(\"mgcv-package\")'.\n",
      "Loading required package: genefilter\n",
      "\n",
      "Attaching package: 'genefilter'\n",
      "\n",
      "The following objects are masked from 'package:matrixStats':\n",
      "\n",
      "    rowSds, rowVars\n",
      "\n",
      "The following object is masked from 'package:readr':\n",
      "\n",
      "    spec\n",
      "\n",
      "Loading required package: gprofiler2\n",
      "Loading required package: GOsummaries\n",
      "Loading required package: Rcpp\n",
      "Loading required package: missMDA\n"
     ]
    }
   ],
   "source": [
    "require(GEOquery) # this can cause some issues with different R version\n",
    "require(data.table)\n",
    "require(impute)\n",
    "require(tidyverse)\n",
    "require(minfi)\n",
    "require(Gviz)\n",
    "require(missMethyl)\n",
    "require(limma)\n",
    "require(seqlm)\n",
    "require(sva)\n",
    "require(gprofiler2)\n",
    "require(GOsummaries)\n",
    "require(missMDA)"
   ]
  },
  {
   "cell_type": "code",
   "execution_count": 2,
   "metadata": {},
   "outputs": [
    {
     "name": "stderr",
     "output_type": "stream",
     "text": [
      "Found 1 file(s)\n",
      "GSE71955_series_matrix.txt.gz\n",
      "Using locally cached version: ./GSE71955_series_matrix.txt.gz\n",
      "Parsed with column specification:\n",
      "cols(\n",
      "  .default = col_double(),\n",
      "  ID_REF = col_character()\n",
      ")\n",
      "See spec(...) for full column specifications.\n",
      "Using locally cached version of GPL13534 found here:\n",
      "./GPL13534.soft \n",
      "Warning message:\n",
      "\"65 parsing failures.\n",
      "   row     col           expected     actual         file\n",
      "485513 SPOT_ID 1/0/T/F/TRUE/FALSE rs10796216 literal data\n",
      "485514 SPOT_ID 1/0/T/F/TRUE/FALSE rs715359   literal data\n",
      "485515 SPOT_ID 1/0/T/F/TRUE/FALSE rs1040870  literal data\n",
      "485516 SPOT_ID 1/0/T/F/TRUE/FALSE rs10936224 literal data\n",
      "485517 SPOT_ID 1/0/T/F/TRUE/FALSE rs213028   literal data\n",
      "...... ....... .................. .......... ............\n",
      "See problems(...) for more details.\n",
      "\""
     ]
    }
   ],
   "source": [
    "#Loading a GDS file with GEOquery\n",
    "met <- getGEO('GSE71955', destdir=\".\", GSEMatrix= TRUE)"
   ]
  },
  {
   "cell_type": "markdown",
   "metadata": {},
   "source": [
    "## Parsing the data"
   ]
  },
  {
   "cell_type": "code",
   "execution_count": 3,
   "metadata": {
    "scrolled": true
   },
   "outputs": [
    {
     "data": {
      "text/plain": [
       "$GSE71955_series_matrix.txt.gz\n",
       "ExpressionSet (storageMode: lockedEnvironment)\n",
       "assayData: 390142 features, 135 samples \n",
       "  element names: exprs \n",
       "protocolData: none\n",
       "phenoData\n",
       "  sampleNames: GSM1847992 GSM1847993 ... GSM1848134 (135 total)\n",
       "  varLabels: title geo_accession ... tissue:ch1 (41 total)\n",
       "  varMetadata: labelDescription\n",
       "featureData\n",
       "  featureNames: cg00000029 cg00000108 ... ch.X.97737721F (390142 total)\n",
       "  fvarLabels: ID Name ... SPOT_ID (37 total)\n",
       "  fvarMetadata: Column Description labelDescription\n",
       "experimentData: use 'experimentData(object)'\n",
       "  pubMedIds: 26459776 \n",
       "Annotation: GPL13534 \n"
      ]
     },
     "metadata": {},
     "output_type": "display_data"
    }
   ],
   "source": [
    "met"
   ]
  },
  {
   "cell_type": "code",
   "execution_count": 4,
   "metadata": {},
   "outputs": [],
   "source": [
    "key <- data.table(pData(met[[1]]))\n",
    "mat <- as.matrix(exprs(met[[1]]))\n",
    "anno <- data.table(fData(met[[1]]))"
   ]
  },
  {
   "cell_type": "code",
   "execution_count": 5,
   "metadata": {},
   "outputs": [],
   "source": [
    "# This part just checks if the sample information is in correct order\n",
    "stopifnot(colnames(mat)==key$geo_accession)\n",
    "stopifnot(rownames(mat)==anno$ID)"
   ]
  },
  {
   "cell_type": "code",
   "execution_count": 6,
   "metadata": {},
   "outputs": [
    {
     "data": {
      "text/html": [
       "<ol class=list-inline>\n",
       "\t<li>135</li>\n",
       "\t<li>41</li>\n",
       "</ol>\n"
      ],
      "text/latex": [
       "\\begin{enumerate*}\n",
       "\\item 135\n",
       "\\item 41\n",
       "\\end{enumerate*}\n"
      ],
      "text/markdown": [
       "1. 135\n",
       "2. 41\n",
       "\n",
       "\n"
      ],
      "text/plain": [
       "[1] 135  41"
      ]
     },
     "metadata": {},
     "output_type": "display_data"
    },
    {
     "data": {
      "text/html": [
       "<ol class=list-inline>\n",
       "\t<li>390142</li>\n",
       "\t<li>135</li>\n",
       "</ol>\n"
      ],
      "text/latex": [
       "\\begin{enumerate*}\n",
       "\\item 390142\n",
       "\\item 135\n",
       "\\end{enumerate*}\n"
      ],
      "text/markdown": [
       "1. 390142\n",
       "2. 135\n",
       "\n",
       "\n"
      ],
      "text/plain": [
       "[1] 390142    135"
      ]
     },
     "metadata": {},
     "output_type": "display_data"
    },
    {
     "data": {
      "text/html": [
       "<ol class=list-inline>\n",
       "\t<li>390142</li>\n",
       "\t<li>37</li>\n",
       "</ol>\n"
      ],
      "text/latex": [
       "\\begin{enumerate*}\n",
       "\\item 390142\n",
       "\\item 37\n",
       "\\end{enumerate*}\n"
      ],
      "text/markdown": [
       "1. 390142\n",
       "2. 37\n",
       "\n",
       "\n"
      ],
      "text/plain": [
       "[1] 390142     37"
      ]
     },
     "metadata": {},
     "output_type": "display_data"
    }
   ],
   "source": [
    "dim(key)\n",
    "dim(mat)\n",
    "dim(anno)"
   ]
  },
  {
   "cell_type": "code",
   "execution_count": 7,
   "metadata": {},
   "outputs": [
    {
     "data": {
      "text/html": [
       "<table>\n",
       "<thead><tr><th scope=col>title</th><th scope=col>geo_accession</th><th scope=col>status</th><th scope=col>submission_date</th><th scope=col>last_update_date</th><th scope=col>type</th><th scope=col>channel_count</th><th scope=col>source_name_ch1</th><th scope=col>organism_ch1</th><th scope=col>characteristics_ch1</th><th scope=col>...</th><th scope=col>contact_zip/postal_code</th><th scope=col>contact_country</th><th scope=col>supplementary_file</th><th scope=col>supplementary_file.1</th><th scope=col>data_row_count</th><th scope=col>age:ch1</th><th scope=col>cell type:ch1</th><th scope=col>diagnosis:ch1</th><th scope=col>gender:ch1</th><th scope=col>tissue:ch1</th></tr></thead>\n",
       "<tbody>\n",
       "\t<tr><td>gDNA_CD4_Control_rep1                                                                                      </td><td>GSM1847992                                                                                                 </td><td>Public on Nov 06 2015                                                                                      </td><td>Aug 11 2015                                                                                                </td><td>Nov 06 2015                                                                                                </td><td>genomic                                                                                                    </td><td>1                                                                                                          </td><td>Genomic DNA, CD4 cells, healthy control                                                                    </td><td>Homo sapiens                                                                                               </td><td>tissue: blood                                                                                              </td><td>...                                                                                                        </td><td>50411                                                                                                      </td><td>Estonia                                                                                                    </td><td>ftp://ftp.ncbi.nlm.nih.gov/geo/samples/GSM1847nnn/GSM1847992/suppl/GSM1847992_9407210137_R02C02_Grn.idat.gz</td><td>ftp://ftp.ncbi.nlm.nih.gov/geo/samples/GSM1847nnn/GSM1847992/suppl/GSM1847992_9407210137_R02C02_Red.idat.gz</td><td>390142                                                                                                     </td><td>54                                                                                                         </td><td>CD4 T cells                                                                                                </td><td>Healthy                                                                                                    </td><td>Female                                                                                                     </td><td>blood                                                                                                      </td></tr>\n",
       "\t<tr><td>gDNA_CD4_Control_rep2                                                                                      </td><td>GSM1847993                                                                                                 </td><td>Public on Nov 06 2015                                                                                      </td><td>Aug 11 2015                                                                                                </td><td>Nov 06 2015                                                                                                </td><td>genomic                                                                                                    </td><td>1                                                                                                          </td><td>Genomic DNA, CD4 cells, healthy control                                                                    </td><td>Homo sapiens                                                                                               </td><td>tissue: blood                                                                                              </td><td>...                                                                                                        </td><td>50411                                                                                                      </td><td>Estonia                                                                                                    </td><td>ftp://ftp.ncbi.nlm.nih.gov/geo/samples/GSM1847nnn/GSM1847993/suppl/GSM1847993_9407210137_R02C01_Grn.idat.gz</td><td>ftp://ftp.ncbi.nlm.nih.gov/geo/samples/GSM1847nnn/GSM1847993/suppl/GSM1847993_9407210137_R02C01_Red.idat.gz</td><td>390142                                                                                                     </td><td>37                                                                                                         </td><td>CD4 T cells                                                                                                </td><td>Healthy                                                                                                    </td><td>Female                                                                                                     </td><td>blood                                                                                                      </td></tr>\n",
       "\t<tr><td>gDNA_CD4_Control_rep3                                                                                      </td><td>GSM1847994                                                                                                 </td><td>Public on Nov 06 2015                                                                                      </td><td>Aug 11 2015                                                                                                </td><td>Nov 06 2015                                                                                                </td><td>genomic                                                                                                    </td><td>1                                                                                                          </td><td>Genomic DNA, CD4 cells, healthy control                                                                    </td><td>Homo sapiens                                                                                               </td><td>tissue: blood                                                                                              </td><td>...                                                                                                        </td><td>50411                                                                                                      </td><td>Estonia                                                                                                    </td><td>ftp://ftp.ncbi.nlm.nih.gov/geo/samples/GSM1847nnn/GSM1847994/suppl/GSM1847994_9407210103_R02C02_Grn.idat.gz</td><td>ftp://ftp.ncbi.nlm.nih.gov/geo/samples/GSM1847nnn/GSM1847994/suppl/GSM1847994_9407210103_R02C02_Red.idat.gz</td><td>390142                                                                                                     </td><td>38                                                                                                         </td><td>CD4 T cells                                                                                                </td><td>Healthy                                                                                                    </td><td>Female                                                                                                     </td><td>blood                                                                                                      </td></tr>\n",
       "\t<tr><td>gDNA_CD4_Control_rep4                                                                                      </td><td>GSM1847995                                                                                                 </td><td>Public on Nov 06 2015                                                                                      </td><td>Aug 11 2015                                                                                                </td><td>Nov 06 2015                                                                                                </td><td>genomic                                                                                                    </td><td>1                                                                                                          </td><td>Genomic DNA, CD4 cells, healthy control                                                                    </td><td>Homo sapiens                                                                                               </td><td>tissue: blood                                                                                              </td><td>...                                                                                                        </td><td>50411                                                                                                      </td><td>Estonia                                                                                                    </td><td>ftp://ftp.ncbi.nlm.nih.gov/geo/samples/GSM1847nnn/GSM1847995/suppl/GSM1847995_9407210103_R02C01_Grn.idat.gz</td><td>ftp://ftp.ncbi.nlm.nih.gov/geo/samples/GSM1847nnn/GSM1847995/suppl/GSM1847995_9407210103_R02C01_Red.idat.gz</td><td>390142                                                                                                     </td><td>49                                                                                                         </td><td>CD4 T cells                                                                                                </td><td>Healthy                                                                                                    </td><td>Female                                                                                                     </td><td>blood                                                                                                      </td></tr>\n",
       "\t<tr><td>gDNA_CD4_Control_rep5                                                                                      </td><td>GSM1847996                                                                                                 </td><td>Public on Nov 06 2015                                                                                      </td><td>Aug 11 2015                                                                                                </td><td>Nov 06 2015                                                                                                </td><td>genomic                                                                                                    </td><td>1                                                                                                          </td><td>Genomic DNA, CD4 cells, healthy control                                                                    </td><td>Homo sapiens                                                                                               </td><td>tissue: blood                                                                                              </td><td>...                                                                                                        </td><td>50411                                                                                                      </td><td>Estonia                                                                                                    </td><td>ftp://ftp.ncbi.nlm.nih.gov/geo/samples/GSM1847nnn/GSM1847996/suppl/GSM1847996_9407210105_R02C02_Grn.idat.gz</td><td>ftp://ftp.ncbi.nlm.nih.gov/geo/samples/GSM1847nnn/GSM1847996/suppl/GSM1847996_9407210105_R02C02_Red.idat.gz</td><td>390142                                                                                                     </td><td>37                                                                                                         </td><td>CD4 T cells                                                                                                </td><td>Healthy                                                                                                    </td><td>Female                                                                                                     </td><td>blood                                                                                                      </td></tr>\n",
       "\t<tr><td>gDNA_CD4_Control_rep6                                                                                      </td><td>GSM1847997                                                                                                 </td><td>Public on Nov 06 2015                                                                                      </td><td>Aug 11 2015                                                                                                </td><td>Nov 06 2015                                                                                                </td><td>genomic                                                                                                    </td><td>1                                                                                                          </td><td>Genomic DNA, CD4 cells, healthy control                                                                    </td><td>Homo sapiens                                                                                               </td><td>tissue: blood                                                                                              </td><td>...                                                                                                        </td><td>50411                                                                                                      </td><td>Estonia                                                                                                    </td><td>ftp://ftp.ncbi.nlm.nih.gov/geo/samples/GSM1847nnn/GSM1847997/suppl/GSM1847997_9407210105_R02C01_Grn.idat.gz</td><td>ftp://ftp.ncbi.nlm.nih.gov/geo/samples/GSM1847nnn/GSM1847997/suppl/GSM1847997_9407210105_R02C01_Red.idat.gz</td><td>390142                                                                                                     </td><td>51                                                                                                         </td><td>CD4 T cells                                                                                                </td><td>Healthy                                                                                                    </td><td>Female                                                                                                     </td><td>blood                                                                                                      </td></tr>\n",
       "</tbody>\n",
       "</table>\n"
      ],
      "text/latex": [
       "\\begin{tabular}{r|lllllllllllllllllllllllllllllllllllllllll}\n",
       " title & geo\\_accession & status & submission\\_date & last\\_update\\_date & type & channel\\_count & source\\_name\\_ch1 & organism\\_ch1 & characteristics\\_ch1 & ... & contact\\_zip/postal\\_code & contact\\_country & supplementary\\_file & supplementary\\_file.1 & data\\_row\\_count & age:ch1 & cell type:ch1 & diagnosis:ch1 & gender:ch1 & tissue:ch1\\\\\n",
       "\\hline\n",
       "\t gDNA\\_CD4\\_Control\\_rep1                                                                                       & GSM1847992                                                                                                        & Public on Nov 06 2015                                                                                             & Aug 11 2015                                                                                                       & Nov 06 2015                                                                                                       & genomic                                                                                                           & 1                                                                                                                 & Genomic DNA, CD4 cells, healthy control                                                                           & Homo sapiens                                                                                                      & tissue: blood                                                                                                     & ...                                                                                                               & 50411                                                                                                             & Estonia                                                                                                           & ftp://ftp.ncbi.nlm.nih.gov/geo/samples/GSM1847nnn/GSM1847992/suppl/GSM1847992\\_9407210137\\_R02C02\\_Grn.idat.gz & ftp://ftp.ncbi.nlm.nih.gov/geo/samples/GSM1847nnn/GSM1847992/suppl/GSM1847992\\_9407210137\\_R02C02\\_Red.idat.gz & 390142                                                                                                            & 54                                                                                                                & CD4 T cells                                                                                                       & Healthy                                                                                                           & Female                                                                                                            & blood                                                                                                            \\\\\n",
       "\t gDNA\\_CD4\\_Control\\_rep2                                                                                       & GSM1847993                                                                                                        & Public on Nov 06 2015                                                                                             & Aug 11 2015                                                                                                       & Nov 06 2015                                                                                                       & genomic                                                                                                           & 1                                                                                                                 & Genomic DNA, CD4 cells, healthy control                                                                           & Homo sapiens                                                                                                      & tissue: blood                                                                                                     & ...                                                                                                               & 50411                                                                                                             & Estonia                                                                                                           & ftp://ftp.ncbi.nlm.nih.gov/geo/samples/GSM1847nnn/GSM1847993/suppl/GSM1847993\\_9407210137\\_R02C01\\_Grn.idat.gz & ftp://ftp.ncbi.nlm.nih.gov/geo/samples/GSM1847nnn/GSM1847993/suppl/GSM1847993\\_9407210137\\_R02C01\\_Red.idat.gz & 390142                                                                                                            & 37                                                                                                                & CD4 T cells                                                                                                       & Healthy                                                                                                           & Female                                                                                                            & blood                                                                                                            \\\\\n",
       "\t gDNA\\_CD4\\_Control\\_rep3                                                                                       & GSM1847994                                                                                                        & Public on Nov 06 2015                                                                                             & Aug 11 2015                                                                                                       & Nov 06 2015                                                                                                       & genomic                                                                                                           & 1                                                                                                                 & Genomic DNA, CD4 cells, healthy control                                                                           & Homo sapiens                                                                                                      & tissue: blood                                                                                                     & ...                                                                                                               & 50411                                                                                                             & Estonia                                                                                                           & ftp://ftp.ncbi.nlm.nih.gov/geo/samples/GSM1847nnn/GSM1847994/suppl/GSM1847994\\_9407210103\\_R02C02\\_Grn.idat.gz & ftp://ftp.ncbi.nlm.nih.gov/geo/samples/GSM1847nnn/GSM1847994/suppl/GSM1847994\\_9407210103\\_R02C02\\_Red.idat.gz & 390142                                                                                                            & 38                                                                                                                & CD4 T cells                                                                                                       & Healthy                                                                                                           & Female                                                                                                            & blood                                                                                                            \\\\\n",
       "\t gDNA\\_CD4\\_Control\\_rep4                                                                                       & GSM1847995                                                                                                        & Public on Nov 06 2015                                                                                             & Aug 11 2015                                                                                                       & Nov 06 2015                                                                                                       & genomic                                                                                                           & 1                                                                                                                 & Genomic DNA, CD4 cells, healthy control                                                                           & Homo sapiens                                                                                                      & tissue: blood                                                                                                     & ...                                                                                                               & 50411                                                                                                             & Estonia                                                                                                           & ftp://ftp.ncbi.nlm.nih.gov/geo/samples/GSM1847nnn/GSM1847995/suppl/GSM1847995\\_9407210103\\_R02C01\\_Grn.idat.gz & ftp://ftp.ncbi.nlm.nih.gov/geo/samples/GSM1847nnn/GSM1847995/suppl/GSM1847995\\_9407210103\\_R02C01\\_Red.idat.gz & 390142                                                                                                            & 49                                                                                                                & CD4 T cells                                                                                                       & Healthy                                                                                                           & Female                                                                                                            & blood                                                                                                            \\\\\n",
       "\t gDNA\\_CD4\\_Control\\_rep5                                                                                       & GSM1847996                                                                                                        & Public on Nov 06 2015                                                                                             & Aug 11 2015                                                                                                       & Nov 06 2015                                                                                                       & genomic                                                                                                           & 1                                                                                                                 & Genomic DNA, CD4 cells, healthy control                                                                           & Homo sapiens                                                                                                      & tissue: blood                                                                                                     & ...                                                                                                               & 50411                                                                                                             & Estonia                                                                                                           & ftp://ftp.ncbi.nlm.nih.gov/geo/samples/GSM1847nnn/GSM1847996/suppl/GSM1847996\\_9407210105\\_R02C02\\_Grn.idat.gz & ftp://ftp.ncbi.nlm.nih.gov/geo/samples/GSM1847nnn/GSM1847996/suppl/GSM1847996\\_9407210105\\_R02C02\\_Red.idat.gz & 390142                                                                                                            & 37                                                                                                                & CD4 T cells                                                                                                       & Healthy                                                                                                           & Female                                                                                                            & blood                                                                                                            \\\\\n",
       "\t gDNA\\_CD4\\_Control\\_rep6                                                                                       & GSM1847997                                                                                                        & Public on Nov 06 2015                                                                                             & Aug 11 2015                                                                                                       & Nov 06 2015                                                                                                       & genomic                                                                                                           & 1                                                                                                                 & Genomic DNA, CD4 cells, healthy control                                                                           & Homo sapiens                                                                                                      & tissue: blood                                                                                                     & ...                                                                                                               & 50411                                                                                                             & Estonia                                                                                                           & ftp://ftp.ncbi.nlm.nih.gov/geo/samples/GSM1847nnn/GSM1847997/suppl/GSM1847997\\_9407210105\\_R02C01\\_Grn.idat.gz & ftp://ftp.ncbi.nlm.nih.gov/geo/samples/GSM1847nnn/GSM1847997/suppl/GSM1847997\\_9407210105\\_R02C01\\_Red.idat.gz & 390142                                                                                                            & 51                                                                                                                & CD4 T cells                                                                                                       & Healthy                                                                                                           & Female                                                                                                            & blood                                                                                                            \\\\\n",
       "\\end{tabular}\n"
      ],
      "text/markdown": [
       "\n",
       "| title | geo_accession | status | submission_date | last_update_date | type | channel_count | source_name_ch1 | organism_ch1 | characteristics_ch1 | ... | contact_zip/postal_code | contact_country | supplementary_file | supplementary_file.1 | data_row_count | age:ch1 | cell type:ch1 | diagnosis:ch1 | gender:ch1 | tissue:ch1 |\n",
       "|---|---|---|---|---|---|---|---|---|---|---|---|---|---|---|---|---|---|---|---|---|\n",
       "| gDNA_CD4_Control_rep1                                                                                       | GSM1847992                                                                                                  | Public on Nov 06 2015                                                                                       | Aug 11 2015                                                                                                 | Nov 06 2015                                                                                                 | genomic                                                                                                     | 1                                                                                                           | Genomic DNA, CD4 cells, healthy control                                                                     | Homo sapiens                                                                                                | tissue: blood                                                                                               | ...                                                                                                         | 50411                                                                                                       | Estonia                                                                                                     | ftp://ftp.ncbi.nlm.nih.gov/geo/samples/GSM1847nnn/GSM1847992/suppl/GSM1847992_9407210137_R02C02_Grn.idat.gz | ftp://ftp.ncbi.nlm.nih.gov/geo/samples/GSM1847nnn/GSM1847992/suppl/GSM1847992_9407210137_R02C02_Red.idat.gz | 390142                                                                                                      | 54                                                                                                          | CD4 T cells                                                                                                 | Healthy                                                                                                     | Female                                                                                                      | blood                                                                                                       |\n",
       "| gDNA_CD4_Control_rep2                                                                                       | GSM1847993                                                                                                  | Public on Nov 06 2015                                                                                       | Aug 11 2015                                                                                                 | Nov 06 2015                                                                                                 | genomic                                                                                                     | 1                                                                                                           | Genomic DNA, CD4 cells, healthy control                                                                     | Homo sapiens                                                                                                | tissue: blood                                                                                               | ...                                                                                                         | 50411                                                                                                       | Estonia                                                                                                     | ftp://ftp.ncbi.nlm.nih.gov/geo/samples/GSM1847nnn/GSM1847993/suppl/GSM1847993_9407210137_R02C01_Grn.idat.gz | ftp://ftp.ncbi.nlm.nih.gov/geo/samples/GSM1847nnn/GSM1847993/suppl/GSM1847993_9407210137_R02C01_Red.idat.gz | 390142                                                                                                      | 37                                                                                                          | CD4 T cells                                                                                                 | Healthy                                                                                                     | Female                                                                                                      | blood                                                                                                       |\n",
       "| gDNA_CD4_Control_rep3                                                                                       | GSM1847994                                                                                                  | Public on Nov 06 2015                                                                                       | Aug 11 2015                                                                                                 | Nov 06 2015                                                                                                 | genomic                                                                                                     | 1                                                                                                           | Genomic DNA, CD4 cells, healthy control                                                                     | Homo sapiens                                                                                                | tissue: blood                                                                                               | ...                                                                                                         | 50411                                                                                                       | Estonia                                                                                                     | ftp://ftp.ncbi.nlm.nih.gov/geo/samples/GSM1847nnn/GSM1847994/suppl/GSM1847994_9407210103_R02C02_Grn.idat.gz | ftp://ftp.ncbi.nlm.nih.gov/geo/samples/GSM1847nnn/GSM1847994/suppl/GSM1847994_9407210103_R02C02_Red.idat.gz | 390142                                                                                                      | 38                                                                                                          | CD4 T cells                                                                                                 | Healthy                                                                                                     | Female                                                                                                      | blood                                                                                                       |\n",
       "| gDNA_CD4_Control_rep4                                                                                       | GSM1847995                                                                                                  | Public on Nov 06 2015                                                                                       | Aug 11 2015                                                                                                 | Nov 06 2015                                                                                                 | genomic                                                                                                     | 1                                                                                                           | Genomic DNA, CD4 cells, healthy control                                                                     | Homo sapiens                                                                                                | tissue: blood                                                                                               | ...                                                                                                         | 50411                                                                                                       | Estonia                                                                                                     | ftp://ftp.ncbi.nlm.nih.gov/geo/samples/GSM1847nnn/GSM1847995/suppl/GSM1847995_9407210103_R02C01_Grn.idat.gz | ftp://ftp.ncbi.nlm.nih.gov/geo/samples/GSM1847nnn/GSM1847995/suppl/GSM1847995_9407210103_R02C01_Red.idat.gz | 390142                                                                                                      | 49                                                                                                          | CD4 T cells                                                                                                 | Healthy                                                                                                     | Female                                                                                                      | blood                                                                                                       |\n",
       "| gDNA_CD4_Control_rep5                                                                                       | GSM1847996                                                                                                  | Public on Nov 06 2015                                                                                       | Aug 11 2015                                                                                                 | Nov 06 2015                                                                                                 | genomic                                                                                                     | 1                                                                                                           | Genomic DNA, CD4 cells, healthy control                                                                     | Homo sapiens                                                                                                | tissue: blood                                                                                               | ...                                                                                                         | 50411                                                                                                       | Estonia                                                                                                     | ftp://ftp.ncbi.nlm.nih.gov/geo/samples/GSM1847nnn/GSM1847996/suppl/GSM1847996_9407210105_R02C02_Grn.idat.gz | ftp://ftp.ncbi.nlm.nih.gov/geo/samples/GSM1847nnn/GSM1847996/suppl/GSM1847996_9407210105_R02C02_Red.idat.gz | 390142                                                                                                      | 37                                                                                                          | CD4 T cells                                                                                                 | Healthy                                                                                                     | Female                                                                                                      | blood                                                                                                       |\n",
       "| gDNA_CD4_Control_rep6                                                                                       | GSM1847997                                                                                                  | Public on Nov 06 2015                                                                                       | Aug 11 2015                                                                                                 | Nov 06 2015                                                                                                 | genomic                                                                                                     | 1                                                                                                           | Genomic DNA, CD4 cells, healthy control                                                                     | Homo sapiens                                                                                                | tissue: blood                                                                                               | ...                                                                                                         | 50411                                                                                                       | Estonia                                                                                                     | ftp://ftp.ncbi.nlm.nih.gov/geo/samples/GSM1847nnn/GSM1847997/suppl/GSM1847997_9407210105_R02C01_Grn.idat.gz | ftp://ftp.ncbi.nlm.nih.gov/geo/samples/GSM1847nnn/GSM1847997/suppl/GSM1847997_9407210105_R02C01_Red.idat.gz | 390142                                                                                                      | 51                                                                                                          | CD4 T cells                                                                                                 | Healthy                                                                                                     | Female                                                                                                      | blood                                                                                                       |\n",
       "\n"
      ],
      "text/plain": [
       "  title                 geo_accession status                submission_date\n",
       "1 gDNA_CD4_Control_rep1 GSM1847992    Public on Nov 06 2015 Aug 11 2015    \n",
       "2 gDNA_CD4_Control_rep2 GSM1847993    Public on Nov 06 2015 Aug 11 2015    \n",
       "3 gDNA_CD4_Control_rep3 GSM1847994    Public on Nov 06 2015 Aug 11 2015    \n",
       "4 gDNA_CD4_Control_rep4 GSM1847995    Public on Nov 06 2015 Aug 11 2015    \n",
       "5 gDNA_CD4_Control_rep5 GSM1847996    Public on Nov 06 2015 Aug 11 2015    \n",
       "6 gDNA_CD4_Control_rep6 GSM1847997    Public on Nov 06 2015 Aug 11 2015    \n",
       "  last_update_date type    channel_count\n",
       "1 Nov 06 2015      genomic 1            \n",
       "2 Nov 06 2015      genomic 1            \n",
       "3 Nov 06 2015      genomic 1            \n",
       "4 Nov 06 2015      genomic 1            \n",
       "5 Nov 06 2015      genomic 1            \n",
       "6 Nov 06 2015      genomic 1            \n",
       "  source_name_ch1                         organism_ch1 characteristics_ch1 ...\n",
       "1 Genomic DNA, CD4 cells, healthy control Homo sapiens tissue: blood       ...\n",
       "2 Genomic DNA, CD4 cells, healthy control Homo sapiens tissue: blood       ...\n",
       "3 Genomic DNA, CD4 cells, healthy control Homo sapiens tissue: blood       ...\n",
       "4 Genomic DNA, CD4 cells, healthy control Homo sapiens tissue: blood       ...\n",
       "5 Genomic DNA, CD4 cells, healthy control Homo sapiens tissue: blood       ...\n",
       "6 Genomic DNA, CD4 cells, healthy control Homo sapiens tissue: blood       ...\n",
       "  contact_zip/postal_code contact_country\n",
       "1 50411                   Estonia        \n",
       "2 50411                   Estonia        \n",
       "3 50411                   Estonia        \n",
       "4 50411                   Estonia        \n",
       "5 50411                   Estonia        \n",
       "6 50411                   Estonia        \n",
       "  supplementary_file                                                                                         \n",
       "1 ftp://ftp.ncbi.nlm.nih.gov/geo/samples/GSM1847nnn/GSM1847992/suppl/GSM1847992_9407210137_R02C02_Grn.idat.gz\n",
       "2 ftp://ftp.ncbi.nlm.nih.gov/geo/samples/GSM1847nnn/GSM1847993/suppl/GSM1847993_9407210137_R02C01_Grn.idat.gz\n",
       "3 ftp://ftp.ncbi.nlm.nih.gov/geo/samples/GSM1847nnn/GSM1847994/suppl/GSM1847994_9407210103_R02C02_Grn.idat.gz\n",
       "4 ftp://ftp.ncbi.nlm.nih.gov/geo/samples/GSM1847nnn/GSM1847995/suppl/GSM1847995_9407210103_R02C01_Grn.idat.gz\n",
       "5 ftp://ftp.ncbi.nlm.nih.gov/geo/samples/GSM1847nnn/GSM1847996/suppl/GSM1847996_9407210105_R02C02_Grn.idat.gz\n",
       "6 ftp://ftp.ncbi.nlm.nih.gov/geo/samples/GSM1847nnn/GSM1847997/suppl/GSM1847997_9407210105_R02C01_Grn.idat.gz\n",
       "  supplementary_file.1                                                                                       \n",
       "1 ftp://ftp.ncbi.nlm.nih.gov/geo/samples/GSM1847nnn/GSM1847992/suppl/GSM1847992_9407210137_R02C02_Red.idat.gz\n",
       "2 ftp://ftp.ncbi.nlm.nih.gov/geo/samples/GSM1847nnn/GSM1847993/suppl/GSM1847993_9407210137_R02C01_Red.idat.gz\n",
       "3 ftp://ftp.ncbi.nlm.nih.gov/geo/samples/GSM1847nnn/GSM1847994/suppl/GSM1847994_9407210103_R02C02_Red.idat.gz\n",
       "4 ftp://ftp.ncbi.nlm.nih.gov/geo/samples/GSM1847nnn/GSM1847995/suppl/GSM1847995_9407210103_R02C01_Red.idat.gz\n",
       "5 ftp://ftp.ncbi.nlm.nih.gov/geo/samples/GSM1847nnn/GSM1847996/suppl/GSM1847996_9407210105_R02C02_Red.idat.gz\n",
       "6 ftp://ftp.ncbi.nlm.nih.gov/geo/samples/GSM1847nnn/GSM1847997/suppl/GSM1847997_9407210105_R02C01_Red.idat.gz\n",
       "  data_row_count age:ch1 cell type:ch1 diagnosis:ch1 gender:ch1 tissue:ch1\n",
       "1 390142         54      CD4 T cells   Healthy       Female     blood     \n",
       "2 390142         37      CD4 T cells   Healthy       Female     blood     \n",
       "3 390142         38      CD4 T cells   Healthy       Female     blood     \n",
       "4 390142         49      CD4 T cells   Healthy       Female     blood     \n",
       "5 390142         37      CD4 T cells   Healthy       Female     blood     \n",
       "6 390142         51      CD4 T cells   Healthy       Female     blood     "
      ]
     },
     "metadata": {},
     "output_type": "display_data"
    },
    {
     "data": {
      "text/html": [
       "<table>\n",
       "<thead><tr><th></th><th scope=col>GSM1847992</th><th scope=col>GSM1847993</th><th scope=col>GSM1847994</th><th scope=col>GSM1847995</th><th scope=col>GSM1847996</th><th scope=col>GSM1847997</th><th scope=col>GSM1847998</th><th scope=col>GSM1847999</th><th scope=col>GSM1848000</th><th scope=col>GSM1848001</th><th scope=col>...</th><th scope=col>GSM1848125</th><th scope=col>GSM1848126</th><th scope=col>GSM1848127</th><th scope=col>GSM1848128</th><th scope=col>GSM1848129</th><th scope=col>GSM1848130</th><th scope=col>GSM1848131</th><th scope=col>GSM1848132</th><th scope=col>GSM1848133</th><th scope=col>GSM1848134</th></tr></thead>\n",
       "<tbody>\n",
       "\t<tr><th scope=row>cg00000029</th><td>0.6891052</td><td>0.6855117</td><td>0.7597718</td><td>0.6572791</td><td>0.6340425</td><td>0.7258857</td><td>0.6561995</td><td>0.6140348</td><td>0.6705295</td><td>0.7232441</td><td>...      </td><td>0.7317703</td><td>0.6066616</td><td>0.6687542</td><td>0.6851246</td><td>0.6411103</td><td>0.6600936</td><td>0.6927672</td><td>0.5998506</td><td>0.6549124</td><td>0.6464985</td></tr>\n",
       "\t<tr><th scope=row>cg00000108</th><td>0.9160698</td><td>0.9200489</td><td>0.9206866</td><td>0.9461083</td><td>0.9489535</td><td>0.9469503</td><td>0.9432923</td><td>0.9461049</td><td>0.9514329</td><td>0.9103172</td><td>...      </td><td>0.9463530</td><td>0.9397670</td><td>0.9175556</td><td>0.8940734</td><td>0.9402696</td><td>0.9259952</td><td>0.9387162</td><td>0.9417357</td><td>0.9282697</td><td>0.9339856</td></tr>\n",
       "\t<tr><th scope=row>cg00000109</th><td>0.7873342</td><td>0.8048066</td><td>0.8845278</td><td>0.8698111</td><td>0.7664764</td><td>0.8609239</td><td>0.7577009</td><td>0.8502382</td><td>0.8452617</td><td>0.8593344</td><td>...      </td><td>0.8507064</td><td>0.8330993</td><td>0.8687290</td><td>0.6815520</td><td>0.8919813</td><td>0.8183883</td><td>0.8305999</td><td>0.7837336</td><td>0.8474653</td><td>0.8724345</td></tr>\n",
       "\t<tr><th scope=row>cg00000165</th><td>0.3040812</td><td>0.2756206</td><td>0.2609209</td><td>0.2673450</td><td>0.2699676</td><td>0.2554553</td><td>0.2899948</td><td>0.2448319</td><td>0.3397843</td><td>0.2655507</td><td>...      </td><td>0.2705401</td><td>0.3058952</td><td>0.2573734</td><td>0.3625476</td><td>0.3735513</td><td>0.2549220</td><td>0.2344297</td><td>0.2851157</td><td>0.2767348</td><td>0.3425648</td></tr>\n",
       "\t<tr><th scope=row>cg00000236</th><td>0.8410680</td><td>0.8732100</td><td>0.8568683</td><td>0.8591934</td><td>0.8731590</td><td>0.8945298</td><td>0.8210283</td><td>0.8828818</td><td>0.8472972</td><td>0.8646884</td><td>...      </td><td>0.8975462</td><td>0.7696826</td><td>0.8282152</td><td>0.8304289</td><td>0.8561097</td><td>0.8383581</td><td>0.8133452</td><td>0.8100074</td><td>0.8274307</td><td>0.8297456</td></tr>\n",
       "\t<tr><th scope=row>cg00000289</th><td>0.5805570</td><td>0.6758169</td><td>0.6206408</td><td>0.7337596</td><td>0.6082721</td><td>0.6131171</td><td>0.7573842</td><td>0.6958804</td><td>0.6061886</td><td>0.5811683</td><td>...      </td><td>0.5462894</td><td>0.6545747</td><td>0.6653911</td><td>0.5345543</td><td>0.6078303</td><td>0.6448371</td><td>0.6843967</td><td>0.7144998</td><td>0.6938663</td><td>0.5793450</td></tr>\n",
       "</tbody>\n",
       "</table>\n"
      ],
      "text/latex": [
       "\\begin{tabular}{r|lllllllllllllllllllllllllllllllllllllllllllllllllllllllllllllllllllllllllllllllllllllllllllllllllllllllllllllllllllllllllllllllllllllll}\n",
       "  & GSM1847992 & GSM1847993 & GSM1847994 & GSM1847995 & GSM1847996 & GSM1847997 & GSM1847998 & GSM1847999 & GSM1848000 & GSM1848001 & ... & GSM1848125 & GSM1848126 & GSM1848127 & GSM1848128 & GSM1848129 & GSM1848130 & GSM1848131 & GSM1848132 & GSM1848133 & GSM1848134\\\\\n",
       "\\hline\n",
       "\tcg00000029 & 0.6891052 & 0.6855117 & 0.7597718 & 0.6572791 & 0.6340425 & 0.7258857 & 0.6561995 & 0.6140348 & 0.6705295 & 0.7232441 & ...       & 0.7317703 & 0.6066616 & 0.6687542 & 0.6851246 & 0.6411103 & 0.6600936 & 0.6927672 & 0.5998506 & 0.6549124 & 0.6464985\\\\\n",
       "\tcg00000108 & 0.9160698 & 0.9200489 & 0.9206866 & 0.9461083 & 0.9489535 & 0.9469503 & 0.9432923 & 0.9461049 & 0.9514329 & 0.9103172 & ...       & 0.9463530 & 0.9397670 & 0.9175556 & 0.8940734 & 0.9402696 & 0.9259952 & 0.9387162 & 0.9417357 & 0.9282697 & 0.9339856\\\\\n",
       "\tcg00000109 & 0.7873342 & 0.8048066 & 0.8845278 & 0.8698111 & 0.7664764 & 0.8609239 & 0.7577009 & 0.8502382 & 0.8452617 & 0.8593344 & ...       & 0.8507064 & 0.8330993 & 0.8687290 & 0.6815520 & 0.8919813 & 0.8183883 & 0.8305999 & 0.7837336 & 0.8474653 & 0.8724345\\\\\n",
       "\tcg00000165 & 0.3040812 & 0.2756206 & 0.2609209 & 0.2673450 & 0.2699676 & 0.2554553 & 0.2899948 & 0.2448319 & 0.3397843 & 0.2655507 & ...       & 0.2705401 & 0.3058952 & 0.2573734 & 0.3625476 & 0.3735513 & 0.2549220 & 0.2344297 & 0.2851157 & 0.2767348 & 0.3425648\\\\\n",
       "\tcg00000236 & 0.8410680 & 0.8732100 & 0.8568683 & 0.8591934 & 0.8731590 & 0.8945298 & 0.8210283 & 0.8828818 & 0.8472972 & 0.8646884 & ...       & 0.8975462 & 0.7696826 & 0.8282152 & 0.8304289 & 0.8561097 & 0.8383581 & 0.8133452 & 0.8100074 & 0.8274307 & 0.8297456\\\\\n",
       "\tcg00000289 & 0.5805570 & 0.6758169 & 0.6206408 & 0.7337596 & 0.6082721 & 0.6131171 & 0.7573842 & 0.6958804 & 0.6061886 & 0.5811683 & ...       & 0.5462894 & 0.6545747 & 0.6653911 & 0.5345543 & 0.6078303 & 0.6448371 & 0.6843967 & 0.7144998 & 0.6938663 & 0.5793450\\\\\n",
       "\\end{tabular}\n"
      ],
      "text/markdown": [
       "\n",
       "| <!--/--> | GSM1847992 | GSM1847993 | GSM1847994 | GSM1847995 | GSM1847996 | GSM1847997 | GSM1847998 | GSM1847999 | GSM1848000 | GSM1848001 | ... | GSM1848125 | GSM1848126 | GSM1848127 | GSM1848128 | GSM1848129 | GSM1848130 | GSM1848131 | GSM1848132 | GSM1848133 | GSM1848134 |\n",
       "|---|---|---|---|---|---|---|---|---|---|---|---|---|---|---|---|---|---|---|---|---|---|\n",
       "| cg00000029 | 0.6891052 | 0.6855117 | 0.7597718 | 0.6572791 | 0.6340425 | 0.7258857 | 0.6561995 | 0.6140348 | 0.6705295 | 0.7232441 | ...       | 0.7317703 | 0.6066616 | 0.6687542 | 0.6851246 | 0.6411103 | 0.6600936 | 0.6927672 | 0.5998506 | 0.6549124 | 0.6464985 |\n",
       "| cg00000108 | 0.9160698 | 0.9200489 | 0.9206866 | 0.9461083 | 0.9489535 | 0.9469503 | 0.9432923 | 0.9461049 | 0.9514329 | 0.9103172 | ...       | 0.9463530 | 0.9397670 | 0.9175556 | 0.8940734 | 0.9402696 | 0.9259952 | 0.9387162 | 0.9417357 | 0.9282697 | 0.9339856 |\n",
       "| cg00000109 | 0.7873342 | 0.8048066 | 0.8845278 | 0.8698111 | 0.7664764 | 0.8609239 | 0.7577009 | 0.8502382 | 0.8452617 | 0.8593344 | ...       | 0.8507064 | 0.8330993 | 0.8687290 | 0.6815520 | 0.8919813 | 0.8183883 | 0.8305999 | 0.7837336 | 0.8474653 | 0.8724345 |\n",
       "| cg00000165 | 0.3040812 | 0.2756206 | 0.2609209 | 0.2673450 | 0.2699676 | 0.2554553 | 0.2899948 | 0.2448319 | 0.3397843 | 0.2655507 | ...       | 0.2705401 | 0.3058952 | 0.2573734 | 0.3625476 | 0.3735513 | 0.2549220 | 0.2344297 | 0.2851157 | 0.2767348 | 0.3425648 |\n",
       "| cg00000236 | 0.8410680 | 0.8732100 | 0.8568683 | 0.8591934 | 0.8731590 | 0.8945298 | 0.8210283 | 0.8828818 | 0.8472972 | 0.8646884 | ...       | 0.8975462 | 0.7696826 | 0.8282152 | 0.8304289 | 0.8561097 | 0.8383581 | 0.8133452 | 0.8100074 | 0.8274307 | 0.8297456 |\n",
       "| cg00000289 | 0.5805570 | 0.6758169 | 0.6206408 | 0.7337596 | 0.6082721 | 0.6131171 | 0.7573842 | 0.6958804 | 0.6061886 | 0.5811683 | ...       | 0.5462894 | 0.6545747 | 0.6653911 | 0.5345543 | 0.6078303 | 0.6448371 | 0.6843967 | 0.7144998 | 0.6938663 | 0.5793450 |\n",
       "\n"
      ],
      "text/plain": [
       "           GSM1847992 GSM1847993 GSM1847994 GSM1847995 GSM1847996 GSM1847997\n",
       "cg00000029 0.6891052  0.6855117  0.7597718  0.6572791  0.6340425  0.7258857 \n",
       "cg00000108 0.9160698  0.9200489  0.9206866  0.9461083  0.9489535  0.9469503 \n",
       "cg00000109 0.7873342  0.8048066  0.8845278  0.8698111  0.7664764  0.8609239 \n",
       "cg00000165 0.3040812  0.2756206  0.2609209  0.2673450  0.2699676  0.2554553 \n",
       "cg00000236 0.8410680  0.8732100  0.8568683  0.8591934  0.8731590  0.8945298 \n",
       "cg00000289 0.5805570  0.6758169  0.6206408  0.7337596  0.6082721  0.6131171 \n",
       "           GSM1847998 GSM1847999 GSM1848000 GSM1848001 ... GSM1848125\n",
       "cg00000029 0.6561995  0.6140348  0.6705295  0.7232441  ... 0.7317703 \n",
       "cg00000108 0.9432923  0.9461049  0.9514329  0.9103172  ... 0.9463530 \n",
       "cg00000109 0.7577009  0.8502382  0.8452617  0.8593344  ... 0.8507064 \n",
       "cg00000165 0.2899948  0.2448319  0.3397843  0.2655507  ... 0.2705401 \n",
       "cg00000236 0.8210283  0.8828818  0.8472972  0.8646884  ... 0.8975462 \n",
       "cg00000289 0.7573842  0.6958804  0.6061886  0.5811683  ... 0.5462894 \n",
       "           GSM1848126 GSM1848127 GSM1848128 GSM1848129 GSM1848130 GSM1848131\n",
       "cg00000029 0.6066616  0.6687542  0.6851246  0.6411103  0.6600936  0.6927672 \n",
       "cg00000108 0.9397670  0.9175556  0.8940734  0.9402696  0.9259952  0.9387162 \n",
       "cg00000109 0.8330993  0.8687290  0.6815520  0.8919813  0.8183883  0.8305999 \n",
       "cg00000165 0.3058952  0.2573734  0.3625476  0.3735513  0.2549220  0.2344297 \n",
       "cg00000236 0.7696826  0.8282152  0.8304289  0.8561097  0.8383581  0.8133452 \n",
       "cg00000289 0.6545747  0.6653911  0.5345543  0.6078303  0.6448371  0.6843967 \n",
       "           GSM1848132 GSM1848133 GSM1848134\n",
       "cg00000029 0.5998506  0.6549124  0.6464985 \n",
       "cg00000108 0.9417357  0.9282697  0.9339856 \n",
       "cg00000109 0.7837336  0.8474653  0.8724345 \n",
       "cg00000165 0.2851157  0.2767348  0.3425648 \n",
       "cg00000236 0.8100074  0.8274307  0.8297456 \n",
       "cg00000289 0.7144998  0.6938663  0.5793450 "
      ]
     },
     "metadata": {},
     "output_type": "display_data"
    },
    {
     "data": {
      "text/html": [
       "<table>\n",
       "<thead><tr><th scope=col>ID</th><th scope=col>Name</th><th scope=col>AddressA_ID</th><th scope=col>AlleleA_ProbeSeq</th><th scope=col>AddressB_ID</th><th scope=col>AlleleB_ProbeSeq</th><th scope=col>Infinium_Design_Type</th><th scope=col>Next_Base</th><th scope=col>Color_Channel</th><th scope=col>Forward_Sequence</th><th scope=col>...</th><th scope=col>DMR</th><th scope=col>Enhancer</th><th scope=col>HMM_Island</th><th scope=col>Regulatory_Feature_Name</th><th scope=col>Regulatory_Feature_Group</th><th scope=col>DHS</th><th scope=col>RANGE_START</th><th scope=col>RANGE_END</th><th scope=col>RANGE_GB</th><th scope=col>SPOT_ID</th></tr></thead>\n",
       "<tbody>\n",
       "\t<tr><td>cg00000029                                                                                                                  </td><td>cg00000029                                                                                                                  </td><td>14782418                                                                                                                    </td><td>AACTATACTAACRAAAAAATATCCAAAAAACACTAACRTATAAAAATTTC                                                                          </td><td>NA                                                                                                                          </td><td>                                                                                                                            </td><td>II                                                                                                                          </td><td>                                                                                                                            </td><td>                                                                                                                            </td><td>TTTTTTAGATAAGGATATCCAGGCGATGAGGAAGTTTTACTTCTGGGAACAGCCTGGATA[CG]AAACCTTCACACGTCAGTGTCTTTTGGACATTTTCTCGTCAGTACAGCCCTGTTGAATGT</td><td>...                                                                                                                         </td><td>                                                                                                                            </td><td>  NA                                                                                                                        </td><td>                                                                                                                            </td><td>16:53467838-53469685                                                                                                        </td><td>Promoter_Associated                                                                                                         </td><td>TRUE                                                                                                                        </td><td> 53468112                                                                                                                   </td><td> 53468235                                                                                                                   </td><td>NC_000016.9                                                                                                                 </td><td>NA                                                                                                                          </td></tr>\n",
       "\t<tr><td>cg00000108                                                                                                                  </td><td>cg00000108                                                                                                                  </td><td>12709357                                                                                                                    </td><td>ATACAATAAAACAAACCTAAAATAATCCTAACTCCRCTATCATCCTAACC                                                                          </td><td>NA                                                                                                                          </td><td>                                                                                                                            </td><td>II                                                                                                                          </td><td>                                                                                                                            </td><td>                                                                                                                            </td><td>TCCATTTTGAAGGAAAAAAATGAAGGCTCTGAAAGTGTAAATCGCTTACTGAAGGGCACA[CG]GCCAGGATGACAGCGGAGCCAGGATCACCCCAGGTCTGTCTCATTGCATATGTCATGGCT</td><td>...                                                                                                                         </td><td>                                                                                                                            </td><td>  NA                                                                                                                        </td><td>                                                                                                                            </td><td>                                                                                                                            </td><td>                                                                                                                            </td><td>  NA                                                                                                                        </td><td> 37459206                                                                                                                   </td><td> 37459329                                                                                                                   </td><td>NC_000003.11                                                                                                                </td><td>NA                                                                                                                          </td></tr>\n",
       "\t<tr><td>cg00000109                                                                                                                  </td><td>cg00000109                                                                                                                  </td><td>59755374                                                                                                                    </td><td>CAATACTAACAAACACATATACCCCCCCACAAATCTTAACTTCTAAATAC                                                                          </td><td>NA                                                                                                                          </td><td>                                                                                                                            </td><td>II                                                                                                                          </td><td>                                                                                                                            </td><td>                                                                                                                            </td><td>GCCTTAGTCCTGAATGAGCCATTTCTCTAAGAAGTCCTGGCTTCTTTTTTAATAGAGAAT[CG]TATTTAGAAGCCAAGATCTGTGGGGGGGTACATGTGCCTGTTAGTATTGCAGTTGTGCCT</td><td>...                                                                                                                         </td><td>                                                                                                                            </td><td>  NA                                                                                                                        </td><td>                                                                                                                            </td><td>                                                                                                                            </td><td>                                                                                                                            </td><td>  NA                                                                                                                        </td><td>171916037                                                                                                                   </td><td>171916160                                                                                                                   </td><td>NC_000003.11                                                                                                                </td><td>NA                                                                                                                          </td></tr>\n",
       "\t<tr><td>cg00000165                                                                                                                  </td><td>cg00000165                                                                                                                  </td><td>12637463                                                                                                                    </td><td>CAAAATCTATTAATACAATAACTTTTAATAAAACAACTAAAACACACATC                                                                          </td><td>NA                                                                                                                          </td><td>                                                                                                                            </td><td>II                                                                                                                          </td><td>                                                                                                                            </td><td>                                                                                                                            </td><td>CTAAGTGCAGTCAGGATCTGTTAGTACAGTGGCTTTTGATGGAACAGCTGAGGCACACAT[CG]CCCGTGGCATGGACTCCGGGGCCGAACGCTCACGACCAAGACTTTTGCCCTTTTGAAATG</td><td>...                                                                                                                         </td><td>CDMR                                                                                                                        </td><td>TRUE                                                                                                                        </td><td>1:90967262-90967361                                                                                                         </td><td>                                                                                                                            </td><td>                                                                                                                            </td><td>  NA                                                                                                                        </td><td> 91194674                                                                                                                   </td><td> 91194797                                                                                                                   </td><td>NC_000001.10                                                                                                                </td><td>NA                                                                                                                          </td></tr>\n",
       "\t<tr><td>cg00000236                                                                                                                  </td><td>cg00000236                                                                                                                  </td><td>12649348                                                                                                                    </td><td>TATAACRTCATATTAAAAAAAACRATCTAACCCACCAATTTATACATCAC                                                                          </td><td>NA                                                                                                                          </td><td>                                                                                                                            </td><td>II                                                                                                                          </td><td>                                                                                                                            </td><td>                                                                                                                            </td><td>CTCAGCGACAGTGTAGCGTCATGTTAGAGGAGACGATCTGACCCACCAGTTTGTACATCA[CG]TCCTGCATGTCCCACACCATTTTTTCATGACCTTGTAATATACTGGTCTCTGTGCTATAG</td><td>...                                                                                                                         </td><td>                                                                                                                            </td><td>  NA                                                                                                                        </td><td>                                                                                                                            </td><td>                                                                                                                            </td><td>                                                                                                                            </td><td>  NA                                                                                                                        </td><td> 42263294                                                                                                                   </td><td> 42263417                                                                                                                   </td><td>NC_000008.10                                                                                                                </td><td>NA                                                                                                                          </td></tr>\n",
       "\t<tr><td>cg00000289                                                                                                                  </td><td>cg00000289                                                                                                                  </td><td>18766346                                                                                                                    </td><td>ATCTACTATATTCATTTCTCCAATCTCATATCCATTTTAATATAAAAATC                                                                          </td><td>NA                                                                                                                          </td><td>                                                                                                                            </td><td>II                                                                                                                          </td><td>                                                                                                                            </td><td>                                                                                                                            </td><td>CAAGTGAGCTAGCAAACACACATGCACCAATGTGCCTTTTGACAAGAGTACCCCCTACCC[CG]ACTCCCACACCAAAATGGACATGAGATTGGAGAAATGAATACAGCAGATGGAACAGATAG</td><td>...                                                                                                                         </td><td>                                                                                                                            </td><td>  NA                                                                                                                        </td><td>                                                                                                                            </td><td>                                                                                                                            </td><td>                                                                                                                            </td><td>  NA                                                                                                                        </td><td> 69341139                                                                                                                   </td><td> 69341262                                                                                                                   </td><td>NC_000014.8                                                                                                                 </td><td>NA                                                                                                                          </td></tr>\n",
       "</tbody>\n",
       "</table>\n"
      ],
      "text/latex": [
       "\\begin{tabular}{r|lllllllllllllllllllllllllllllllllllll}\n",
       " ID & Name & AddressA\\_ID & AlleleA\\_ProbeSeq & AddressB\\_ID & AlleleB\\_ProbeSeq & Infinium\\_Design\\_Type & Next\\_Base & Color\\_Channel & Forward\\_Sequence & ... & DMR & Enhancer & HMM\\_Island & Regulatory\\_Feature\\_Name & Regulatory\\_Feature\\_Group & DHS & RANGE\\_START & RANGE\\_END & RANGE\\_GB & SPOT\\_ID\\\\\n",
       "\\hline\n",
       "\t cg00000029                                                                                                                       & cg00000029                                                                                                                       & 14782418                                                                                                                         & AACTATACTAACRAAAAAATATCCAAAAAACACTAACRTATAAAAATTTC                                                                               & NA                                                                                                                               &                                                                                                                                  & II                                                                                                                               &                                                                                                                                  &                                                                                                                                  & TTTTTTAGATAAGGATATCCAGGCGATGAGGAAGTTTTACTTCTGGGAACAGCCTGGATA{[}CG{]}AAACCTTCACACGTCAGTGTCTTTTGGACATTTTCTCGTCAGTACAGCCCTGTTGAATGT & ...                                                                                                                              &                                                                                                                                  &   NA                                                                                                                             &                                                                                                                                  & 16:53467838-53469685                                                                                                             & Promoter\\_Associated                                                                                                            & TRUE                                                                                                                             &  53468112                                                                                                                        &  53468235                                                                                                                        & NC\\_000016.9                                                                                                                    & NA                                                                                                                              \\\\\n",
       "\t cg00000108                                                                                                                       & cg00000108                                                                                                                       & 12709357                                                                                                                         & ATACAATAAAACAAACCTAAAATAATCCTAACTCCRCTATCATCCTAACC                                                                               & NA                                                                                                                               &                                                                                                                                  & II                                                                                                                               &                                                                                                                                  &                                                                                                                                  & TCCATTTTGAAGGAAAAAAATGAAGGCTCTGAAAGTGTAAATCGCTTACTGAAGGGCACA{[}CG{]}GCCAGGATGACAGCGGAGCCAGGATCACCCCAGGTCTGTCTCATTGCATATGTCATGGCT & ...                                                                                                                              &                                                                                                                                  &   NA                                                                                                                             &                                                                                                                                  &                                                                                                                                  &                                                                                                                                  &   NA                                                                                                                             &  37459206                                                                                                                        &  37459329                                                                                                                        & NC\\_000003.11                                                                                                                   & NA                                                                                                                              \\\\\n",
       "\t cg00000109                                                                                                                       & cg00000109                                                                                                                       & 59755374                                                                                                                         & CAATACTAACAAACACATATACCCCCCCACAAATCTTAACTTCTAAATAC                                                                               & NA                                                                                                                               &                                                                                                                                  & II                                                                                                                               &                                                                                                                                  &                                                                                                                                  & GCCTTAGTCCTGAATGAGCCATTTCTCTAAGAAGTCCTGGCTTCTTTTTTAATAGAGAAT{[}CG{]}TATTTAGAAGCCAAGATCTGTGGGGGGGTACATGTGCCTGTTAGTATTGCAGTTGTGCCT & ...                                                                                                                              &                                                                                                                                  &   NA                                                                                                                             &                                                                                                                                  &                                                                                                                                  &                                                                                                                                  &   NA                                                                                                                             & 171916037                                                                                                                        & 171916160                                                                                                                        & NC\\_000003.11                                                                                                                   & NA                                                                                                                              \\\\\n",
       "\t cg00000165                                                                                                                       & cg00000165                                                                                                                       & 12637463                                                                                                                         & CAAAATCTATTAATACAATAACTTTTAATAAAACAACTAAAACACACATC                                                                               & NA                                                                                                                               &                                                                                                                                  & II                                                                                                                               &                                                                                                                                  &                                                                                                                                  & CTAAGTGCAGTCAGGATCTGTTAGTACAGTGGCTTTTGATGGAACAGCTGAGGCACACAT{[}CG{]}CCCGTGGCATGGACTCCGGGGCCGAACGCTCACGACCAAGACTTTTGCCCTTTTGAAATG & ...                                                                                                                              & CDMR                                                                                                                             & TRUE                                                                                                                             & 1:90967262-90967361                                                                                                              &                                                                                                                                  &                                                                                                                                  &   NA                                                                                                                             &  91194674                                                                                                                        &  91194797                                                                                                                        & NC\\_000001.10                                                                                                                   & NA                                                                                                                              \\\\\n",
       "\t cg00000236                                                                                                                       & cg00000236                                                                                                                       & 12649348                                                                                                                         & TATAACRTCATATTAAAAAAAACRATCTAACCCACCAATTTATACATCAC                                                                               & NA                                                                                                                               &                                                                                                                                  & II                                                                                                                               &                                                                                                                                  &                                                                                                                                  & CTCAGCGACAGTGTAGCGTCATGTTAGAGGAGACGATCTGACCCACCAGTTTGTACATCA{[}CG{]}TCCTGCATGTCCCACACCATTTTTTCATGACCTTGTAATATACTGGTCTCTGTGCTATAG & ...                                                                                                                              &                                                                                                                                  &   NA                                                                                                                             &                                                                                                                                  &                                                                                                                                  &                                                                                                                                  &   NA                                                                                                                             &  42263294                                                                                                                        &  42263417                                                                                                                        & NC\\_000008.10                                                                                                                   & NA                                                                                                                              \\\\\n",
       "\t cg00000289                                                                                                                       & cg00000289                                                                                                                       & 18766346                                                                                                                         & ATCTACTATATTCATTTCTCCAATCTCATATCCATTTTAATATAAAAATC                                                                               & NA                                                                                                                               &                                                                                                                                  & II                                                                                                                               &                                                                                                                                  &                                                                                                                                  & CAAGTGAGCTAGCAAACACACATGCACCAATGTGCCTTTTGACAAGAGTACCCCCTACCC{[}CG{]}ACTCCCACACCAAAATGGACATGAGATTGGAGAAATGAATACAGCAGATGGAACAGATAG & ...                                                                                                                              &                                                                                                                                  &   NA                                                                                                                             &                                                                                                                                  &                                                                                                                                  &                                                                                                                                  &   NA                                                                                                                             &  69341139                                                                                                                        &  69341262                                                                                                                        & NC\\_000014.8                                                                                                                    & NA                                                                                                                              \\\\\n",
       "\\end{tabular}\n"
      ],
      "text/markdown": [
       "\n",
       "| ID | Name | AddressA_ID | AlleleA_ProbeSeq | AddressB_ID | AlleleB_ProbeSeq | Infinium_Design_Type | Next_Base | Color_Channel | Forward_Sequence | ... | DMR | Enhancer | HMM_Island | Regulatory_Feature_Name | Regulatory_Feature_Group | DHS | RANGE_START | RANGE_END | RANGE_GB | SPOT_ID |\n",
       "|---|---|---|---|---|---|---|---|---|---|---|---|---|---|---|---|---|---|---|---|---|\n",
       "| cg00000029                                                                                                                   | cg00000029                                                                                                                   | 14782418                                                                                                                     | AACTATACTAACRAAAAAATATCCAAAAAACACTAACRTATAAAAATTTC                                                                           | NA                                                                                                                           |                                                                                                                              | II                                                                                                                           |                                                                                                                              |                                                                                                                              | TTTTTTAGATAAGGATATCCAGGCGATGAGGAAGTTTTACTTCTGGGAACAGCCTGGATA[CG]AAACCTTCACACGTCAGTGTCTTTTGGACATTTTCTCGTCAGTACAGCCCTGTTGAATGT | ...                                                                                                                          |                                                                                                                              |   NA                                                                                                                         |                                                                                                                              | 16:53467838-53469685                                                                                                         | Promoter_Associated                                                                                                          | TRUE                                                                                                                         |  53468112                                                                                                                    |  53468235                                                                                                                    | NC_000016.9                                                                                                                  | NA                                                                                                                           |\n",
       "| cg00000108                                                                                                                   | cg00000108                                                                                                                   | 12709357                                                                                                                     | ATACAATAAAACAAACCTAAAATAATCCTAACTCCRCTATCATCCTAACC                                                                           | NA                                                                                                                           |                                                                                                                              | II                                                                                                                           |                                                                                                                              |                                                                                                                              | TCCATTTTGAAGGAAAAAAATGAAGGCTCTGAAAGTGTAAATCGCTTACTGAAGGGCACA[CG]GCCAGGATGACAGCGGAGCCAGGATCACCCCAGGTCTGTCTCATTGCATATGTCATGGCT | ...                                                                                                                          |                                                                                                                              |   NA                                                                                                                         |                                                                                                                              |                                                                                                                              |                                                                                                                              |   NA                                                                                                                         |  37459206                                                                                                                    |  37459329                                                                                                                    | NC_000003.11                                                                                                                 | NA                                                                                                                           |\n",
       "| cg00000109                                                                                                                   | cg00000109                                                                                                                   | 59755374                                                                                                                     | CAATACTAACAAACACATATACCCCCCCACAAATCTTAACTTCTAAATAC                                                                           | NA                                                                                                                           |                                                                                                                              | II                                                                                                                           |                                                                                                                              |                                                                                                                              | GCCTTAGTCCTGAATGAGCCATTTCTCTAAGAAGTCCTGGCTTCTTTTTTAATAGAGAAT[CG]TATTTAGAAGCCAAGATCTGTGGGGGGGTACATGTGCCTGTTAGTATTGCAGTTGTGCCT | ...                                                                                                                          |                                                                                                                              |   NA                                                                                                                         |                                                                                                                              |                                                                                                                              |                                                                                                                              |   NA                                                                                                                         | 171916037                                                                                                                    | 171916160                                                                                                                    | NC_000003.11                                                                                                                 | NA                                                                                                                           |\n",
       "| cg00000165                                                                                                                   | cg00000165                                                                                                                   | 12637463                                                                                                                     | CAAAATCTATTAATACAATAACTTTTAATAAAACAACTAAAACACACATC                                                                           | NA                                                                                                                           |                                                                                                                              | II                                                                                                                           |                                                                                                                              |                                                                                                                              | CTAAGTGCAGTCAGGATCTGTTAGTACAGTGGCTTTTGATGGAACAGCTGAGGCACACAT[CG]CCCGTGGCATGGACTCCGGGGCCGAACGCTCACGACCAAGACTTTTGCCCTTTTGAAATG | ...                                                                                                                          | CDMR                                                                                                                         | TRUE                                                                                                                         | 1:90967262-90967361                                                                                                          |                                                                                                                              |                                                                                                                              |   NA                                                                                                                         |  91194674                                                                                                                    |  91194797                                                                                                                    | NC_000001.10                                                                                                                 | NA                                                                                                                           |\n",
       "| cg00000236                                                                                                                   | cg00000236                                                                                                                   | 12649348                                                                                                                     | TATAACRTCATATTAAAAAAAACRATCTAACCCACCAATTTATACATCAC                                                                           | NA                                                                                                                           |                                                                                                                              | II                                                                                                                           |                                                                                                                              |                                                                                                                              | CTCAGCGACAGTGTAGCGTCATGTTAGAGGAGACGATCTGACCCACCAGTTTGTACATCA[CG]TCCTGCATGTCCCACACCATTTTTTCATGACCTTGTAATATACTGGTCTCTGTGCTATAG | ...                                                                                                                          |                                                                                                                              |   NA                                                                                                                         |                                                                                                                              |                                                                                                                              |                                                                                                                              |   NA                                                                                                                         |  42263294                                                                                                                    |  42263417                                                                                                                    | NC_000008.10                                                                                                                 | NA                                                                                                                           |\n",
       "| cg00000289                                                                                                                   | cg00000289                                                                                                                   | 18766346                                                                                                                     | ATCTACTATATTCATTTCTCCAATCTCATATCCATTTTAATATAAAAATC                                                                           | NA                                                                                                                           |                                                                                                                              | II                                                                                                                           |                                                                                                                              |                                                                                                                              | CAAGTGAGCTAGCAAACACACATGCACCAATGTGCCTTTTGACAAGAGTACCCCCTACCC[CG]ACTCCCACACCAAAATGGACATGAGATTGGAGAAATGAATACAGCAGATGGAACAGATAG | ...                                                                                                                          |                                                                                                                              |   NA                                                                                                                         |                                                                                                                              |                                                                                                                              |                                                                                                                              |   NA                                                                                                                         |  69341139                                                                                                                    |  69341262                                                                                                                    | NC_000014.8                                                                                                                  | NA                                                                                                                           |\n",
       "\n"
      ],
      "text/plain": [
       "  ID         Name       AddressA_ID\n",
       "1 cg00000029 cg00000029 14782418   \n",
       "2 cg00000108 cg00000108 12709357   \n",
       "3 cg00000109 cg00000109 59755374   \n",
       "4 cg00000165 cg00000165 12637463   \n",
       "5 cg00000236 cg00000236 12649348   \n",
       "6 cg00000289 cg00000289 18766346   \n",
       "  AlleleA_ProbeSeq                                   AddressB_ID\n",
       "1 AACTATACTAACRAAAAAATATCCAAAAAACACTAACRTATAAAAATTTC NA         \n",
       "2 ATACAATAAAACAAACCTAAAATAATCCTAACTCCRCTATCATCCTAACC NA         \n",
       "3 CAATACTAACAAACACATATACCCCCCCACAAATCTTAACTTCTAAATAC NA         \n",
       "4 CAAAATCTATTAATACAATAACTTTTAATAAAACAACTAAAACACACATC NA         \n",
       "5 TATAACRTCATATTAAAAAAAACRATCTAACCCACCAATTTATACATCAC NA         \n",
       "6 ATCTACTATATTCATTTCTCCAATCTCATATCCATTTTAATATAAAAATC NA         \n",
       "  AlleleB_ProbeSeq Infinium_Design_Type Next_Base Color_Channel\n",
       "1                  II                                          \n",
       "2                  II                                          \n",
       "3                  II                                          \n",
       "4                  II                                          \n",
       "5                  II                                          \n",
       "6                  II                                          \n",
       "  Forward_Sequence                                                                                                            \n",
       "1 TTTTTTAGATAAGGATATCCAGGCGATGAGGAAGTTTTACTTCTGGGAACAGCCTGGATA[CG]AAACCTTCACACGTCAGTGTCTTTTGGACATTTTCTCGTCAGTACAGCCCTGTTGAATGT\n",
       "2 TCCATTTTGAAGGAAAAAAATGAAGGCTCTGAAAGTGTAAATCGCTTACTGAAGGGCACA[CG]GCCAGGATGACAGCGGAGCCAGGATCACCCCAGGTCTGTCTCATTGCATATGTCATGGCT\n",
       "3 GCCTTAGTCCTGAATGAGCCATTTCTCTAAGAAGTCCTGGCTTCTTTTTTAATAGAGAAT[CG]TATTTAGAAGCCAAGATCTGTGGGGGGGTACATGTGCCTGTTAGTATTGCAGTTGTGCCT\n",
       "4 CTAAGTGCAGTCAGGATCTGTTAGTACAGTGGCTTTTGATGGAACAGCTGAGGCACACAT[CG]CCCGTGGCATGGACTCCGGGGCCGAACGCTCACGACCAAGACTTTTGCCCTTTTGAAATG\n",
       "5 CTCAGCGACAGTGTAGCGTCATGTTAGAGGAGACGATCTGACCCACCAGTTTGTACATCA[CG]TCCTGCATGTCCCACACCATTTTTTCATGACCTTGTAATATACTGGTCTCTGTGCTATAG\n",
       "6 CAAGTGAGCTAGCAAACACACATGCACCAATGTGCCTTTTGACAAGAGTACCCCCTACCC[CG]ACTCCCACACCAAAATGGACATGAGATTGGAGAAATGAATACAGCAGATGGAACAGATAG\n",
       "  ... DMR  Enhancer HMM_Island          Regulatory_Feature_Name\n",
       "1 ...        NA                         16:53467838-53469685   \n",
       "2 ...        NA                                                \n",
       "3 ...        NA                                                \n",
       "4 ... CDMR TRUE     1:90967262-90967361                        \n",
       "5 ...        NA                                                \n",
       "6 ...        NA                                                \n",
       "  Regulatory_Feature_Group DHS  RANGE_START RANGE_END RANGE_GB     SPOT_ID\n",
       "1 Promoter_Associated      TRUE  53468112    53468235 NC_000016.9  NA     \n",
       "2                            NA  37459206    37459329 NC_000003.11 NA     \n",
       "3                            NA 171916037   171916160 NC_000003.11 NA     \n",
       "4                            NA  91194674    91194797 NC_000001.10 NA     \n",
       "5                            NA  42263294    42263417 NC_000008.10 NA     \n",
       "6                            NA  69341139    69341262 NC_000014.8  NA     "
      ]
     },
     "metadata": {},
     "output_type": "display_data"
    }
   ],
   "source": [
    "head(key)\n",
    "head(mat)\n",
    "head(anno)"
   ]
  },
  {
   "cell_type": "code",
   "execution_count": 8,
   "metadata": {},
   "outputs": [
    {
     "data": {
      "text/html": [
       "<ol class=list-inline>\n",
       "\t<li>'ID'</li>\n",
       "\t<li>'Name'</li>\n",
       "\t<li>'AddressA_ID'</li>\n",
       "\t<li>'AlleleA_ProbeSeq'</li>\n",
       "\t<li>'AddressB_ID'</li>\n",
       "\t<li>'AlleleB_ProbeSeq'</li>\n",
       "\t<li>'Infinium_Design_Type'</li>\n",
       "\t<li>'Next_Base'</li>\n",
       "\t<li>'Color_Channel'</li>\n",
       "\t<li>'Forward_Sequence'</li>\n",
       "\t<li>'Genome_Build'</li>\n",
       "\t<li>'CHR'</li>\n",
       "\t<li>'MAPINFO'</li>\n",
       "\t<li>'SourceSeq'</li>\n",
       "\t<li>'Chromosome_36'</li>\n",
       "\t<li>'Coordinate_36'</li>\n",
       "\t<li>'Strand'</li>\n",
       "\t<li>'Probe_SNPs'</li>\n",
       "\t<li>'Probe_SNPs_10'</li>\n",
       "\t<li>'Random_Loci'</li>\n",
       "\t<li>'Methyl27_Loci'</li>\n",
       "\t<li>'UCSC_RefGene_Name'</li>\n",
       "\t<li>'UCSC_RefGene_Accession'</li>\n",
       "\t<li>'UCSC_RefGene_Group'</li>\n",
       "\t<li>'UCSC_CpG_Islands_Name'</li>\n",
       "\t<li>'Relation_to_UCSC_CpG_Island'</li>\n",
       "\t<li>'Phantom'</li>\n",
       "\t<li>'DMR'</li>\n",
       "\t<li>'Enhancer'</li>\n",
       "\t<li>'HMM_Island'</li>\n",
       "\t<li>'Regulatory_Feature_Name'</li>\n",
       "\t<li>'Regulatory_Feature_Group'</li>\n",
       "\t<li>'DHS'</li>\n",
       "\t<li>'RANGE_START'</li>\n",
       "\t<li>'RANGE_END'</li>\n",
       "\t<li>'RANGE_GB'</li>\n",
       "\t<li>'SPOT_ID'</li>\n",
       "</ol>\n"
      ],
      "text/latex": [
       "\\begin{enumerate*}\n",
       "\\item 'ID'\n",
       "\\item 'Name'\n",
       "\\item 'AddressA\\_ID'\n",
       "\\item 'AlleleA\\_ProbeSeq'\n",
       "\\item 'AddressB\\_ID'\n",
       "\\item 'AlleleB\\_ProbeSeq'\n",
       "\\item 'Infinium\\_Design\\_Type'\n",
       "\\item 'Next\\_Base'\n",
       "\\item 'Color\\_Channel'\n",
       "\\item 'Forward\\_Sequence'\n",
       "\\item 'Genome\\_Build'\n",
       "\\item 'CHR'\n",
       "\\item 'MAPINFO'\n",
       "\\item 'SourceSeq'\n",
       "\\item 'Chromosome\\_36'\n",
       "\\item 'Coordinate\\_36'\n",
       "\\item 'Strand'\n",
       "\\item 'Probe\\_SNPs'\n",
       "\\item 'Probe\\_SNPs\\_10'\n",
       "\\item 'Random\\_Loci'\n",
       "\\item 'Methyl27\\_Loci'\n",
       "\\item 'UCSC\\_RefGene\\_Name'\n",
       "\\item 'UCSC\\_RefGene\\_Accession'\n",
       "\\item 'UCSC\\_RefGene\\_Group'\n",
       "\\item 'UCSC\\_CpG\\_Islands\\_Name'\n",
       "\\item 'Relation\\_to\\_UCSC\\_CpG\\_Island'\n",
       "\\item 'Phantom'\n",
       "\\item 'DMR'\n",
       "\\item 'Enhancer'\n",
       "\\item 'HMM\\_Island'\n",
       "\\item 'Regulatory\\_Feature\\_Name'\n",
       "\\item 'Regulatory\\_Feature\\_Group'\n",
       "\\item 'DHS'\n",
       "\\item 'RANGE\\_START'\n",
       "\\item 'RANGE\\_END'\n",
       "\\item 'RANGE\\_GB'\n",
       "\\item 'SPOT\\_ID'\n",
       "\\end{enumerate*}\n"
      ],
      "text/markdown": [
       "1. 'ID'\n",
       "2. 'Name'\n",
       "3. 'AddressA_ID'\n",
       "4. 'AlleleA_ProbeSeq'\n",
       "5. 'AddressB_ID'\n",
       "6. 'AlleleB_ProbeSeq'\n",
       "7. 'Infinium_Design_Type'\n",
       "8. 'Next_Base'\n",
       "9. 'Color_Channel'\n",
       "10. 'Forward_Sequence'\n",
       "11. 'Genome_Build'\n",
       "12. 'CHR'\n",
       "13. 'MAPINFO'\n",
       "14. 'SourceSeq'\n",
       "15. 'Chromosome_36'\n",
       "16. 'Coordinate_36'\n",
       "17. 'Strand'\n",
       "18. 'Probe_SNPs'\n",
       "19. 'Probe_SNPs_10'\n",
       "20. 'Random_Loci'\n",
       "21. 'Methyl27_Loci'\n",
       "22. 'UCSC_RefGene_Name'\n",
       "23. 'UCSC_RefGene_Accession'\n",
       "24. 'UCSC_RefGene_Group'\n",
       "25. 'UCSC_CpG_Islands_Name'\n",
       "26. 'Relation_to_UCSC_CpG_Island'\n",
       "27. 'Phantom'\n",
       "28. 'DMR'\n",
       "29. 'Enhancer'\n",
       "30. 'HMM_Island'\n",
       "31. 'Regulatory_Feature_Name'\n",
       "32. 'Regulatory_Feature_Group'\n",
       "33. 'DHS'\n",
       "34. 'RANGE_START'\n",
       "35. 'RANGE_END'\n",
       "36. 'RANGE_GB'\n",
       "37. 'SPOT_ID'\n",
       "\n",
       "\n"
      ],
      "text/plain": [
       " [1] \"ID\"                          \"Name\"                       \n",
       " [3] \"AddressA_ID\"                 \"AlleleA_ProbeSeq\"           \n",
       " [5] \"AddressB_ID\"                 \"AlleleB_ProbeSeq\"           \n",
       " [7] \"Infinium_Design_Type\"        \"Next_Base\"                  \n",
       " [9] \"Color_Channel\"               \"Forward_Sequence\"           \n",
       "[11] \"Genome_Build\"                \"CHR\"                        \n",
       "[13] \"MAPINFO\"                     \"SourceSeq\"                  \n",
       "[15] \"Chromosome_36\"               \"Coordinate_36\"              \n",
       "[17] \"Strand\"                      \"Probe_SNPs\"                 \n",
       "[19] \"Probe_SNPs_10\"               \"Random_Loci\"                \n",
       "[21] \"Methyl27_Loci\"               \"UCSC_RefGene_Name\"          \n",
       "[23] \"UCSC_RefGene_Accession\"      \"UCSC_RefGene_Group\"         \n",
       "[25] \"UCSC_CpG_Islands_Name\"       \"Relation_to_UCSC_CpG_Island\"\n",
       "[27] \"Phantom\"                     \"DMR\"                        \n",
       "[29] \"Enhancer\"                    \"HMM_Island\"                 \n",
       "[31] \"Regulatory_Feature_Name\"     \"Regulatory_Feature_Group\"   \n",
       "[33] \"DHS\"                         \"RANGE_START\"                \n",
       "[35] \"RANGE_END\"                   \"RANGE_GB\"                   \n",
       "[37] \"SPOT_ID\"                    "
      ]
     },
     "metadata": {},
     "output_type": "display_data"
    }
   ],
   "source": [
    "colnames(anno)"
   ]
  },
  {
   "cell_type": "code",
   "execution_count": 9,
   "metadata": {},
   "outputs": [
    {
     "data": {
      "text/html": [
       "<table>\n",
       "<thead><tr><th scope=col>sample</th><th scope=col>title</th><th scope=col>age</th><th scope=col>cell_type</th><th scope=col>diagnosis</th><th scope=col>geo</th></tr></thead>\n",
       "<tbody>\n",
       "\t<tr><td>1                    </td><td>gDNA_CD4_Control_rep1</td><td>54                   </td><td>CD4 T cells          </td><td>Healthy              </td><td>GSM1847992           </td></tr>\n",
       "\t<tr><td>2                    </td><td>gDNA_CD4_Control_rep2</td><td>37                   </td><td>CD4 T cells          </td><td>Healthy              </td><td>GSM1847993           </td></tr>\n",
       "\t<tr><td>3                    </td><td>gDNA_CD4_Control_rep3</td><td>38                   </td><td>CD4 T cells          </td><td>Healthy              </td><td>GSM1847994           </td></tr>\n",
       "\t<tr><td>4                    </td><td>gDNA_CD4_Control_rep4</td><td>49                   </td><td>CD4 T cells          </td><td>Healthy              </td><td>GSM1847995           </td></tr>\n",
       "\t<tr><td>5                    </td><td>gDNA_CD4_Control_rep5</td><td>37                   </td><td>CD4 T cells          </td><td>Healthy              </td><td>GSM1847996           </td></tr>\n",
       "\t<tr><td>6                    </td><td>gDNA_CD4_Control_rep6</td><td>51                   </td><td>CD4 T cells          </td><td>Healthy              </td><td>GSM1847997           </td></tr>\n",
       "</tbody>\n",
       "</table>\n"
      ],
      "text/latex": [
       "\\begin{tabular}{r|llllll}\n",
       " sample & title & age & cell\\_type & diagnosis & geo\\\\\n",
       "\\hline\n",
       "\t 1                           & gDNA\\_CD4\\_Control\\_rep1 & 54                          & CD4 T cells                 & Healthy                     & GSM1847992                 \\\\\n",
       "\t 2                           & gDNA\\_CD4\\_Control\\_rep2 & 37                          & CD4 T cells                 & Healthy                     & GSM1847993                 \\\\\n",
       "\t 3                           & gDNA\\_CD4\\_Control\\_rep3 & 38                          & CD4 T cells                 & Healthy                     & GSM1847994                 \\\\\n",
       "\t 4                           & gDNA\\_CD4\\_Control\\_rep4 & 49                          & CD4 T cells                 & Healthy                     & GSM1847995                 \\\\\n",
       "\t 5                           & gDNA\\_CD4\\_Control\\_rep5 & 37                          & CD4 T cells                 & Healthy                     & GSM1847996                 \\\\\n",
       "\t 6                           & gDNA\\_CD4\\_Control\\_rep6 & 51                          & CD4 T cells                 & Healthy                     & GSM1847997                 \\\\\n",
       "\\end{tabular}\n"
      ],
      "text/markdown": [
       "\n",
       "| sample | title | age | cell_type | diagnosis | geo |\n",
       "|---|---|---|---|---|---|\n",
       "| 1                     | gDNA_CD4_Control_rep1 | 54                    | CD4 T cells           | Healthy               | GSM1847992            |\n",
       "| 2                     | gDNA_CD4_Control_rep2 | 37                    | CD4 T cells           | Healthy               | GSM1847993            |\n",
       "| 3                     | gDNA_CD4_Control_rep3 | 38                    | CD4 T cells           | Healthy               | GSM1847994            |\n",
       "| 4                     | gDNA_CD4_Control_rep4 | 49                    | CD4 T cells           | Healthy               | GSM1847995            |\n",
       "| 5                     | gDNA_CD4_Control_rep5 | 37                    | CD4 T cells           | Healthy               | GSM1847996            |\n",
       "| 6                     | gDNA_CD4_Control_rep6 | 51                    | CD4 T cells           | Healthy               | GSM1847997            |\n",
       "\n"
      ],
      "text/plain": [
       "  sample title                 age cell_type   diagnosis geo       \n",
       "1 1      gDNA_CD4_Control_rep1 54  CD4 T cells Healthy   GSM1847992\n",
       "2 2      gDNA_CD4_Control_rep2 37  CD4 T cells Healthy   GSM1847993\n",
       "3 3      gDNA_CD4_Control_rep3 38  CD4 T cells Healthy   GSM1847994\n",
       "4 4      gDNA_CD4_Control_rep4 49  CD4 T cells Healthy   GSM1847995\n",
       "5 5      gDNA_CD4_Control_rep5 37  CD4 T cells Healthy   GSM1847996\n",
       "6 6      gDNA_CD4_Control_rep6 51  CD4 T cells Healthy   GSM1847997"
      ]
     },
     "metadata": {},
     "output_type": "display_data"
    }
   ],
   "source": [
    "# head(key, 5)\n",
    "# key %>% distinct(`tissue:ch1`)\n",
    "key <- key %>% mutate(\"sample\" = rownames(key)) %>% select(\"sample\" = sample, \"title\" = title, \"age\" = `age:ch1`,\n",
    "                 \"cell_type\" = `cell type:ch1`, \"diagnosis\" = `diagnosis:ch1`, \"geo\" = geo_accession)\n",
    "head(key)"
   ]
  },
  {
   "cell_type": "markdown",
   "metadata": {},
   "source": [
    "# Remove SNP-containing probes"
   ]
  },
  {
   "cell_type": "code",
   "execution_count": 10,
   "metadata": {
    "scrolled": false
   },
   "outputs": [
    {
     "data": {
      "text/html": [
       "61757"
      ],
      "text/latex": [
       "61757"
      ],
      "text/markdown": [
       "61757"
      ],
      "text/plain": [
       "[1] 61757"
      ]
     },
     "metadata": {},
     "output_type": "display_data"
    },
    {
     "data": {
      "text/html": [
       "390142"
      ],
      "text/latex": [
       "390142"
      ],
      "text/markdown": [
       "390142"
      ],
      "text/plain": [
       "[1] 390142"
      ]
     },
     "metadata": {},
     "output_type": "display_data"
    },
    {
     "name": "stderr",
     "output_type": "stream",
     "text": [
      "Joining, by = c(\"ID\", \"Name\", \"AddressA_ID\", \"AlleleA_ProbeSeq\", \"AddressB_ID\", \"AlleleB_ProbeSeq\", \"Infinium_Design_Type\", \"Next_Base\", \"Color_Channel\", \"Forward_Sequence\", \"Genome_Build\", \"CHR\", \"MAPINFO\", \"SourceSeq\", \"Chromosome_36\", \"Coordinate_36\", \"Strand\", \"Probe_SNPs\", \"Probe_SNPs_10\", \"Random_Loci\", \"Methyl27_Loci\", \"UCSC_RefGene_Name\", \"UCSC_RefGene_Accession\", \"UCSC_RefGene_Group\", \"UCSC_CpG_Islands_Name\", \"Relation_to_UCSC_CpG_Island\", \"Phantom\", \"DMR\", \"Enhancer\", \"HMM_Island\", \"Regulatory_Feature_Name\", \"Regulatory_Feature_Group\", \"DHS\", \"RANGE_START\", \"RANGE_END\", \"RANGE_GB\", \"SPOT_ID\")"
     ]
    },
    {
     "data": {
      "text/html": [
       "328385"
      ],
      "text/latex": [
       "328385"
      ],
      "text/markdown": [
       "328385"
      ],
      "text/plain": [
       "[1] 328385"
      ]
     },
     "metadata": {},
     "output_type": "display_data"
    }
   ],
   "source": [
    "anno_snp <- anno %>% filter(str_detect(Probe_SNPs, \"rs\") | str_detect(Probe_SNPs_10, \"rs\"))\n",
    "nrow(anno_snp)\n",
    "nrow(anno)\n",
    "anno <- anno %>% anti_join(anno_snp)\n",
    "nrow(anno)"
   ]
  },
  {
   "cell_type": "code",
   "execution_count": 11,
   "metadata": {},
   "outputs": [],
   "source": [
    "mat <- as.data.frame(mat) %>% mutate(\"probe\" = rownames(mat)) %>% \n",
    "    filter(probe %in% anno$Name) %>%\n",
    "    select(-probe)\n"
   ]
  },
  {
   "cell_type": "code",
   "execution_count": 12,
   "metadata": {},
   "outputs": [
    {
     "data": {
      "text/html": [
       "<table>\n",
       "<thead><tr><th></th><th scope=col>GSM1847992</th><th scope=col>GSM1847993</th><th scope=col>GSM1847994</th><th scope=col>GSM1847995</th><th scope=col>GSM1847996</th><th scope=col>GSM1847997</th><th scope=col>GSM1847998</th><th scope=col>GSM1847999</th><th scope=col>GSM1848000</th><th scope=col>GSM1848001</th><th scope=col>...</th><th scope=col>GSM1848125</th><th scope=col>GSM1848126</th><th scope=col>GSM1848127</th><th scope=col>GSM1848128</th><th scope=col>GSM1848129</th><th scope=col>GSM1848130</th><th scope=col>GSM1848131</th><th scope=col>GSM1848132</th><th scope=col>GSM1848133</th><th scope=col>GSM1848134</th></tr></thead>\n",
       "<tbody>\n",
       "\t<tr><th scope=row>cg00000029</th><td>0.68910523</td><td>0.68551167</td><td>0.75977178</td><td>0.65727907</td><td>0.63404245</td><td>0.72588567</td><td>0.65619948</td><td>0.6140348 </td><td>0.67052948</td><td>0.7232441 </td><td>...       </td><td>0.73177035</td><td>0.60666165</td><td>0.6687542 </td><td>0.68512457</td><td>0.64111026</td><td>0.66009355</td><td>0.69276720</td><td>0.59985057</td><td>0.65491237</td><td>0.64649846</td></tr>\n",
       "\t<tr><th scope=row>cg00000165</th><td>0.30408118</td><td>0.27562056</td><td>0.26092089</td><td>0.26734497</td><td>0.26996758</td><td>0.25545532</td><td>0.28999485</td><td>0.2448319 </td><td>0.33978426</td><td>0.2655507 </td><td>...       </td><td>0.27054015</td><td>0.30589518</td><td>0.2573734 </td><td>0.36254763</td><td>0.37355127</td><td>0.25492195</td><td>0.23442969</td><td>0.28511570</td><td>0.27673481</td><td>0.34256482</td></tr>\n",
       "\t<tr><th scope=row>cg00000236</th><td>0.84106799</td><td>0.87321004</td><td>0.85686828</td><td>0.85919341</td><td>0.87315903</td><td>0.89452979</td><td>0.82102835</td><td>0.8828818 </td><td>0.84729716</td><td>0.8646884 </td><td>...       </td><td>0.89754616</td><td>0.76968259</td><td>0.8282152 </td><td>0.83042895</td><td>0.85610971</td><td>0.83835810</td><td>0.81334519</td><td>0.81000735</td><td>0.82743065</td><td>0.82974557</td></tr>\n",
       "\t<tr><th scope=row>cg00000289</th><td>0.58055704</td><td>0.67581688</td><td>0.62064084</td><td>0.73375955</td><td>0.60827207</td><td>0.61311707</td><td>0.75738417</td><td>0.6958804 </td><td>0.60618856</td><td>0.5811683 </td><td>...       </td><td>0.54628942</td><td>0.65457471</td><td>0.6653911 </td><td>0.53455427</td><td>0.60783026</td><td>0.64483710</td><td>0.68439674</td><td>0.71449978</td><td>0.69386632</td><td>0.57934496</td></tr>\n",
       "\t<tr><th scope=row>cg00000363</th><td>0.45680079</td><td>0.39148203</td><td>0.47689438</td><td>0.41623062</td><td>0.43821337</td><td>0.41288290</td><td>0.42408061</td><td>0.4203584 </td><td>0.42519080</td><td>0.4557418 </td><td>...       </td><td>0.45468627</td><td>0.47878875</td><td>0.3913858 </td><td>0.46168750</td><td>0.41383446</td><td>0.48221596</td><td>0.44192633</td><td>0.43051696</td><td>0.43193585</td><td>0.52677275</td></tr>\n",
       "\t<tr><th scope=row>cg00000622</th><td>0.05419883</td><td>0.04031674</td><td>0.04830615</td><td>0.05238234</td><td>0.05391736</td><td>0.04242012</td><td>0.06795118</td><td>0.0597488 </td><td>0.03400351</td><td>0.0571482 </td><td>...       </td><td>0.06955773</td><td>0.03782318</td><td>0.0470861 </td><td>0.04543051</td><td>0.06795765</td><td>0.03672021</td><td>0.06997078</td><td>0.05955381</td><td>0.06418592</td><td>0.03811337</td></tr>\n",
       "</tbody>\n",
       "</table>\n"
      ],
      "text/latex": [
       "\\begin{tabular}{r|lllllllllllllllllllllllllllllllllllllllllllllllllllllllllllllllllllllllllllllllllllllllllllllllllllllllllllllllllllllllllllllllllllllll}\n",
       "  & GSM1847992 & GSM1847993 & GSM1847994 & GSM1847995 & GSM1847996 & GSM1847997 & GSM1847998 & GSM1847999 & GSM1848000 & GSM1848001 & ... & GSM1848125 & GSM1848126 & GSM1848127 & GSM1848128 & GSM1848129 & GSM1848130 & GSM1848131 & GSM1848132 & GSM1848133 & GSM1848134\\\\\n",
       "\\hline\n",
       "\tcg00000029 & 0.68910523 & 0.68551167 & 0.75977178 & 0.65727907 & 0.63404245 & 0.72588567 & 0.65619948 & 0.6140348  & 0.67052948 & 0.7232441  & ...        & 0.73177035 & 0.60666165 & 0.6687542  & 0.68512457 & 0.64111026 & 0.66009355 & 0.69276720 & 0.59985057 & 0.65491237 & 0.64649846\\\\\n",
       "\tcg00000165 & 0.30408118 & 0.27562056 & 0.26092089 & 0.26734497 & 0.26996758 & 0.25545532 & 0.28999485 & 0.2448319  & 0.33978426 & 0.2655507  & ...        & 0.27054015 & 0.30589518 & 0.2573734  & 0.36254763 & 0.37355127 & 0.25492195 & 0.23442969 & 0.28511570 & 0.27673481 & 0.34256482\\\\\n",
       "\tcg00000236 & 0.84106799 & 0.87321004 & 0.85686828 & 0.85919341 & 0.87315903 & 0.89452979 & 0.82102835 & 0.8828818  & 0.84729716 & 0.8646884  & ...        & 0.89754616 & 0.76968259 & 0.8282152  & 0.83042895 & 0.85610971 & 0.83835810 & 0.81334519 & 0.81000735 & 0.82743065 & 0.82974557\\\\\n",
       "\tcg00000289 & 0.58055704 & 0.67581688 & 0.62064084 & 0.73375955 & 0.60827207 & 0.61311707 & 0.75738417 & 0.6958804  & 0.60618856 & 0.5811683  & ...        & 0.54628942 & 0.65457471 & 0.6653911  & 0.53455427 & 0.60783026 & 0.64483710 & 0.68439674 & 0.71449978 & 0.69386632 & 0.57934496\\\\\n",
       "\tcg00000363 & 0.45680079 & 0.39148203 & 0.47689438 & 0.41623062 & 0.43821337 & 0.41288290 & 0.42408061 & 0.4203584  & 0.42519080 & 0.4557418  & ...        & 0.45468627 & 0.47878875 & 0.3913858  & 0.46168750 & 0.41383446 & 0.48221596 & 0.44192633 & 0.43051696 & 0.43193585 & 0.52677275\\\\\n",
       "\tcg00000622 & 0.05419883 & 0.04031674 & 0.04830615 & 0.05238234 & 0.05391736 & 0.04242012 & 0.06795118 & 0.0597488  & 0.03400351 & 0.0571482  & ...        & 0.06955773 & 0.03782318 & 0.0470861  & 0.04543051 & 0.06795765 & 0.03672021 & 0.06997078 & 0.05955381 & 0.06418592 & 0.03811337\\\\\n",
       "\\end{tabular}\n"
      ],
      "text/markdown": [
       "\n",
       "| <!--/--> | GSM1847992 | GSM1847993 | GSM1847994 | GSM1847995 | GSM1847996 | GSM1847997 | GSM1847998 | GSM1847999 | GSM1848000 | GSM1848001 | ... | GSM1848125 | GSM1848126 | GSM1848127 | GSM1848128 | GSM1848129 | GSM1848130 | GSM1848131 | GSM1848132 | GSM1848133 | GSM1848134 |\n",
       "|---|---|---|---|---|---|---|---|---|---|---|---|---|---|---|---|---|---|---|---|---|---|\n",
       "| cg00000029 | 0.68910523 | 0.68551167 | 0.75977178 | 0.65727907 | 0.63404245 | 0.72588567 | 0.65619948 | 0.6140348  | 0.67052948 | 0.7232441  | ...        | 0.73177035 | 0.60666165 | 0.6687542  | 0.68512457 | 0.64111026 | 0.66009355 | 0.69276720 | 0.59985057 | 0.65491237 | 0.64649846 |\n",
       "| cg00000165 | 0.30408118 | 0.27562056 | 0.26092089 | 0.26734497 | 0.26996758 | 0.25545532 | 0.28999485 | 0.2448319  | 0.33978426 | 0.2655507  | ...        | 0.27054015 | 0.30589518 | 0.2573734  | 0.36254763 | 0.37355127 | 0.25492195 | 0.23442969 | 0.28511570 | 0.27673481 | 0.34256482 |\n",
       "| cg00000236 | 0.84106799 | 0.87321004 | 0.85686828 | 0.85919341 | 0.87315903 | 0.89452979 | 0.82102835 | 0.8828818  | 0.84729716 | 0.8646884  | ...        | 0.89754616 | 0.76968259 | 0.8282152  | 0.83042895 | 0.85610971 | 0.83835810 | 0.81334519 | 0.81000735 | 0.82743065 | 0.82974557 |\n",
       "| cg00000289 | 0.58055704 | 0.67581688 | 0.62064084 | 0.73375955 | 0.60827207 | 0.61311707 | 0.75738417 | 0.6958804  | 0.60618856 | 0.5811683  | ...        | 0.54628942 | 0.65457471 | 0.6653911  | 0.53455427 | 0.60783026 | 0.64483710 | 0.68439674 | 0.71449978 | 0.69386632 | 0.57934496 |\n",
       "| cg00000363 | 0.45680079 | 0.39148203 | 0.47689438 | 0.41623062 | 0.43821337 | 0.41288290 | 0.42408061 | 0.4203584  | 0.42519080 | 0.4557418  | ...        | 0.45468627 | 0.47878875 | 0.3913858  | 0.46168750 | 0.41383446 | 0.48221596 | 0.44192633 | 0.43051696 | 0.43193585 | 0.52677275 |\n",
       "| cg00000622 | 0.05419883 | 0.04031674 | 0.04830615 | 0.05238234 | 0.05391736 | 0.04242012 | 0.06795118 | 0.0597488  | 0.03400351 | 0.0571482  | ...        | 0.06955773 | 0.03782318 | 0.0470861  | 0.04543051 | 0.06795765 | 0.03672021 | 0.06997078 | 0.05955381 | 0.06418592 | 0.03811337 |\n",
       "\n"
      ],
      "text/plain": [
       "           GSM1847992 GSM1847993 GSM1847994 GSM1847995 GSM1847996 GSM1847997\n",
       "cg00000029 0.68910523 0.68551167 0.75977178 0.65727907 0.63404245 0.72588567\n",
       "cg00000165 0.30408118 0.27562056 0.26092089 0.26734497 0.26996758 0.25545532\n",
       "cg00000236 0.84106799 0.87321004 0.85686828 0.85919341 0.87315903 0.89452979\n",
       "cg00000289 0.58055704 0.67581688 0.62064084 0.73375955 0.60827207 0.61311707\n",
       "cg00000363 0.45680079 0.39148203 0.47689438 0.41623062 0.43821337 0.41288290\n",
       "cg00000622 0.05419883 0.04031674 0.04830615 0.05238234 0.05391736 0.04242012\n",
       "           GSM1847998 GSM1847999 GSM1848000 GSM1848001 ... GSM1848125\n",
       "cg00000029 0.65619948 0.6140348  0.67052948 0.7232441  ... 0.73177035\n",
       "cg00000165 0.28999485 0.2448319  0.33978426 0.2655507  ... 0.27054015\n",
       "cg00000236 0.82102835 0.8828818  0.84729716 0.8646884  ... 0.89754616\n",
       "cg00000289 0.75738417 0.6958804  0.60618856 0.5811683  ... 0.54628942\n",
       "cg00000363 0.42408061 0.4203584  0.42519080 0.4557418  ... 0.45468627\n",
       "cg00000622 0.06795118 0.0597488  0.03400351 0.0571482  ... 0.06955773\n",
       "           GSM1848126 GSM1848127 GSM1848128 GSM1848129 GSM1848130 GSM1848131\n",
       "cg00000029 0.60666165 0.6687542  0.68512457 0.64111026 0.66009355 0.69276720\n",
       "cg00000165 0.30589518 0.2573734  0.36254763 0.37355127 0.25492195 0.23442969\n",
       "cg00000236 0.76968259 0.8282152  0.83042895 0.85610971 0.83835810 0.81334519\n",
       "cg00000289 0.65457471 0.6653911  0.53455427 0.60783026 0.64483710 0.68439674\n",
       "cg00000363 0.47878875 0.3913858  0.46168750 0.41383446 0.48221596 0.44192633\n",
       "cg00000622 0.03782318 0.0470861  0.04543051 0.06795765 0.03672021 0.06997078\n",
       "           GSM1848132 GSM1848133 GSM1848134\n",
       "cg00000029 0.59985057 0.65491237 0.64649846\n",
       "cg00000165 0.28511570 0.27673481 0.34256482\n",
       "cg00000236 0.81000735 0.82743065 0.82974557\n",
       "cg00000289 0.71449978 0.69386632 0.57934496\n",
       "cg00000363 0.43051696 0.43193585 0.52677275\n",
       "cg00000622 0.05955381 0.06418592 0.03811337"
      ]
     },
     "metadata": {},
     "output_type": "display_data"
    }
   ],
   "source": [
    "rownames(mat) <- anno$Name\n",
    "head(mat)"
   ]
  },
  {
   "cell_type": "markdown",
   "metadata": {},
   "source": [
    "# Divide the datasets "
   ]
  },
  {
   "cell_type": "code",
   "execution_count": 13,
   "metadata": {},
   "outputs": [],
   "source": [
    "cd4_geo <- filter(key, cell_type == \"CD4 T cells\")$geo\n",
    "cd8_geo <- filter(key, cell_type == 'CD8 T cells')$geo\n",
    "\n",
    "cd4_key <- filter(key, cell_type == \"CD4 T cells\")\n",
    "cd8_key <- filter(key, cell_type == 'CD8 T cells')\n",
    "\n"
   ]
  },
  {
   "cell_type": "code",
   "execution_count": 14,
   "metadata": {},
   "outputs": [],
   "source": [
    "cd4_mat <- mat %>% select(cd4_geo)\n",
    "cd8_mat <- mat %>% select(cd8_geo)"
   ]
  },
  {
   "cell_type": "code",
   "execution_count": 15,
   "metadata": {},
   "outputs": [
    {
     "data": {
      "text/html": [
       "67"
      ],
      "text/latex": [
       "67"
      ],
      "text/markdown": [
       "67"
      ],
      "text/plain": [
       "[1] 67"
      ]
     },
     "metadata": {},
     "output_type": "display_data"
    },
    {
     "data": {
      "text/html": [
       "67"
      ],
      "text/latex": [
       "67"
      ],
      "text/markdown": [
       "67"
      ],
      "text/plain": [
       "[1] 67"
      ]
     },
     "metadata": {},
     "output_type": "display_data"
    },
    {
     "data": {
      "text/html": [
       "68"
      ],
      "text/latex": [
       "68"
      ],
      "text/markdown": [
       "68"
      ],
      "text/plain": [
       "[1] 68"
      ]
     },
     "metadata": {},
     "output_type": "display_data"
    },
    {
     "data": {
      "text/html": [
       "68"
      ],
      "text/latex": [
       "68"
      ],
      "text/markdown": [
       "68"
      ],
      "text/plain": [
       "[1] 68"
      ]
     },
     "metadata": {},
     "output_type": "display_data"
    },
    {
     "data": {
      "text/html": [
       "<ol class=list-inline>\n",
       "\t<li>328385</li>\n",
       "\t<li>67</li>\n",
       "</ol>\n"
      ],
      "text/latex": [
       "\\begin{enumerate*}\n",
       "\\item 328385\n",
       "\\item 67\n",
       "\\end{enumerate*}\n"
      ],
      "text/markdown": [
       "1. 328385\n",
       "2. 67\n",
       "\n",
       "\n"
      ],
      "text/plain": [
       "[1] 328385     67"
      ]
     },
     "metadata": {},
     "output_type": "display_data"
    },
    {
     "data": {
      "text/html": [
       "<ol class=list-inline>\n",
       "\t<li>328385</li>\n",
       "\t<li>68</li>\n",
       "</ol>\n"
      ],
      "text/latex": [
       "\\begin{enumerate*}\n",
       "\\item 328385\n",
       "\\item 68\n",
       "\\end{enumerate*}\n"
      ],
      "text/markdown": [
       "1. 328385\n",
       "2. 68\n",
       "\n",
       "\n"
      ],
      "text/plain": [
       "[1] 328385     68"
      ]
     },
     "metadata": {},
     "output_type": "display_data"
    }
   ],
   "source": [
    "ncol(cd4_mat)\n",
    "nrow(cd4_key)\n",
    "\n",
    "ncol(cd8_mat)\n",
    "nrow(cd8_key)\n",
    "\n",
    "dim(cd4_mat)\n",
    "dim(cd8_mat)"
   ]
  },
  {
   "cell_type": "markdown",
   "metadata": {},
   "source": [
    "## Initial QC\n",
    "\n",
    "Once you make sure the data is matched and complete, you can start looking at some specific quality parameters. First, if the description doesn't say it, you need to find out what kind of intensity values you have (**beta** or **M values**). Remember the qualities of these values and think of how you can find out which ones you have.\n",
    "\n",
    "- Do you have Beta or M values?\n",
    "\n",
    "When you find out what type of data you have, you should get a better idea of the expected **distribution** of the data. Easiest way to check this, is to plot some basic plots:\n",
    "\n",
    "- Plot a histogram (or a density plot) of the data. Is this a good distribution?\n",
    "\n",
    "Histogram is a very good way to see if the data is technically 'clean'. It shows you the value distribution of the whole dataset, but what about each individual sample? For this, we can use `boxplots`.\n",
    "\n",
    "- Draw a boxplot showing the distribution of values in the first 50 samples.\n",
    "\n",
    "This can give us a quick idea if there are any possible outlier samples.\n"
   ]
  },
  {
   "cell_type": "markdown",
   "metadata": {},
   "source": [
    "# CD8"
   ]
  },
  {
   "cell_type": "code",
   "execution_count": null,
   "metadata": {},
   "outputs": [],
   "source": [
    "sum(is.na(cd8_mat))"
   ]
  },
  {
   "cell_type": "code",
   "execution_count": null,
   "metadata": {},
   "outputs": [],
   "source": [
    "# This part is needed because there are missing values in some samples\n",
    "cd8_mat <- imputePCA(as.matrix(cd8_mat))\n",
    "cd8_mat <- cd8_mat$completeObs"
   ]
  },
  {
   "cell_type": "code",
   "execution_count": null,
   "metadata": {},
   "outputs": [],
   "source": [
    "cd8_mat[cd8_mat < 0] <- 0\n",
    "cd8_mat[cd8_mat > 1] <- 1"
   ]
  },
  {
   "cell_type": "code",
   "execution_count": null,
   "metadata": {},
   "outputs": [],
   "source": [
    "range(cd8_mat)\n",
    "hist(head(cd8_mat, 100), breaks=50)\n",
    "plot(density(cd8_mat))\n",
    "boxplot(cd8_mat[,1:50])\n"
   ]
  },
  {
   "cell_type": "code",
   "execution_count": null,
   "metadata": {
    "scrolled": true
   },
   "outputs": [],
   "source": [
    "\n",
    "# Get the PCA for your data. Remember to use a transposed matrix to calculate it!\n",
    "# When done, plot the first 4 principal components using 'pairs' function\n",
    "pca <- prcomp(t(cd8_mat)) # the t() part here transposes (flips) the matrix on its side\n",
    "# 'pairs' is simply a function to plot the PC scores\n",
    "# we are looking at the first 4, but you can look at more\n",
    "pairs(pca$x[,1:4])\n"
   ]
  },
  {
   "cell_type": "code",
   "execution_count": null,
   "metadata": {},
   "outputs": [],
   "source": [
    "# You can also see the proportion of variance explained by each principal component\n",
    "# This type of plot is called a scree plot (function screeplot)\n",
    "# This can be printed with summary(pca)\n",
    "screeplot(pca, type = \"line\", main = \"Scree plot\") # \"main\"\" is the title of the plot\n"
   ]
  },
  {
   "cell_type": "code",
   "execution_count": null,
   "metadata": {},
   "outputs": [],
   "source": [
    "pairs(pca$x[,1:4], col=as.factor(key$diagnosis))\n"
   ]
  },
  {
   "cell_type": "markdown",
   "metadata": {},
   "source": [
    "# CD4"
   ]
  },
  {
   "cell_type": "code",
   "execution_count": null,
   "metadata": {},
   "outputs": [],
   "source": [
    "sum(is.na(cd4_mat))"
   ]
  },
  {
   "cell_type": "code",
   "execution_count": null,
   "metadata": {},
   "outputs": [],
   "source": [
    "# This part is needed because there are missing values in some samples\n",
    "cd4_mat <- imputePCA(as.matrix(cd4_mat))\n",
    "cd4_mat <- cd4_mat$completeObs"
   ]
  },
  {
   "cell_type": "code",
   "execution_count": null,
   "metadata": {},
   "outputs": [],
   "source": [
    "cd4_mat[cd4_mat < 0] <- 0\n",
    "cd4_mat[cd4_mat > 1] <- 1"
   ]
  },
  {
   "cell_type": "code",
   "execution_count": 63,
   "metadata": {},
   "outputs": [
    {
     "data": {
      "text/html": [
       "<ol class=list-inline>\n",
       "\t<li>0.00261093761092724</li>\n",
       "\t<li>0.997151475171623</li>\n",
       "</ol>\n"
      ],
      "text/latex": [
       "\\begin{enumerate*}\n",
       "\\item 0.00261093761092724\n",
       "\\item 0.997151475171623\n",
       "\\end{enumerate*}\n"
      ],
      "text/markdown": [
       "1. 0.00261093761092724\n",
       "2. 0.997151475171623\n",
       "\n",
       "\n"
      ],
      "text/plain": [
       "[1] 0.002610938 0.997151475"
      ]
     },
     "metadata": {},
     "output_type": "display_data"
    },
    {
     "data": {
      "image/png": "[encoded data removed]",
      "text/plain": [
       "Plot with title \"Histogram of head(cd4_mat, 100)\""
      ]
     },
     "metadata": {},
     "output_type": "display_data"
    },
    {
     "data": {
      "image/png": "[encoded data removed]",
      "text/plain": [
       "Plot with title \"density.default(x = cd4_mat)\""
      ]
     },
     "metadata": {},
     "output_type": "display_data"
    },
    {
     "data": {
      "image/png": "[encoded data removed]",
      "text/plain": [
       "plot without title"
      ]
     },
     "metadata": {},
     "output_type": "display_data"
    }
   ],
   "source": [
    "range(cd4_mat)\n",
    "hist(head(cd4_mat, 100), breaks=50)\n",
    "plot(density(cd4_mat))\n",
    "boxplot(cd4_mat[,1:50])\n"
   ]
  },
  {
   "cell_type": "markdown",
   "metadata": {},
   "source": [
    "# Prior to finding differentially methylated sites, the methylation values of each CpG site were corrected by fitting a linear model with age, sex, methylation bead array chip and array row on the chip as covariates."
   ]
  },
  {
   "cell_type": "code",
   "execution_count": 5,
   "metadata": {},
   "outputs": [
    {
     "name": "stderr",
     "output_type": "stream",
     "text": [
      "Found37batches\n",
      "Note: one batch has only one sample, setting mean.only=TRUE\n",
      "Adjusting for1covariate(s) or covariate level(s)\n"
     ]
    },
    {
     "name": "stdout",
     "output_type": "stream",
     "text": [
      "Standardizing Data across genes\n"
     ]
    },
    {
     "name": "stderr",
     "output_type": "stream",
     "text": [
      "Fitting L/S model and finding priors\n",
      "Finding parametric adjustments\n",
      "Adjusting the Data\n",
      "\n"
     ]
    }
   ],
   "source": [
    "combat_cd8_mat <- ComBat(dat = cd8_mat, batch = cd8_key$age, \n",
    "                     mod = model.matrix(~as.factor(diagnosis),\n",
    "                                      data=cd8_key),\n",
    "                     par.prior=TRUE, prior.plots=FALSE)"
   ]
  },
  {
   "cell_type": "code",
   "execution_count": 6,
   "metadata": {},
   "outputs": [
    {
     "data": {
      "text/html": [
       "<table>\n",
       "<thead><tr><th></th><th scope=col>GSM1848063</th><th scope=col>GSM1848065</th><th scope=col>GSM1848068</th><th scope=col>GSM1848070</th><th scope=col>GSM1848071</th><th scope=col>GSM1848072</th><th scope=col>GSM1848073</th><th scope=col>GSM1848074</th><th scope=col>GSM1848075</th><th scope=col>GSM1848076</th><th scope=col>...</th><th scope=col>GSM1848125</th><th scope=col>GSM1848126</th><th scope=col>GSM1848127</th><th scope=col>GSM1848128</th><th scope=col>GSM1848129</th><th scope=col>GSM1848130</th><th scope=col>GSM1848131</th><th scope=col>GSM1848132</th><th scope=col>GSM1848133</th><th scope=col>GSM1848134</th></tr></thead>\n",
       "<tbody>\n",
       "\t<tr><th scope=row>cg00000029</th><td>0.6230955</td><td>0.7305771</td><td>0.7188707</td><td>0.7397200</td><td>0.7400317</td><td>0.7116196</td><td>0.6773810</td><td>0.6559004</td><td>0.7022973</td><td>0.7273144</td><td>...      </td><td>0.7317703</td><td>0.6066616</td><td>0.6687542</td><td>0.6851246</td><td>0.6411103</td><td>0.6600936</td><td>0.6927672</td><td>0.5998506</td><td>0.6549124</td><td>0.6464985</td></tr>\n",
       "\t<tr><th scope=row>cg00000165</th><td>0.2850181</td><td>0.2673007</td><td>0.2830329</td><td>0.2720503</td><td>0.2422538</td><td>0.2895959</td><td>0.3227511</td><td>0.2454971</td><td>0.3388622</td><td>0.3536687</td><td>...      </td><td>0.2705401</td><td>0.3058952</td><td>0.2573734</td><td>0.3625476</td><td>0.3735513</td><td>0.2549220</td><td>0.2344297</td><td>0.2851157</td><td>0.2767348</td><td>0.3425648</td></tr>\n",
       "\t<tr><th scope=row>cg00000236</th><td>0.8674554</td><td>0.8465983</td><td>0.8390820</td><td>0.8691962</td><td>0.8690748</td><td>0.8745982</td><td>0.8374156</td><td>0.8528251</td><td>0.8717207</td><td>0.8647851</td><td>...      </td><td>0.8975462</td><td>0.7696826</td><td>0.8282152</td><td>0.8304289</td><td>0.8561097</td><td>0.8383581</td><td>0.8133452</td><td>0.8100074</td><td>0.8274307</td><td>0.8297456</td></tr>\n",
       "\t<tr><th scope=row>cg00000289</th><td>0.5929520</td><td>0.6267766</td><td>0.5997672</td><td>0.6720554</td><td>0.6231661</td><td>0.6615208</td><td>0.6760411</td><td>0.7237696</td><td>0.6310488</td><td>0.6750161</td><td>...      </td><td>0.5462894</td><td>0.6545747</td><td>0.6653911</td><td>0.5345543</td><td>0.6078303</td><td>0.6448371</td><td>0.6843967</td><td>0.7144998</td><td>0.6938663</td><td>0.5793450</td></tr>\n",
       "\t<tr><th scope=row>cg00000363</th><td>0.4617321</td><td>0.4289924</td><td>0.4937326</td><td>0.4037695</td><td>0.4295057</td><td>0.4775721</td><td>0.4213711</td><td>0.4059587</td><td>0.4445547</td><td>0.4166180</td><td>...      </td><td>0.4546863</td><td>0.4787887</td><td>0.3913858</td><td>0.4616875</td><td>0.4138345</td><td>0.4822160</td><td>0.4419263</td><td>0.4305170</td><td>0.4319359</td><td>0.5267727</td></tr>\n",
       "</tbody>\n",
       "</table>\n"
      ],
      "text/latex": [
       "\\begin{tabular}{r|llllllllllllllllllllllllllllllllllllllllllllllllllllllllllllllllllll}\n",
       "  & GSM1848063 & GSM1848065 & GSM1848068 & GSM1848070 & GSM1848071 & GSM1848072 & GSM1848073 & GSM1848074 & GSM1848075 & GSM1848076 & ... & GSM1848125 & GSM1848126 & GSM1848127 & GSM1848128 & GSM1848129 & GSM1848130 & GSM1848131 & GSM1848132 & GSM1848133 & GSM1848134\\\\\n",
       "\\hline\n",
       "\tcg00000029 & 0.6230955 & 0.7305771 & 0.7188707 & 0.7397200 & 0.7400317 & 0.7116196 & 0.6773810 & 0.6559004 & 0.7022973 & 0.7273144 & ...       & 0.7317703 & 0.6066616 & 0.6687542 & 0.6851246 & 0.6411103 & 0.6600936 & 0.6927672 & 0.5998506 & 0.6549124 & 0.6464985\\\\\n",
       "\tcg00000165 & 0.2850181 & 0.2673007 & 0.2830329 & 0.2720503 & 0.2422538 & 0.2895959 & 0.3227511 & 0.2454971 & 0.3388622 & 0.3536687 & ...       & 0.2705401 & 0.3058952 & 0.2573734 & 0.3625476 & 0.3735513 & 0.2549220 & 0.2344297 & 0.2851157 & 0.2767348 & 0.3425648\\\\\n",
       "\tcg00000236 & 0.8674554 & 0.8465983 & 0.8390820 & 0.8691962 & 0.8690748 & 0.8745982 & 0.8374156 & 0.8528251 & 0.8717207 & 0.8647851 & ...       & 0.8975462 & 0.7696826 & 0.8282152 & 0.8304289 & 0.8561097 & 0.8383581 & 0.8133452 & 0.8100074 & 0.8274307 & 0.8297456\\\\\n",
       "\tcg00000289 & 0.5929520 & 0.6267766 & 0.5997672 & 0.6720554 & 0.6231661 & 0.6615208 & 0.6760411 & 0.7237696 & 0.6310488 & 0.6750161 & ...       & 0.5462894 & 0.6545747 & 0.6653911 & 0.5345543 & 0.6078303 & 0.6448371 & 0.6843967 & 0.7144998 & 0.6938663 & 0.5793450\\\\\n",
       "\tcg00000363 & 0.4617321 & 0.4289924 & 0.4937326 & 0.4037695 & 0.4295057 & 0.4775721 & 0.4213711 & 0.4059587 & 0.4445547 & 0.4166180 & ...       & 0.4546863 & 0.4787887 & 0.3913858 & 0.4616875 & 0.4138345 & 0.4822160 & 0.4419263 & 0.4305170 & 0.4319359 & 0.5267727\\\\\n",
       "\\end{tabular}\n"
      ],
      "text/markdown": [
       "\n",
       "| <!--/--> | GSM1848063 | GSM1848065 | GSM1848068 | GSM1848070 | GSM1848071 | GSM1848072 | GSM1848073 | GSM1848074 | GSM1848075 | GSM1848076 | ... | GSM1848125 | GSM1848126 | GSM1848127 | GSM1848128 | GSM1848129 | GSM1848130 | GSM1848131 | GSM1848132 | GSM1848133 | GSM1848134 |\n",
       "|---|---|---|---|---|---|---|---|---|---|---|---|---|---|---|---|---|---|---|---|---|---|\n",
       "| cg00000029 | 0.6230955 | 0.7305771 | 0.7188707 | 0.7397200 | 0.7400317 | 0.7116196 | 0.6773810 | 0.6559004 | 0.7022973 | 0.7273144 | ...       | 0.7317703 | 0.6066616 | 0.6687542 | 0.6851246 | 0.6411103 | 0.6600936 | 0.6927672 | 0.5998506 | 0.6549124 | 0.6464985 |\n",
       "| cg00000165 | 0.2850181 | 0.2673007 | 0.2830329 | 0.2720503 | 0.2422538 | 0.2895959 | 0.3227511 | 0.2454971 | 0.3388622 | 0.3536687 | ...       | 0.2705401 | 0.3058952 | 0.2573734 | 0.3625476 | 0.3735513 | 0.2549220 | 0.2344297 | 0.2851157 | 0.2767348 | 0.3425648 |\n",
       "| cg00000236 | 0.8674554 | 0.8465983 | 0.8390820 | 0.8691962 | 0.8690748 | 0.8745982 | 0.8374156 | 0.8528251 | 0.8717207 | 0.8647851 | ...       | 0.8975462 | 0.7696826 | 0.8282152 | 0.8304289 | 0.8561097 | 0.8383581 | 0.8133452 | 0.8100074 | 0.8274307 | 0.8297456 |\n",
       "| cg00000289 | 0.5929520 | 0.6267766 | 0.5997672 | 0.6720554 | 0.6231661 | 0.6615208 | 0.6760411 | 0.7237696 | 0.6310488 | 0.6750161 | ...       | 0.5462894 | 0.6545747 | 0.6653911 | 0.5345543 | 0.6078303 | 0.6448371 | 0.6843967 | 0.7144998 | 0.6938663 | 0.5793450 |\n",
       "| cg00000363 | 0.4617321 | 0.4289924 | 0.4937326 | 0.4037695 | 0.4295057 | 0.4775721 | 0.4213711 | 0.4059587 | 0.4445547 | 0.4166180 | ...       | 0.4546863 | 0.4787887 | 0.3913858 | 0.4616875 | 0.4138345 | 0.4822160 | 0.4419263 | 0.4305170 | 0.4319359 | 0.5267727 |\n",
       "\n"
      ],
      "text/plain": [
       "           GSM1848063 GSM1848065 GSM1848068 GSM1848070 GSM1848071 GSM1848072\n",
       "cg00000029 0.6230955  0.7305771  0.7188707  0.7397200  0.7400317  0.7116196 \n",
       "cg00000165 0.2850181  0.2673007  0.2830329  0.2720503  0.2422538  0.2895959 \n",
       "cg00000236 0.8674554  0.8465983  0.8390820  0.8691962  0.8690748  0.8745982 \n",
       "cg00000289 0.5929520  0.6267766  0.5997672  0.6720554  0.6231661  0.6615208 \n",
       "cg00000363 0.4617321  0.4289924  0.4937326  0.4037695  0.4295057  0.4775721 \n",
       "           GSM1848073 GSM1848074 GSM1848075 GSM1848076 ... GSM1848125\n",
       "cg00000029 0.6773810  0.6559004  0.7022973  0.7273144  ... 0.7317703 \n",
       "cg00000165 0.3227511  0.2454971  0.3388622  0.3536687  ... 0.2705401 \n",
       "cg00000236 0.8374156  0.8528251  0.8717207  0.8647851  ... 0.8975462 \n",
       "cg00000289 0.6760411  0.7237696  0.6310488  0.6750161  ... 0.5462894 \n",
       "cg00000363 0.4213711  0.4059587  0.4445547  0.4166180  ... 0.4546863 \n",
       "           GSM1848126 GSM1848127 GSM1848128 GSM1848129 GSM1848130 GSM1848131\n",
       "cg00000029 0.6066616  0.6687542  0.6851246  0.6411103  0.6600936  0.6927672 \n",
       "cg00000165 0.3058952  0.2573734  0.3625476  0.3735513  0.2549220  0.2344297 \n",
       "cg00000236 0.7696826  0.8282152  0.8304289  0.8561097  0.8383581  0.8133452 \n",
       "cg00000289 0.6545747  0.6653911  0.5345543  0.6078303  0.6448371  0.6843967 \n",
       "cg00000363 0.4787887  0.3913858  0.4616875  0.4138345  0.4822160  0.4419263 \n",
       "           GSM1848132 GSM1848133 GSM1848134\n",
       "cg00000029 0.5998506  0.6549124  0.6464985 \n",
       "cg00000165 0.2851157  0.2767348  0.3425648 \n",
       "cg00000236 0.8100074  0.8274307  0.8297456 \n",
       "cg00000289 0.7144998  0.6938663  0.5793450 \n",
       "cg00000363 0.4305170  0.4319359  0.5267727 "
      ]
     },
     "metadata": {},
     "output_type": "display_data"
    },
    {
     "data": {
      "text/html": [
       "<table>\n",
       "<thead><tr><th></th><th scope=col>GSM1848063</th><th scope=col>GSM1848065</th><th scope=col>GSM1848068</th><th scope=col>GSM1848070</th><th scope=col>GSM1848071</th><th scope=col>GSM1848072</th><th scope=col>GSM1848073</th><th scope=col>GSM1848074</th><th scope=col>GSM1848075</th><th scope=col>GSM1848076</th><th scope=col>...</th><th scope=col>GSM1848125</th><th scope=col>GSM1848126</th><th scope=col>GSM1848127</th><th scope=col>GSM1848128</th><th scope=col>GSM1848129</th><th scope=col>GSM1848130</th><th scope=col>GSM1848131</th><th scope=col>GSM1848132</th><th scope=col>GSM1848133</th><th scope=col>GSM1848134</th></tr></thead>\n",
       "<tbody>\n",
       "\t<tr><th scope=row>cg00000029</th><td>0.6203648</td><td>0.7182062</td><td>0.7083657</td><td>0.7099486</td><td>0.7276608</td><td>0.6999082</td><td>0.6650101</td><td>0.6798521</td><td>0.6935323</td><td>0.7337157</td><td>...      </td><td>0.6741129</td><td>0.6392339</td><td>0.6529824</td><td>0.6823939</td><td>0.6520730</td><td>0.6495885</td><td>0.6769954</td><td>0.6354255</td><td>0.6401851</td><td>0.6512534</td></tr>\n",
       "\t<tr><th scope=row>cg00000165</th><td>0.2772515</td><td>0.2752825</td><td>0.2991042</td><td>0.2862524</td><td>0.2502356</td><td>0.2829333</td><td>0.3307329</td><td>0.2821096</td><td>0.3081541</td><td>0.3345168</td><td>...      </td><td>0.2914282</td><td>0.3004683</td><td>0.2873597</td><td>0.3547811</td><td>0.3113580</td><td>0.2709932</td><td>0.2644160</td><td>0.2935029</td><td>0.2939871</td><td>0.3369698</td></tr>\n",
       "\t<tr><th scope=row>cg00000236</th><td>0.8666042</td><td>0.8497590</td><td>0.8437146</td><td>0.8630184</td><td>0.8722355</td><td>0.8715520</td><td>0.8405763</td><td>0.8565717</td><td>0.8627008</td><td>0.8714202</td><td>...      </td><td>0.8513895</td><td>0.8149583</td><td>0.8363873</td><td>0.8295777</td><td>0.8390699</td><td>0.8429907</td><td>0.8215173</td><td>0.8265282</td><td>0.8279266</td><td>0.8312827</td></tr>\n",
       "\t<tr><th scope=row>cg00000289</th><td>0.6048901</td><td>0.6193616</td><td>0.6101379</td><td>0.6451409</td><td>0.6157511</td><td>0.6556522</td><td>0.6686261</td><td>0.6508826</td><td>0.6284747</td><td>0.6637474</td><td>...      </td><td>0.6274620</td><td>0.6545426</td><td>0.6534344</td><td>0.5464923</td><td>0.6471007</td><td>0.6552077</td><td>0.6724400</td><td>0.6743559</td><td>0.6841779</td><td>0.5777657</td></tr>\n",
       "\t<tr><th scope=row>cg00000363</th><td>0.4545016</td><td>0.4318915</td><td>0.4682718</td><td>0.4217569</td><td>0.4324048</td><td>0.4763908</td><td>0.4242702</td><td>0.4258363</td><td>0.4375397</td><td>0.4090658</td><td>...      </td><td>0.4549814</td><td>0.4619316</td><td>0.4130256</td><td>0.4544570</td><td>0.4479943</td><td>0.4567552</td><td>0.4635661</td><td>0.4461406</td><td>0.4412750</td><td>0.5212534</td></tr>\n",
       "</tbody>\n",
       "</table>\n"
      ],
      "text/latex": [
       "\\begin{tabular}{r|llllllllllllllllllllllllllllllllllllllllllllllllllllllllllllllllllll}\n",
       "  & GSM1848063 & GSM1848065 & GSM1848068 & GSM1848070 & GSM1848071 & GSM1848072 & GSM1848073 & GSM1848074 & GSM1848075 & GSM1848076 & ... & GSM1848125 & GSM1848126 & GSM1848127 & GSM1848128 & GSM1848129 & GSM1848130 & GSM1848131 & GSM1848132 & GSM1848133 & GSM1848134\\\\\n",
       "\\hline\n",
       "\tcg00000029 & 0.6203648 & 0.7182062 & 0.7083657 & 0.7099486 & 0.7276608 & 0.6999082 & 0.6650101 & 0.6798521 & 0.6935323 & 0.7337157 & ...       & 0.6741129 & 0.6392339 & 0.6529824 & 0.6823939 & 0.6520730 & 0.6495885 & 0.6769954 & 0.6354255 & 0.6401851 & 0.6512534\\\\\n",
       "\tcg00000165 & 0.2772515 & 0.2752825 & 0.2991042 & 0.2862524 & 0.2502356 & 0.2829333 & 0.3307329 & 0.2821096 & 0.3081541 & 0.3345168 & ...       & 0.2914282 & 0.3004683 & 0.2873597 & 0.3547811 & 0.3113580 & 0.2709932 & 0.2644160 & 0.2935029 & 0.2939871 & 0.3369698\\\\\n",
       "\tcg00000236 & 0.8666042 & 0.8497590 & 0.8437146 & 0.8630184 & 0.8722355 & 0.8715520 & 0.8405763 & 0.8565717 & 0.8627008 & 0.8714202 & ...       & 0.8513895 & 0.8149583 & 0.8363873 & 0.8295777 & 0.8390699 & 0.8429907 & 0.8215173 & 0.8265282 & 0.8279266 & 0.8312827\\\\\n",
       "\tcg00000289 & 0.6048901 & 0.6193616 & 0.6101379 & 0.6451409 & 0.6157511 & 0.6556522 & 0.6686261 & 0.6508826 & 0.6284747 & 0.6637474 & ...       & 0.6274620 & 0.6545426 & 0.6534344 & 0.5464923 & 0.6471007 & 0.6552077 & 0.6724400 & 0.6743559 & 0.6841779 & 0.5777657\\\\\n",
       "\tcg00000363 & 0.4545016 & 0.4318915 & 0.4682718 & 0.4217569 & 0.4324048 & 0.4763908 & 0.4242702 & 0.4258363 & 0.4375397 & 0.4090658 & ...       & 0.4549814 & 0.4619316 & 0.4130256 & 0.4544570 & 0.4479943 & 0.4567552 & 0.4635661 & 0.4461406 & 0.4412750 & 0.5212534\\\\\n",
       "\\end{tabular}\n"
      ],
      "text/markdown": [
       "\n",
       "| <!--/--> | GSM1848063 | GSM1848065 | GSM1848068 | GSM1848070 | GSM1848071 | GSM1848072 | GSM1848073 | GSM1848074 | GSM1848075 | GSM1848076 | ... | GSM1848125 | GSM1848126 | GSM1848127 | GSM1848128 | GSM1848129 | GSM1848130 | GSM1848131 | GSM1848132 | GSM1848133 | GSM1848134 |\n",
       "|---|---|---|---|---|---|---|---|---|---|---|---|---|---|---|---|---|---|---|---|---|---|\n",
       "| cg00000029 | 0.6203648 | 0.7182062 | 0.7083657 | 0.7099486 | 0.7276608 | 0.6999082 | 0.6650101 | 0.6798521 | 0.6935323 | 0.7337157 | ...       | 0.6741129 | 0.6392339 | 0.6529824 | 0.6823939 | 0.6520730 | 0.6495885 | 0.6769954 | 0.6354255 | 0.6401851 | 0.6512534 |\n",
       "| cg00000165 | 0.2772515 | 0.2752825 | 0.2991042 | 0.2862524 | 0.2502356 | 0.2829333 | 0.3307329 | 0.2821096 | 0.3081541 | 0.3345168 | ...       | 0.2914282 | 0.3004683 | 0.2873597 | 0.3547811 | 0.3113580 | 0.2709932 | 0.2644160 | 0.2935029 | 0.2939871 | 0.3369698 |\n",
       "| cg00000236 | 0.8666042 | 0.8497590 | 0.8437146 | 0.8630184 | 0.8722355 | 0.8715520 | 0.8405763 | 0.8565717 | 0.8627008 | 0.8714202 | ...       | 0.8513895 | 0.8149583 | 0.8363873 | 0.8295777 | 0.8390699 | 0.8429907 | 0.8215173 | 0.8265282 | 0.8279266 | 0.8312827 |\n",
       "| cg00000289 | 0.6048901 | 0.6193616 | 0.6101379 | 0.6451409 | 0.6157511 | 0.6556522 | 0.6686261 | 0.6508826 | 0.6284747 | 0.6637474 | ...       | 0.6274620 | 0.6545426 | 0.6534344 | 0.5464923 | 0.6471007 | 0.6552077 | 0.6724400 | 0.6743559 | 0.6841779 | 0.5777657 |\n",
       "| cg00000363 | 0.4545016 | 0.4318915 | 0.4682718 | 0.4217569 | 0.4324048 | 0.4763908 | 0.4242702 | 0.4258363 | 0.4375397 | 0.4090658 | ...       | 0.4549814 | 0.4619316 | 0.4130256 | 0.4544570 | 0.4479943 | 0.4567552 | 0.4635661 | 0.4461406 | 0.4412750 | 0.5212534 |\n",
       "\n"
      ],
      "text/plain": [
       "           GSM1848063 GSM1848065 GSM1848068 GSM1848070 GSM1848071 GSM1848072\n",
       "cg00000029 0.6203648  0.7182062  0.7083657  0.7099486  0.7276608  0.6999082 \n",
       "cg00000165 0.2772515  0.2752825  0.2991042  0.2862524  0.2502356  0.2829333 \n",
       "cg00000236 0.8666042  0.8497590  0.8437146  0.8630184  0.8722355  0.8715520 \n",
       "cg00000289 0.6048901  0.6193616  0.6101379  0.6451409  0.6157511  0.6556522 \n",
       "cg00000363 0.4545016  0.4318915  0.4682718  0.4217569  0.4324048  0.4763908 \n",
       "           GSM1848073 GSM1848074 GSM1848075 GSM1848076 ... GSM1848125\n",
       "cg00000029 0.6650101  0.6798521  0.6935323  0.7337157  ... 0.6741129 \n",
       "cg00000165 0.3307329  0.2821096  0.3081541  0.3345168  ... 0.2914282 \n",
       "cg00000236 0.8405763  0.8565717  0.8627008  0.8714202  ... 0.8513895 \n",
       "cg00000289 0.6686261  0.6508826  0.6284747  0.6637474  ... 0.6274620 \n",
       "cg00000363 0.4242702  0.4258363  0.4375397  0.4090658  ... 0.4549814 \n",
       "           GSM1848126 GSM1848127 GSM1848128 GSM1848129 GSM1848130 GSM1848131\n",
       "cg00000029 0.6392339  0.6529824  0.6823939  0.6520730  0.6495885  0.6769954 \n",
       "cg00000165 0.3004683  0.2873597  0.3547811  0.3113580  0.2709932  0.2644160 \n",
       "cg00000236 0.8149583  0.8363873  0.8295777  0.8390699  0.8429907  0.8215173 \n",
       "cg00000289 0.6545426  0.6534344  0.5464923  0.6471007  0.6552077  0.6724400 \n",
       "cg00000363 0.4619316  0.4130256  0.4544570  0.4479943  0.4567552  0.4635661 \n",
       "           GSM1848132 GSM1848133 GSM1848134\n",
       "cg00000029 0.6354255  0.6401851  0.6512534 \n",
       "cg00000165 0.2935029  0.2939871  0.3369698 \n",
       "cg00000236 0.8265282  0.8279266  0.8312827 \n",
       "cg00000289 0.6743559  0.6841779  0.5777657 \n",
       "cg00000363 0.4461406  0.4412750  0.5212534 "
      ]
     },
     "metadata": {},
     "output_type": "display_data"
    }
   ],
   "source": [
    "head(cd8_mat, 5)\n",
    "head(combat_cd8_mat,5)"
   ]
  },
  {
   "cell_type": "code",
   "execution_count": 7,
   "metadata": {},
   "outputs": [
    {
     "name": "stderr",
     "output_type": "stream",
     "text": [
      "Found37batches\n",
      "Note: one batch has only one sample, setting mean.only=TRUE\n",
      "Adjusting for1covariate(s) or covariate level(s)\n"
     ]
    },
    {
     "name": "stdout",
     "output_type": "stream",
     "text": [
      "Standardizing Data across genes\n"
     ]
    },
    {
     "name": "stderr",
     "output_type": "stream",
     "text": [
      "Fitting L/S model and finding priors\n",
      "Finding parametric adjustments\n",
      "Adjusting the Data\n",
      "\n"
     ]
    }
   ],
   "source": [
    "combat_cd4_mat <- ComBat(dat = cd4_mat, batch = cd4_key$age, \n",
    "                     mod = model.matrix(~as.factor(diagnosis),\n",
    "                                      data=cd4_key),\n",
    "                     par.prior=TRUE, prior.plots=FALSE)"
   ]
  },
  {
   "cell_type": "code",
   "execution_count": 8,
   "metadata": {},
   "outputs": [
    {
     "data": {
      "text/html": [
       "<table>\n",
       "<thead><tr><th></th><th scope=col>GSM1847992</th><th scope=col>GSM1847993</th><th scope=col>GSM1847994</th><th scope=col>GSM1847995</th><th scope=col>GSM1847996</th><th scope=col>GSM1847997</th><th scope=col>GSM1847998</th><th scope=col>GSM1847999</th><th scope=col>GSM1848000</th><th scope=col>GSM1848001</th><th scope=col>...</th><th scope=col>GSM1848049</th><th scope=col>GSM1848050</th><th scope=col>GSM1848051</th><th scope=col>GSM1848052</th><th scope=col>GSM1848053</th><th scope=col>GSM1848054</th><th scope=col>GSM1848055</th><th scope=col>GSM1848056</th><th scope=col>GSM1848057</th><th scope=col>GSM1848060</th></tr></thead>\n",
       "<tbody>\n",
       "\t<tr><th scope=row>cg00000029</th><td>0.6891052</td><td>0.6855117</td><td>0.7597718</td><td>0.6572791</td><td>0.6340425</td><td>0.7258857</td><td>0.6561995</td><td>0.6140348</td><td>0.6705295</td><td>0.7232441</td><td>...      </td><td>0.6773344</td><td>0.7390622</td><td>0.6644878</td><td>0.7536970</td><td>0.7085601</td><td>0.6274526</td><td>0.6451463</td><td>0.6819983</td><td>0.6559495</td><td>0.7297607</td></tr>\n",
       "\t<tr><th scope=row>cg00000165</th><td>0.3040812</td><td>0.2756206</td><td>0.2609209</td><td>0.2673450</td><td>0.2699676</td><td>0.2554553</td><td>0.2899948</td><td>0.2448319</td><td>0.3397843</td><td>0.2655507</td><td>...      </td><td>0.2563061</td><td>0.2766614</td><td>0.2077699</td><td>0.2883459</td><td>0.3135418</td><td>0.2750509</td><td>0.2564614</td><td>0.2627127</td><td>0.2290870</td><td>0.3314362</td></tr>\n",
       "\t<tr><th scope=row>cg00000236</th><td>0.8410680</td><td>0.8732100</td><td>0.8568683</td><td>0.8591934</td><td>0.8731590</td><td>0.8945298</td><td>0.8210283</td><td>0.8828818</td><td>0.8472972</td><td>0.8646884</td><td>...      </td><td>0.8434471</td><td>0.8552659</td><td>0.8225502</td><td>0.8603409</td><td>0.8555995</td><td>0.8715566</td><td>0.8056327</td><td>0.8609750</td><td>0.8741843</td><td>0.8587779</td></tr>\n",
       "\t<tr><th scope=row>cg00000289</th><td>0.5805570</td><td>0.6758169</td><td>0.6206408</td><td>0.7337596</td><td>0.6082721</td><td>0.6131171</td><td>0.7573842</td><td>0.6958804</td><td>0.6061886</td><td>0.5811683</td><td>...      </td><td>0.6720100</td><td>0.5659503</td><td>0.6189792</td><td>0.7366446</td><td>0.5615902</td><td>0.5914943</td><td>0.7313404</td><td>0.5841068</td><td>0.5088171</td><td>0.6770974</td></tr>\n",
       "\t<tr><th scope=row>cg00000363</th><td>0.4568008</td><td>0.3914820</td><td>0.4768944</td><td>0.4162306</td><td>0.4382134</td><td>0.4128829</td><td>0.4240806</td><td>0.4203584</td><td>0.4251908</td><td>0.4557418</td><td>...      </td><td>0.4368783</td><td>0.3909104</td><td>0.4675140</td><td>0.4249935</td><td>0.4631724</td><td>0.3905925</td><td>0.4077969</td><td>0.4144806</td><td>0.4420411</td><td>0.4313618</td></tr>\n",
       "</tbody>\n",
       "</table>\n"
      ],
      "text/latex": [
       "\\begin{tabular}{r|lllllllllllllllllllllllllllllllllllllllllllllllllllllllllllllllllll}\n",
       "  & GSM1847992 & GSM1847993 & GSM1847994 & GSM1847995 & GSM1847996 & GSM1847997 & GSM1847998 & GSM1847999 & GSM1848000 & GSM1848001 & ... & GSM1848049 & GSM1848050 & GSM1848051 & GSM1848052 & GSM1848053 & GSM1848054 & GSM1848055 & GSM1848056 & GSM1848057 & GSM1848060\\\\\n",
       "\\hline\n",
       "\tcg00000029 & 0.6891052 & 0.6855117 & 0.7597718 & 0.6572791 & 0.6340425 & 0.7258857 & 0.6561995 & 0.6140348 & 0.6705295 & 0.7232441 & ...       & 0.6773344 & 0.7390622 & 0.6644878 & 0.7536970 & 0.7085601 & 0.6274526 & 0.6451463 & 0.6819983 & 0.6559495 & 0.7297607\\\\\n",
       "\tcg00000165 & 0.3040812 & 0.2756206 & 0.2609209 & 0.2673450 & 0.2699676 & 0.2554553 & 0.2899948 & 0.2448319 & 0.3397843 & 0.2655507 & ...       & 0.2563061 & 0.2766614 & 0.2077699 & 0.2883459 & 0.3135418 & 0.2750509 & 0.2564614 & 0.2627127 & 0.2290870 & 0.3314362\\\\\n",
       "\tcg00000236 & 0.8410680 & 0.8732100 & 0.8568683 & 0.8591934 & 0.8731590 & 0.8945298 & 0.8210283 & 0.8828818 & 0.8472972 & 0.8646884 & ...       & 0.8434471 & 0.8552659 & 0.8225502 & 0.8603409 & 0.8555995 & 0.8715566 & 0.8056327 & 0.8609750 & 0.8741843 & 0.8587779\\\\\n",
       "\tcg00000289 & 0.5805570 & 0.6758169 & 0.6206408 & 0.7337596 & 0.6082721 & 0.6131171 & 0.7573842 & 0.6958804 & 0.6061886 & 0.5811683 & ...       & 0.6720100 & 0.5659503 & 0.6189792 & 0.7366446 & 0.5615902 & 0.5914943 & 0.7313404 & 0.5841068 & 0.5088171 & 0.6770974\\\\\n",
       "\tcg00000363 & 0.4568008 & 0.3914820 & 0.4768944 & 0.4162306 & 0.4382134 & 0.4128829 & 0.4240806 & 0.4203584 & 0.4251908 & 0.4557418 & ...       & 0.4368783 & 0.3909104 & 0.4675140 & 0.4249935 & 0.4631724 & 0.3905925 & 0.4077969 & 0.4144806 & 0.4420411 & 0.4313618\\\\\n",
       "\\end{tabular}\n"
      ],
      "text/markdown": [
       "\n",
       "| <!--/--> | GSM1847992 | GSM1847993 | GSM1847994 | GSM1847995 | GSM1847996 | GSM1847997 | GSM1847998 | GSM1847999 | GSM1848000 | GSM1848001 | ... | GSM1848049 | GSM1848050 | GSM1848051 | GSM1848052 | GSM1848053 | GSM1848054 | GSM1848055 | GSM1848056 | GSM1848057 | GSM1848060 |\n",
       "|---|---|---|---|---|---|---|---|---|---|---|---|---|---|---|---|---|---|---|---|---|---|\n",
       "| cg00000029 | 0.6891052 | 0.6855117 | 0.7597718 | 0.6572791 | 0.6340425 | 0.7258857 | 0.6561995 | 0.6140348 | 0.6705295 | 0.7232441 | ...       | 0.6773344 | 0.7390622 | 0.6644878 | 0.7536970 | 0.7085601 | 0.6274526 | 0.6451463 | 0.6819983 | 0.6559495 | 0.7297607 |\n",
       "| cg00000165 | 0.3040812 | 0.2756206 | 0.2609209 | 0.2673450 | 0.2699676 | 0.2554553 | 0.2899948 | 0.2448319 | 0.3397843 | 0.2655507 | ...       | 0.2563061 | 0.2766614 | 0.2077699 | 0.2883459 | 0.3135418 | 0.2750509 | 0.2564614 | 0.2627127 | 0.2290870 | 0.3314362 |\n",
       "| cg00000236 | 0.8410680 | 0.8732100 | 0.8568683 | 0.8591934 | 0.8731590 | 0.8945298 | 0.8210283 | 0.8828818 | 0.8472972 | 0.8646884 | ...       | 0.8434471 | 0.8552659 | 0.8225502 | 0.8603409 | 0.8555995 | 0.8715566 | 0.8056327 | 0.8609750 | 0.8741843 | 0.8587779 |\n",
       "| cg00000289 | 0.5805570 | 0.6758169 | 0.6206408 | 0.7337596 | 0.6082721 | 0.6131171 | 0.7573842 | 0.6958804 | 0.6061886 | 0.5811683 | ...       | 0.6720100 | 0.5659503 | 0.6189792 | 0.7366446 | 0.5615902 | 0.5914943 | 0.7313404 | 0.5841068 | 0.5088171 | 0.6770974 |\n",
       "| cg00000363 | 0.4568008 | 0.3914820 | 0.4768944 | 0.4162306 | 0.4382134 | 0.4128829 | 0.4240806 | 0.4203584 | 0.4251908 | 0.4557418 | ...       | 0.4368783 | 0.3909104 | 0.4675140 | 0.4249935 | 0.4631724 | 0.3905925 | 0.4077969 | 0.4144806 | 0.4420411 | 0.4313618 |\n",
       "\n"
      ],
      "text/plain": [
       "           GSM1847992 GSM1847993 GSM1847994 GSM1847995 GSM1847996 GSM1847997\n",
       "cg00000029 0.6891052  0.6855117  0.7597718  0.6572791  0.6340425  0.7258857 \n",
       "cg00000165 0.3040812  0.2756206  0.2609209  0.2673450  0.2699676  0.2554553 \n",
       "cg00000236 0.8410680  0.8732100  0.8568683  0.8591934  0.8731590  0.8945298 \n",
       "cg00000289 0.5805570  0.6758169  0.6206408  0.7337596  0.6082721  0.6131171 \n",
       "cg00000363 0.4568008  0.3914820  0.4768944  0.4162306  0.4382134  0.4128829 \n",
       "           GSM1847998 GSM1847999 GSM1848000 GSM1848001 ... GSM1848049\n",
       "cg00000029 0.6561995  0.6140348  0.6705295  0.7232441  ... 0.6773344 \n",
       "cg00000165 0.2899948  0.2448319  0.3397843  0.2655507  ... 0.2563061 \n",
       "cg00000236 0.8210283  0.8828818  0.8472972  0.8646884  ... 0.8434471 \n",
       "cg00000289 0.7573842  0.6958804  0.6061886  0.5811683  ... 0.6720100 \n",
       "cg00000363 0.4240806  0.4203584  0.4251908  0.4557418  ... 0.4368783 \n",
       "           GSM1848050 GSM1848051 GSM1848052 GSM1848053 GSM1848054 GSM1848055\n",
       "cg00000029 0.7390622  0.6644878  0.7536970  0.7085601  0.6274526  0.6451463 \n",
       "cg00000165 0.2766614  0.2077699  0.2883459  0.3135418  0.2750509  0.2564614 \n",
       "cg00000236 0.8552659  0.8225502  0.8603409  0.8555995  0.8715566  0.8056327 \n",
       "cg00000289 0.5659503  0.6189792  0.7366446  0.5615902  0.5914943  0.7313404 \n",
       "cg00000363 0.3909104  0.4675140  0.4249935  0.4631724  0.3905925  0.4077969 \n",
       "           GSM1848056 GSM1848057 GSM1848060\n",
       "cg00000029 0.6819983  0.6559495  0.7297607 \n",
       "cg00000165 0.2627127  0.2290870  0.3314362 \n",
       "cg00000236 0.8609750  0.8741843  0.8587779 \n",
       "cg00000289 0.5841068  0.5088171  0.6770974 \n",
       "cg00000363 0.4144806  0.4420411  0.4313618 "
      ]
     },
     "metadata": {},
     "output_type": "display_data"
    },
    {
     "data": {
      "text/html": [
       "<table>\n",
       "<thead><tr><th></th><th scope=col>GSM1847992</th><th scope=col>GSM1847993</th><th scope=col>GSM1847994</th><th scope=col>GSM1847995</th><th scope=col>GSM1847996</th><th scope=col>GSM1847997</th><th scope=col>GSM1847998</th><th scope=col>GSM1847999</th><th scope=col>GSM1848000</th><th scope=col>GSM1848001</th><th scope=col>...</th><th scope=col>GSM1848049</th><th scope=col>GSM1848050</th><th scope=col>GSM1848051</th><th scope=col>GSM1848052</th><th scope=col>GSM1848053</th><th scope=col>GSM1848054</th><th scope=col>GSM1848055</th><th scope=col>GSM1848056</th><th scope=col>GSM1848057</th><th scope=col>GSM1848060</th></tr></thead>\n",
       "<tbody>\n",
       "\t<tr><th scope=row>cg00000029</th><td>0.6773983</td><td>0.6977632</td><td>0.7455206</td><td>0.6727052</td><td>0.6462940</td><td>0.7148425</td><td>0.6684510</td><td>0.6625393</td><td>0.6608625</td><td>0.7196787</td><td>...      </td><td>0.6690426</td><td>0.6889339</td><td>0.6732893</td><td>0.7309804</td><td>0.6968531</td><td>0.6629264</td><td>0.6308951</td><td>0.6592817</td><td>0.6722670</td><td>0.7200937</td></tr>\n",
       "\t<tr><th scope=row>cg00000165</th><td>0.2923207</td><td>0.2749343</td><td>0.2727350</td><td>0.2739615</td><td>0.2692813</td><td>0.2511076</td><td>0.2893086</td><td>0.2683997</td><td>0.3121977</td><td>0.2721113</td><td>...      </td><td>0.2541080</td><td>0.2787642</td><td>0.2574044</td><td>0.2903798</td><td>0.3017813</td><td>0.2781938</td><td>0.2682754</td><td>0.2647466</td><td>0.2677943</td><td>0.3038497</td></tr>\n",
       "\t<tr><th scope=row>cg00000236</th><td>0.8418222</td><td>0.8802394</td><td>0.8774683</td><td>0.8654301</td><td>0.8801884</td><td>0.8894702</td><td>0.8280577</td><td>0.8727738</td><td>0.8537250</td><td>0.8618062</td><td>...      </td><td>0.8369691</td><td>0.8606413</td><td>0.8498851</td><td>0.8610082</td><td>0.8563538</td><td>0.8648048</td><td>0.8262327</td><td>0.8616423</td><td>0.8647222</td><td>0.8652058</td></tr>\n",
       "\t<tr><th scope=row>cg00000289</th><td>0.5949879</td><td>0.6562364</td><td>0.6075054</td><td>0.6779016</td><td>0.5886916</td><td>0.6098047</td><td>0.7378037</td><td>0.6592515</td><td>0.6134331</td><td>0.5983611</td><td>...      </td><td>0.6696267</td><td>0.6455134</td><td>0.6504967</td><td>0.7387621</td><td>0.5760210</td><td>0.6435080</td><td>0.7182049</td><td>0.5862243</td><td>0.6287609</td><td>0.6843420</td></tr>\n",
       "\t<tr><th scope=row>cg00000363</th><td>0.4483779</td><td>0.4092448</td><td>0.4783966</td><td>0.4383119</td><td>0.4559762</td><td>0.4253772</td><td>0.4418434</td><td>0.4422867</td><td>0.4340977</td><td>0.4703243</td><td>...      </td><td>0.4194186</td><td>0.4301462</td><td>0.4480841</td><td>0.4358850</td><td>0.4547495</td><td>0.4254922</td><td>0.4092991</td><td>0.4253721</td><td>0.4400225</td><td>0.4402687</td></tr>\n",
       "</tbody>\n",
       "</table>\n"
      ],
      "text/latex": [
       "\\begin{tabular}{r|lllllllllllllllllllllllllllllllllllllllllllllllllllllllllllllllllll}\n",
       "  & GSM1847992 & GSM1847993 & GSM1847994 & GSM1847995 & GSM1847996 & GSM1847997 & GSM1847998 & GSM1847999 & GSM1848000 & GSM1848001 & ... & GSM1848049 & GSM1848050 & GSM1848051 & GSM1848052 & GSM1848053 & GSM1848054 & GSM1848055 & GSM1848056 & GSM1848057 & GSM1848060\\\\\n",
       "\\hline\n",
       "\tcg00000029 & 0.6773983 & 0.6977632 & 0.7455206 & 0.6727052 & 0.6462940 & 0.7148425 & 0.6684510 & 0.6625393 & 0.6608625 & 0.7196787 & ...       & 0.6690426 & 0.6889339 & 0.6732893 & 0.7309804 & 0.6968531 & 0.6629264 & 0.6308951 & 0.6592817 & 0.6722670 & 0.7200937\\\\\n",
       "\tcg00000165 & 0.2923207 & 0.2749343 & 0.2727350 & 0.2739615 & 0.2692813 & 0.2511076 & 0.2893086 & 0.2683997 & 0.3121977 & 0.2721113 & ...       & 0.2541080 & 0.2787642 & 0.2574044 & 0.2903798 & 0.3017813 & 0.2781938 & 0.2682754 & 0.2647466 & 0.2677943 & 0.3038497\\\\\n",
       "\tcg00000236 & 0.8418222 & 0.8802394 & 0.8774683 & 0.8654301 & 0.8801884 & 0.8894702 & 0.8280577 & 0.8727738 & 0.8537250 & 0.8618062 & ...       & 0.8369691 & 0.8606413 & 0.8498851 & 0.8610082 & 0.8563538 & 0.8648048 & 0.8262327 & 0.8616423 & 0.8647222 & 0.8652058\\\\\n",
       "\tcg00000289 & 0.5949879 & 0.6562364 & 0.6075054 & 0.6779016 & 0.5886916 & 0.6098047 & 0.7378037 & 0.6592515 & 0.6134331 & 0.5983611 & ...       & 0.6696267 & 0.6455134 & 0.6504967 & 0.7387621 & 0.5760210 & 0.6435080 & 0.7182049 & 0.5862243 & 0.6287609 & 0.6843420\\\\\n",
       "\tcg00000363 & 0.4483779 & 0.4092448 & 0.4783966 & 0.4383119 & 0.4559762 & 0.4253772 & 0.4418434 & 0.4422867 & 0.4340977 & 0.4703243 & ...       & 0.4194186 & 0.4301462 & 0.4480841 & 0.4358850 & 0.4547495 & 0.4254922 & 0.4092991 & 0.4253721 & 0.4400225 & 0.4402687\\\\\n",
       "\\end{tabular}\n"
      ],
      "text/markdown": [
       "\n",
       "| <!--/--> | GSM1847992 | GSM1847993 | GSM1847994 | GSM1847995 | GSM1847996 | GSM1847997 | GSM1847998 | GSM1847999 | GSM1848000 | GSM1848001 | ... | GSM1848049 | GSM1848050 | GSM1848051 | GSM1848052 | GSM1848053 | GSM1848054 | GSM1848055 | GSM1848056 | GSM1848057 | GSM1848060 |\n",
       "|---|---|---|---|---|---|---|---|---|---|---|---|---|---|---|---|---|---|---|---|---|---|\n",
       "| cg00000029 | 0.6773983 | 0.6977632 | 0.7455206 | 0.6727052 | 0.6462940 | 0.7148425 | 0.6684510 | 0.6625393 | 0.6608625 | 0.7196787 | ...       | 0.6690426 | 0.6889339 | 0.6732893 | 0.7309804 | 0.6968531 | 0.6629264 | 0.6308951 | 0.6592817 | 0.6722670 | 0.7200937 |\n",
       "| cg00000165 | 0.2923207 | 0.2749343 | 0.2727350 | 0.2739615 | 0.2692813 | 0.2511076 | 0.2893086 | 0.2683997 | 0.3121977 | 0.2721113 | ...       | 0.2541080 | 0.2787642 | 0.2574044 | 0.2903798 | 0.3017813 | 0.2781938 | 0.2682754 | 0.2647466 | 0.2677943 | 0.3038497 |\n",
       "| cg00000236 | 0.8418222 | 0.8802394 | 0.8774683 | 0.8654301 | 0.8801884 | 0.8894702 | 0.8280577 | 0.8727738 | 0.8537250 | 0.8618062 | ...       | 0.8369691 | 0.8606413 | 0.8498851 | 0.8610082 | 0.8563538 | 0.8648048 | 0.8262327 | 0.8616423 | 0.8647222 | 0.8652058 |\n",
       "| cg00000289 | 0.5949879 | 0.6562364 | 0.6075054 | 0.6779016 | 0.5886916 | 0.6098047 | 0.7378037 | 0.6592515 | 0.6134331 | 0.5983611 | ...       | 0.6696267 | 0.6455134 | 0.6504967 | 0.7387621 | 0.5760210 | 0.6435080 | 0.7182049 | 0.5862243 | 0.6287609 | 0.6843420 |\n",
       "| cg00000363 | 0.4483779 | 0.4092448 | 0.4783966 | 0.4383119 | 0.4559762 | 0.4253772 | 0.4418434 | 0.4422867 | 0.4340977 | 0.4703243 | ...       | 0.4194186 | 0.4301462 | 0.4480841 | 0.4358850 | 0.4547495 | 0.4254922 | 0.4092991 | 0.4253721 | 0.4400225 | 0.4402687 |\n",
       "\n"
      ],
      "text/plain": [
       "           GSM1847992 GSM1847993 GSM1847994 GSM1847995 GSM1847996 GSM1847997\n",
       "cg00000029 0.6773983  0.6977632  0.7455206  0.6727052  0.6462940  0.7148425 \n",
       "cg00000165 0.2923207  0.2749343  0.2727350  0.2739615  0.2692813  0.2511076 \n",
       "cg00000236 0.8418222  0.8802394  0.8774683  0.8654301  0.8801884  0.8894702 \n",
       "cg00000289 0.5949879  0.6562364  0.6075054  0.6779016  0.5886916  0.6098047 \n",
       "cg00000363 0.4483779  0.4092448  0.4783966  0.4383119  0.4559762  0.4253772 \n",
       "           GSM1847998 GSM1847999 GSM1848000 GSM1848001 ... GSM1848049\n",
       "cg00000029 0.6684510  0.6625393  0.6608625  0.7196787  ... 0.6690426 \n",
       "cg00000165 0.2893086  0.2683997  0.3121977  0.2721113  ... 0.2541080 \n",
       "cg00000236 0.8280577  0.8727738  0.8537250  0.8618062  ... 0.8369691 \n",
       "cg00000289 0.7378037  0.6592515  0.6134331  0.5983611  ... 0.6696267 \n",
       "cg00000363 0.4418434  0.4422867  0.4340977  0.4703243  ... 0.4194186 \n",
       "           GSM1848050 GSM1848051 GSM1848052 GSM1848053 GSM1848054 GSM1848055\n",
       "cg00000029 0.6889339  0.6732893  0.7309804  0.6968531  0.6629264  0.6308951 \n",
       "cg00000165 0.2787642  0.2574044  0.2903798  0.3017813  0.2781938  0.2682754 \n",
       "cg00000236 0.8606413  0.8498851  0.8610082  0.8563538  0.8648048  0.8262327 \n",
       "cg00000289 0.6455134  0.6504967  0.7387621  0.5760210  0.6435080  0.7182049 \n",
       "cg00000363 0.4301462  0.4480841  0.4358850  0.4547495  0.4254922  0.4092991 \n",
       "           GSM1848056 GSM1848057 GSM1848060\n",
       "cg00000029 0.6592817  0.6722670  0.7200937 \n",
       "cg00000165 0.2647466  0.2677943  0.3038497 \n",
       "cg00000236 0.8616423  0.8647222  0.8652058 \n",
       "cg00000289 0.5862243  0.6287609  0.6843420 \n",
       "cg00000363 0.4253721  0.4400225  0.4402687 "
      ]
     },
     "metadata": {},
     "output_type": "display_data"
    }
   ],
   "source": [
    "head(cd4_mat, 5)\n",
    "head(combat_cd4_mat,5)"
   ]
  },
  {
   "cell_type": "markdown",
   "metadata": {},
   "source": [
    "# Save normalized data for future use\n"
   ]
  },
  {
   "cell_type": "code",
   "execution_count": 9,
   "metadata": {},
   "outputs": [],
   "source": [
    "cd8_mat <- combat_cd8_mat\n",
    "cd4_mat <- combat_cd4_mat"
   ]
  },
  {
   "cell_type": "code",
   "execution_count": 10,
   "metadata": {},
   "outputs": [],
   "source": [
    "# save(cd8_geo, cd8_key, cd8_mat, anno, file=\"CD8.RData\")\n",
    "# save(cd4_geo, cd4_key, cd4_mat, anno, file=\"CD4.RData\")\n"
   ]
  },
  {
   "cell_type": "code",
   "execution_count": 32,
   "metadata": {},
   "outputs": [],
   "source": [
    "load(\"CD8.RData\")\n",
    "load(\"CD4.RData\")"
   ]
  },
  {
   "cell_type": "code",
   "execution_count": 33,
   "metadata": {},
   "outputs": [
    {
     "data": {
      "text/html": [
       "<ol class=list-inline>\n",
       "\t<li>328385</li>\n",
       "\t<li>67</li>\n",
       "</ol>\n"
      ],
      "text/latex": [
       "\\begin{enumerate*}\n",
       "\\item 328385\n",
       "\\item 67\n",
       "\\end{enumerate*}\n"
      ],
      "text/markdown": [
       "1. 328385\n",
       "2. 67\n",
       "\n",
       "\n"
      ],
      "text/plain": [
       "[1] 328385     67"
      ]
     },
     "metadata": {},
     "output_type": "display_data"
    },
    {
     "data": {
      "text/html": [
       "<ol class=list-inline>\n",
       "\t<li>328385</li>\n",
       "\t<li>68</li>\n",
       "</ol>\n"
      ],
      "text/latex": [
       "\\begin{enumerate*}\n",
       "\\item 328385\n",
       "\\item 68\n",
       "\\end{enumerate*}\n"
      ],
      "text/markdown": [
       "1. 328385\n",
       "2. 68\n",
       "\n",
       "\n"
      ],
      "text/plain": [
       "[1] 328385     68"
      ]
     },
     "metadata": {},
     "output_type": "display_data"
    }
   ],
   "source": [
    "dim(cd4_mat)\n",
    "dim(cd8_mat)"
   ]
  },
  {
   "cell_type": "code",
   "execution_count": 34,
   "metadata": {},
   "outputs": [],
   "source": [
    "load(\"genome_information.RData\")"
   ]
  },
  {
   "cell_type": "code",
   "execution_count": 35,
   "metadata": {},
   "outputs": [
    {
     "data": {
      "text/plain": [
       "GRanges object with 6 ranges and 3 metadata columns:\n",
       "             seqnames    ranges strand | UCSC_RefGene_Group\n",
       "                <Rle> <IRanges>  <Rle> |           <factor>\n",
       "  cg13869341        1     15865      * |               Body\n",
       "  cg14008030        1     18827      * |               Body\n",
       "  cg12045430        1     29407      * |             TSS200\n",
       "  cg20826792        1     29425      * |             TSS200\n",
       "  cg00381604        1     29435      * |             TSS200\n",
       "  cg20253340        1     68849      * |            TSS1500\n",
       "             Relation_to_UCSC_CpG_Island UCSC_RefGene_Name\n",
       "                                <factor>          <factor>\n",
       "  cg13869341                                        WASH5P\n",
       "  cg14008030                                        WASH5P\n",
       "  cg12045430                      Island            WASH5P\n",
       "  cg20826792                      Island            WASH5P\n",
       "  cg00381604                      Island            WASH5P\n",
       "  cg20253340                                         OR4F5\n",
       "  -------\n",
       "  seqinfo: 24 sequences from an unspecified genome; no seqlengths"
      ]
     },
     "metadata": {},
     "output_type": "display_data"
    }
   ],
   "source": [
    "head(genome_information)"
   ]
  },
  {
   "cell_type": "markdown",
   "metadata": {},
   "source": [
    "# The model residuals were used for differential methylation analysis with the R package “seqlm” (https://github.com/raivokolde/seqlm) by applying the statistical test to single CpG sites (argument max_dist = 1). Single CpGs with a false discovery rate (FDR) < 0.005 and an absolute methylation difference of >0.5 were considered as differentially methylated and used in downstream analyses."
   ]
  },
  {
   "cell_type": "markdown",
   "metadata": {},
   "source": [
    "# CD4"
   ]
  },
  {
   "cell_type": "code",
   "execution_count": 69,
   "metadata": {},
   "outputs": [
    {
     "name": "stdout",
     "output_type": "stream",
     "text": [
      "Finding the best segmentation\n",
      "  |======================================================================| 100%\n",
      "Calculating coefficients and p-values for all regions\n",
      "Adding additional information to the results\n",
      "\tAll numeric variables\n",
      "\tVariable: UCSC_RefGene_Group\n",
      "\tVariable: Relation_to_UCSC_CpG_Island\n",
      "\tVariable: UCSC_RefGene_Name\n"
     ]
    }
   ],
   "source": [
    "library(doParallel)\n",
    "registerDoParallel(cores = 4)\n",
    "cd4_cpg = seqlm(values = cd4_mat,\n",
    "                 genome_information = genome_information,\n",
    "                 annotation = cd4_key$diagnosis,\n",
    "                 max_dist = 1\n",
    "            )"
   ]
  },
  {
   "cell_type": "code",
   "execution_count": 70,
   "metadata": {},
   "outputs": [],
   "source": [
    "cd4_healthy_geo <- filter(cd4_key, diagnosis == 'Healthy')$geo\n",
    "cd4_graves_geo <- filter(cd4_key, diagnosis != 'Healthy')$geo"
   ]
  },
  {
   "cell_type": "code",
   "execution_count": 71,
   "metadata": {},
   "outputs": [],
   "source": [
    "healthy_cd4 <- as.data.frame(cd4_mat) %>% select(cd4_healthy_geo) %>%\n",
    "            mutate(\"cg\" = rownames(cd4_mat), \"mean\" = apply(., 1, mean)) %>% \n",
    "            select(cg,mean)\n",
    "\n",
    "graves_cd4 <- as.data.frame(cd4_mat) %>% select(cd4_graves_geo) %>%\n",
    "            mutate(\"cg\" = rownames(cd4_mat), \"mean\" = apply(., 1, mean)) %>% \n",
    "            select(cg,mean)"
   ]
  },
  {
   "cell_type": "code",
   "execution_count": 72,
   "metadata": {},
   "outputs": [
    {
     "data": {
      "text/html": [
       "<table>\n",
       "<thead><tr><th scope=col>cg</th><th scope=col>mean</th></tr></thead>\n",
       "<tbody>\n",
       "\t<tr><td>cg00013349</td><td>0.5288105 </td></tr>\n",
       "\t<tr><td>cg00027674</td><td>0.3485258 </td></tr>\n",
       "\t<tr><td>cg00030296</td><td>0.7642436 </td></tr>\n",
       "\t<tr><td>cg00031346</td><td>0.4480995 </td></tr>\n",
       "\t<tr><td>cg00032884</td><td>0.1900744 </td></tr>\n",
       "\t<tr><td>cg00033909</td><td>0.4013778 </td></tr>\n",
       "</tbody>\n",
       "</table>\n"
      ],
      "text/latex": [
       "\\begin{tabular}{r|ll}\n",
       " cg & mean\\\\\n",
       "\\hline\n",
       "\t cg00013349 & 0.5288105 \\\\\n",
       "\t cg00027674 & 0.3485258 \\\\\n",
       "\t cg00030296 & 0.7642436 \\\\\n",
       "\t cg00031346 & 0.4480995 \\\\\n",
       "\t cg00032884 & 0.1900744 \\\\\n",
       "\t cg00033909 & 0.4013778 \\\\\n",
       "\\end{tabular}\n"
      ],
      "text/markdown": [
       "\n",
       "| cg | mean |\n",
       "|---|---|\n",
       "| cg00013349 | 0.5288105  |\n",
       "| cg00027674 | 0.3485258  |\n",
       "| cg00030296 | 0.7642436  |\n",
       "| cg00031346 | 0.4480995  |\n",
       "| cg00032884 | 0.1900744  |\n",
       "| cg00033909 | 0.4013778  |\n",
       "\n"
      ],
      "text/plain": [
       "  cg         mean     \n",
       "1 cg00013349 0.5288105\n",
       "2 cg00027674 0.3485258\n",
       "3 cg00030296 0.7642436\n",
       "4 cg00031346 0.4480995\n",
       "5 cg00032884 0.1900744\n",
       "6 cg00033909 0.4013778"
      ]
     },
     "metadata": {},
     "output_type": "display_data"
    },
    {
     "data": {
      "text/html": [
       "<table>\n",
       "<thead><tr><th scope=col>cg</th><th scope=col>mean</th></tr></thead>\n",
       "<tbody>\n",
       "\t<tr><td>cg00013349</td><td>0.5928342 </td></tr>\n",
       "\t<tr><td>cg00027674</td><td>0.2971105 </td></tr>\n",
       "\t<tr><td>cg00030296</td><td>0.7087070 </td></tr>\n",
       "\t<tr><td>cg00031346</td><td>0.5044780 </td></tr>\n",
       "\t<tr><td>cg00032884</td><td>0.2848074 </td></tr>\n",
       "\t<tr><td>cg00033909</td><td>0.4652940 </td></tr>\n",
       "</tbody>\n",
       "</table>\n"
      ],
      "text/latex": [
       "\\begin{tabular}{r|ll}\n",
       " cg & mean\\\\\n",
       "\\hline\n",
       "\t cg00013349 & 0.5928342 \\\\\n",
       "\t cg00027674 & 0.2971105 \\\\\n",
       "\t cg00030296 & 0.7087070 \\\\\n",
       "\t cg00031346 & 0.5044780 \\\\\n",
       "\t cg00032884 & 0.2848074 \\\\\n",
       "\t cg00033909 & 0.4652940 \\\\\n",
       "\\end{tabular}\n"
      ],
      "text/markdown": [
       "\n",
       "| cg | mean |\n",
       "|---|---|\n",
       "| cg00013349 | 0.5928342  |\n",
       "| cg00027674 | 0.2971105  |\n",
       "| cg00030296 | 0.7087070  |\n",
       "| cg00031346 | 0.5044780  |\n",
       "| cg00032884 | 0.2848074  |\n",
       "| cg00033909 | 0.4652940  |\n",
       "\n"
      ],
      "text/plain": [
       "  cg         mean     \n",
       "1 cg00013349 0.5928342\n",
       "2 cg00027674 0.2971105\n",
       "3 cg00030296 0.7087070\n",
       "4 cg00031346 0.5044780\n",
       "5 cg00032884 0.2848074\n",
       "6 cg00033909 0.4652940"
      ]
     },
     "metadata": {},
     "output_type": "display_data"
    }
   ],
   "source": [
    "head(healthy_cd4)\n",
    "head(graves_cd4)"
   ]
  },
  {
   "cell_type": "code",
   "execution_count": 73,
   "metadata": {},
   "outputs": [
    {
     "data": {
      "text/html": [
       "<dl class=dl-horizontal>\n",
       "\t<dt>0%</dt>\n",
       "\t\t<dd>0.0500013998204515</dd>\n",
       "\t<dt>25%</dt>\n",
       "\t\t<dd>0.0534868723984309</dd>\n",
       "\t<dt>50%</dt>\n",
       "\t\t<dd>0.0581671827022113</dd>\n",
       "\t<dt>75%</dt>\n",
       "\t\t<dd>0.0654418273305751</dd>\n",
       "\t<dt>100%</dt>\n",
       "\t\t<dd>0.199405794884757</dd>\n",
       "</dl>\n"
      ],
      "text/latex": [
       "\\begin{description*}\n",
       "\\item[0\\textbackslash{}\\%] 0.0500013998204515\n",
       "\\item[25\\textbackslash{}\\%] 0.0534868723984309\n",
       "\\item[50\\textbackslash{}\\%] 0.0581671827022113\n",
       "\\item[75\\textbackslash{}\\%] 0.0654418273305751\n",
       "\\item[100\\textbackslash{}\\%] 0.199405794884757\n",
       "\\end{description*}\n"
      ],
      "text/markdown": [
       "0%\n",
       ":   0.050001399820451525%\n",
       ":   0.053486872398430950%\n",
       ":   0.058167182702211375%\n",
       ":   0.0654418273305751100%\n",
       ":   0.199405794884757\n",
       "\n"
      ],
      "text/plain": [
       "        0%        25%        50%        75%       100% \n",
       "0.05000140 0.05348687 0.05816718 0.06544183 0.19940579 "
      ]
     },
     "metadata": {},
     "output_type": "display_data"
    },
    {
     "data": {
      "image/png": "[encoded data removed]",
      "text/plain": [
       "Plot with title \"Histogram of abs(healthy_cd4$mean - graves_cd4$mean)\""
      ]
     },
     "metadata": {},
     "output_type": "display_data"
    }
   ],
   "source": [
    "hist(abs(healthy_cd4$mean - graves_cd4$mean))\n",
    "quantile(abs(healthy_cd4$mean - graves_cd4$mean))"
   ]
  },
  {
   "cell_type": "code",
   "execution_count": 75,
   "metadata": {},
   "outputs": [
    {
     "data": {
      "image/png": "[encoded data removed]",
      "text/plain": [
       "Plot with title \"Histogram of dif\""
      ]
     },
     "metadata": {},
     "output_type": "display_data"
    }
   ],
   "source": [
    "dif <- abs(healthy_cd4$mean - graves_cd4$mean)\n",
    "dif <- dif[abs(healthy_cd4$mean - graves_cd4$mean) > 0.1]\n",
    "hist(dif)\n",
    "good_cg <- names(dif)"
   ]
  },
  {
   "cell_type": "code",
   "execution_count": 76,
   "metadata": {},
   "outputs": [
    {
     "data": {
      "text/html": [
       "44"
      ],
      "text/latex": [
       "44"
      ],
      "text/markdown": [
       "44"
      ],
      "text/plain": [
       "[1] 44"
      ]
     },
     "metadata": {},
     "output_type": "display_data"
    },
    {
     "data": {
      "text/html": [
       "<ol class=list-inline>\n",
       "\t<li>'cg00142257'</li>\n",
       "\t<li>'cg00278517'</li>\n",
       "\t<li>'cg00434573'</li>\n",
       "\t<li>'cg00713939'</li>\n",
       "\t<li>'cg01048962'</li>\n",
       "\t<li>'cg01097406'</li>\n",
       "</ol>\n"
      ],
      "text/latex": [
       "\\begin{enumerate*}\n",
       "\\item 'cg00142257'\n",
       "\\item 'cg00278517'\n",
       "\\item 'cg00434573'\n",
       "\\item 'cg00713939'\n",
       "\\item 'cg01048962'\n",
       "\\item 'cg01097406'\n",
       "\\end{enumerate*}\n"
      ],
      "text/markdown": [
       "1. 'cg00142257'\n",
       "2. 'cg00278517'\n",
       "3. 'cg00434573'\n",
       "4. 'cg00713939'\n",
       "5. 'cg01048962'\n",
       "6. 'cg01097406'\n",
       "\n",
       "\n"
      ],
      "text/plain": [
       "[1] \"cg00142257\" \"cg00278517\" \"cg00434573\" \"cg00713939\" \"cg01048962\"\n",
       "[6] \"cg01097406\""
      ]
     },
     "metadata": {},
     "output_type": "display_data"
    }
   ],
   "source": [
    "length(good_cg)\n",
    "head(good_cg)"
   ]
  },
  {
   "cell_type": "code",
   "execution_count": 77,
   "metadata": {},
   "outputs": [
    {
     "data": {
      "text/plain": [
       "NULL"
      ]
     },
     "metadata": {},
     "output_type": "display_data"
    },
    {
     "data": {
      "text/html": [
       "44"
      ],
      "text/latex": [
       "44"
      ],
      "text/markdown": [
       "44"
      ],
      "text/plain": [
       "[1] 44"
      ]
     },
     "metadata": {},
     "output_type": "display_data"
    }
   ],
   "source": [
    "length(cd4_cpg)\n",
    "cd4_cpg <- as.data.frame(cd4_cpg) %>% \n",
    "            filter(fdr < 0.005 & probes %in% good_cg)\n",
    "nrow(cd4_cpg)"
   ]
  },
  {
   "cell_type": "code",
   "execution_count": 78,
   "metadata": {},
   "outputs": [],
   "source": [
    "cd4_mat <- as.data.frame(cd4_mat) %>%\n",
    "    mutate(\"probe\" = rownames(cd4_mat)) %>%\n",
    "    filter(probe %in% cd4_cpg$probes)\n",
    "\n",
    "rownames(cd4_mat) <- cd4_mat$probe\n",
    "cd4_mat <- cd4_mat[, -ncol(cd4_mat)]"
   ]
  },
  {
   "cell_type": "code",
   "execution_count": 79,
   "metadata": {},
   "outputs": [
    {
     "data": {
      "text/html": [
       "44"
      ],
      "text/latex": [
       "44"
      ],
      "text/markdown": [
       "44"
      ],
      "text/plain": [
       "[1] 44"
      ]
     },
     "metadata": {},
     "output_type": "display_data"
    },
    {
     "data": {
      "text/html": [
       "44"
      ],
      "text/latex": [
       "44"
      ],
      "text/markdown": [
       "44"
      ],
      "text/plain": [
       "[1] 44"
      ]
     },
     "metadata": {},
     "output_type": "display_data"
    },
    {
     "data": {
      "text/html": [
       "<table>\n",
       "<thead><tr><th></th><th scope=col>GSM1847992</th><th scope=col>GSM1847993</th><th scope=col>GSM1847994</th><th scope=col>GSM1847995</th><th scope=col>GSM1847996</th><th scope=col>GSM1847997</th><th scope=col>GSM1847998</th><th scope=col>GSM1847999</th><th scope=col>GSM1848000</th><th scope=col>GSM1848001</th><th scope=col>...</th><th scope=col>GSM1848049</th><th scope=col>GSM1848050</th><th scope=col>GSM1848051</th><th scope=col>GSM1848052</th><th scope=col>GSM1848053</th><th scope=col>GSM1848054</th><th scope=col>GSM1848055</th><th scope=col>GSM1848056</th><th scope=col>GSM1848057</th><th scope=col>GSM1848060</th></tr></thead>\n",
       "<tbody>\n",
       "\t<tr><th scope=row>cg00142257</th><td>0.4122434 </td><td>0.51848479</td><td>0.5627227 </td><td>0.4864585 </td><td>0.43132955</td><td>0.4655618 </td><td>0.2736042 </td><td>0.4512010 </td><td>0.4903609 </td><td>0.4842979 </td><td>...       </td><td>0.4550577 </td><td>0.3888627 </td><td>0.3300178 </td><td>0.4132906 </td><td>0.3533048 </td><td>0.3874663 </td><td>0.2014735 </td><td>0.3608188 </td><td>0.3658812 </td><td>0.4305409 </td></tr>\n",
       "\t<tr><th scope=row>cg00278517</th><td>0.4734909 </td><td>0.56870903</td><td>0.5864801 </td><td>0.4977508 </td><td>0.61375932</td><td>0.5986472 </td><td>0.3864627 </td><td>0.5558569 </td><td>0.3906072 </td><td>0.5363274 </td><td>...       </td><td>0.3943654 </td><td>0.4643582 </td><td>0.4160098 </td><td>0.2739826 </td><td>0.4406790 </td><td>0.4058805 </td><td>0.3876892 </td><td>0.5278583 </td><td>0.4377678 </td><td>0.3870135 </td></tr>\n",
       "\t<tr><th scope=row>cg00434573</th><td>0.1324254 </td><td>0.06301471</td><td>0.2179613 </td><td>0.2539216 </td><td>0.07891445</td><td>0.1394645 </td><td>0.4025510 </td><td>0.2249080 </td><td>0.1371391 </td><td>0.1095276 </td><td>...       </td><td>0.3971105 </td><td>0.2443950 </td><td>0.3245176 </td><td>0.3907705 </td><td>0.3097491 </td><td>0.2774304 </td><td>0.3356800 </td><td>0.2204513 </td><td>0.2749134 </td><td>0.2821024 </td></tr>\n",
       "\t<tr><th scope=row>cg00713939</th><td>0.5915280 </td><td>0.40511920</td><td>0.3330917 </td><td>0.3892111 </td><td>0.35573431</td><td>0.3396973 </td><td>0.4326223 </td><td>0.4335259 </td><td>0.5113681 </td><td>0.4467421 </td><td>...       </td><td>0.3331605 </td><td>0.2839870 </td><td>0.3387895 </td><td>0.1722797 </td><td>0.3214660 </td><td>0.3298554 </td><td>0.2776124 </td><td>0.3641307 </td><td>0.3506712 </td><td>0.1531135 </td></tr>\n",
       "\t<tr><th scope=row>cg01048962</th><td>0.2918673 </td><td>0.26409069</td><td>0.3297317 </td><td>0.3026134 </td><td>0.22706921</td><td>0.2231443 </td><td>0.2139209 </td><td>0.2612447 </td><td>0.3789088 </td><td>0.4766465 </td><td>...       </td><td>0.1861795 </td><td>0.1782653 </td><td>0.1681313 </td><td>0.2233711 </td><td>0.1417084 </td><td>0.1943730 </td><td>0.1181600 </td><td>0.1298053 </td><td>0.1705151 </td><td>0.1619550 </td></tr>\n",
       "\t<tr><th scope=row>cg01097406</th><td>0.5022061 </td><td>0.26017662</td><td>0.4084823 </td><td>0.4213126 </td><td>0.50927483</td><td>0.4837898 </td><td>0.3840635 </td><td>0.4079091 </td><td>0.5392230 </td><td>0.5986150 </td><td>...       </td><td>0.4954056 </td><td>0.5096875 </td><td>0.5764819 </td><td>0.4853262 </td><td>0.3038401 </td><td>0.5456257 </td><td>0.6420682 </td><td>0.5459061 </td><td>0.4927699 </td><td>0.5908122 </td></tr>\n",
       "</tbody>\n",
       "</table>\n"
      ],
      "text/latex": [
       "\\begin{tabular}{r|lllllllllllllllllllllllllllllllllllllllllllllllllllllllllllllllllll}\n",
       "  & GSM1847992 & GSM1847993 & GSM1847994 & GSM1847995 & GSM1847996 & GSM1847997 & GSM1847998 & GSM1847999 & GSM1848000 & GSM1848001 & ... & GSM1848049 & GSM1848050 & GSM1848051 & GSM1848052 & GSM1848053 & GSM1848054 & GSM1848055 & GSM1848056 & GSM1848057 & GSM1848060\\\\\n",
       "\\hline\n",
       "\tcg00142257 & 0.4122434  & 0.51848479 & 0.5627227  & 0.4864585  & 0.43132955 & 0.4655618  & 0.2736042  & 0.4512010  & 0.4903609  & 0.4842979  & ...        & 0.4550577  & 0.3888627  & 0.3300178  & 0.4132906  & 0.3533048  & 0.3874663  & 0.2014735  & 0.3608188  & 0.3658812  & 0.4305409 \\\\\n",
       "\tcg00278517 & 0.4734909  & 0.56870903 & 0.5864801  & 0.4977508  & 0.61375932 & 0.5986472  & 0.3864627  & 0.5558569  & 0.3906072  & 0.5363274  & ...        & 0.3943654  & 0.4643582  & 0.4160098  & 0.2739826  & 0.4406790  & 0.4058805  & 0.3876892  & 0.5278583  & 0.4377678  & 0.3870135 \\\\\n",
       "\tcg00434573 & 0.1324254  & 0.06301471 & 0.2179613  & 0.2539216  & 0.07891445 & 0.1394645  & 0.4025510  & 0.2249080  & 0.1371391  & 0.1095276  & ...        & 0.3971105  & 0.2443950  & 0.3245176  & 0.3907705  & 0.3097491  & 0.2774304  & 0.3356800  & 0.2204513  & 0.2749134  & 0.2821024 \\\\\n",
       "\tcg00713939 & 0.5915280  & 0.40511920 & 0.3330917  & 0.3892111  & 0.35573431 & 0.3396973  & 0.4326223  & 0.4335259  & 0.5113681  & 0.4467421  & ...        & 0.3331605  & 0.2839870  & 0.3387895  & 0.1722797  & 0.3214660  & 0.3298554  & 0.2776124  & 0.3641307  & 0.3506712  & 0.1531135 \\\\\n",
       "\tcg01048962 & 0.2918673  & 0.26409069 & 0.3297317  & 0.3026134  & 0.22706921 & 0.2231443  & 0.2139209  & 0.2612447  & 0.3789088  & 0.4766465  & ...        & 0.1861795  & 0.1782653  & 0.1681313  & 0.2233711  & 0.1417084  & 0.1943730  & 0.1181600  & 0.1298053  & 0.1705151  & 0.1619550 \\\\\n",
       "\tcg01097406 & 0.5022061  & 0.26017662 & 0.4084823  & 0.4213126  & 0.50927483 & 0.4837898  & 0.3840635  & 0.4079091  & 0.5392230  & 0.5986150  & ...        & 0.4954056  & 0.5096875  & 0.5764819  & 0.4853262  & 0.3038401  & 0.5456257  & 0.6420682  & 0.5459061  & 0.4927699  & 0.5908122 \\\\\n",
       "\\end{tabular}\n"
      ],
      "text/markdown": [
       "\n",
       "| <!--/--> | GSM1847992 | GSM1847993 | GSM1847994 | GSM1847995 | GSM1847996 | GSM1847997 | GSM1847998 | GSM1847999 | GSM1848000 | GSM1848001 | ... | GSM1848049 | GSM1848050 | GSM1848051 | GSM1848052 | GSM1848053 | GSM1848054 | GSM1848055 | GSM1848056 | GSM1848057 | GSM1848060 |\n",
       "|---|---|---|---|---|---|---|---|---|---|---|---|---|---|---|---|---|---|---|---|---|---|\n",
       "| cg00142257 | 0.4122434  | 0.51848479 | 0.5627227  | 0.4864585  | 0.43132955 | 0.4655618  | 0.2736042  | 0.4512010  | 0.4903609  | 0.4842979  | ...        | 0.4550577  | 0.3888627  | 0.3300178  | 0.4132906  | 0.3533048  | 0.3874663  | 0.2014735  | 0.3608188  | 0.3658812  | 0.4305409  |\n",
       "| cg00278517 | 0.4734909  | 0.56870903 | 0.5864801  | 0.4977508  | 0.61375932 | 0.5986472  | 0.3864627  | 0.5558569  | 0.3906072  | 0.5363274  | ...        | 0.3943654  | 0.4643582  | 0.4160098  | 0.2739826  | 0.4406790  | 0.4058805  | 0.3876892  | 0.5278583  | 0.4377678  | 0.3870135  |\n",
       "| cg00434573 | 0.1324254  | 0.06301471 | 0.2179613  | 0.2539216  | 0.07891445 | 0.1394645  | 0.4025510  | 0.2249080  | 0.1371391  | 0.1095276  | ...        | 0.3971105  | 0.2443950  | 0.3245176  | 0.3907705  | 0.3097491  | 0.2774304  | 0.3356800  | 0.2204513  | 0.2749134  | 0.2821024  |\n",
       "| cg00713939 | 0.5915280  | 0.40511920 | 0.3330917  | 0.3892111  | 0.35573431 | 0.3396973  | 0.4326223  | 0.4335259  | 0.5113681  | 0.4467421  | ...        | 0.3331605  | 0.2839870  | 0.3387895  | 0.1722797  | 0.3214660  | 0.3298554  | 0.2776124  | 0.3641307  | 0.3506712  | 0.1531135  |\n",
       "| cg01048962 | 0.2918673  | 0.26409069 | 0.3297317  | 0.3026134  | 0.22706921 | 0.2231443  | 0.2139209  | 0.2612447  | 0.3789088  | 0.4766465  | ...        | 0.1861795  | 0.1782653  | 0.1681313  | 0.2233711  | 0.1417084  | 0.1943730  | 0.1181600  | 0.1298053  | 0.1705151  | 0.1619550  |\n",
       "| cg01097406 | 0.5022061  | 0.26017662 | 0.4084823  | 0.4213126  | 0.50927483 | 0.4837898  | 0.3840635  | 0.4079091  | 0.5392230  | 0.5986150  | ...        | 0.4954056  | 0.5096875  | 0.5764819  | 0.4853262  | 0.3038401  | 0.5456257  | 0.6420682  | 0.5459061  | 0.4927699  | 0.5908122  |\n",
       "\n"
      ],
      "text/plain": [
       "           GSM1847992 GSM1847993 GSM1847994 GSM1847995 GSM1847996 GSM1847997\n",
       "cg00142257 0.4122434  0.51848479 0.5627227  0.4864585  0.43132955 0.4655618 \n",
       "cg00278517 0.4734909  0.56870903 0.5864801  0.4977508  0.61375932 0.5986472 \n",
       "cg00434573 0.1324254  0.06301471 0.2179613  0.2539216  0.07891445 0.1394645 \n",
       "cg00713939 0.5915280  0.40511920 0.3330917  0.3892111  0.35573431 0.3396973 \n",
       "cg01048962 0.2918673  0.26409069 0.3297317  0.3026134  0.22706921 0.2231443 \n",
       "cg01097406 0.5022061  0.26017662 0.4084823  0.4213126  0.50927483 0.4837898 \n",
       "           GSM1847998 GSM1847999 GSM1848000 GSM1848001 ... GSM1848049\n",
       "cg00142257 0.2736042  0.4512010  0.4903609  0.4842979  ... 0.4550577 \n",
       "cg00278517 0.3864627  0.5558569  0.3906072  0.5363274  ... 0.3943654 \n",
       "cg00434573 0.4025510  0.2249080  0.1371391  0.1095276  ... 0.3971105 \n",
       "cg00713939 0.4326223  0.4335259  0.5113681  0.4467421  ... 0.3331605 \n",
       "cg01048962 0.2139209  0.2612447  0.3789088  0.4766465  ... 0.1861795 \n",
       "cg01097406 0.3840635  0.4079091  0.5392230  0.5986150  ... 0.4954056 \n",
       "           GSM1848050 GSM1848051 GSM1848052 GSM1848053 GSM1848054 GSM1848055\n",
       "cg00142257 0.3888627  0.3300178  0.4132906  0.3533048  0.3874663  0.2014735 \n",
       "cg00278517 0.4643582  0.4160098  0.2739826  0.4406790  0.4058805  0.3876892 \n",
       "cg00434573 0.2443950  0.3245176  0.3907705  0.3097491  0.2774304  0.3356800 \n",
       "cg00713939 0.2839870  0.3387895  0.1722797  0.3214660  0.3298554  0.2776124 \n",
       "cg01048962 0.1782653  0.1681313  0.2233711  0.1417084  0.1943730  0.1181600 \n",
       "cg01097406 0.5096875  0.5764819  0.4853262  0.3038401  0.5456257  0.6420682 \n",
       "           GSM1848056 GSM1848057 GSM1848060\n",
       "cg00142257 0.3608188  0.3658812  0.4305409 \n",
       "cg00278517 0.5278583  0.4377678  0.3870135 \n",
       "cg00434573 0.2204513  0.2749134  0.2821024 \n",
       "cg00713939 0.3641307  0.3506712  0.1531135 \n",
       "cg01048962 0.1298053  0.1705151  0.1619550 \n",
       "cg01097406 0.5459061  0.4927699  0.5908122 "
      ]
     },
     "metadata": {},
     "output_type": "display_data"
    }
   ],
   "source": [
    "nrow(cd4_mat)\n",
    "nrow(cd4_cpg)\n",
    "head(cd4_mat)"
   ]
  },
  {
   "cell_type": "code",
   "execution_count": 80,
   "metadata": {},
   "outputs": [
    {
     "data": {
      "text/html": [
       "44"
      ],
      "text/latex": [
       "44"
      ],
      "text/markdown": [
       "44"
      ],
      "text/plain": [
       "[1] 44"
      ]
     },
     "metadata": {},
     "output_type": "display_data"
    }
   ],
   "source": [
    "cd4_anno <- anno %>% filter(Name %in% rownames(cd4_mat))\n",
    "nrow(cd4_anno)"
   ]
  },
  {
   "cell_type": "code",
   "execution_count": 81,
   "metadata": {},
   "outputs": [],
   "source": [
    "save(cd4_mat, cd4_anno, cd4_key, cd4_cpg, file=\"sig_cd4.RData\")"
   ]
  },
  {
   "cell_type": "markdown",
   "metadata": {},
   "source": [
    "# CD8"
   ]
  },
  {
   "cell_type": "code",
   "execution_count": 82,
   "metadata": {},
   "outputs": [
    {
     "name": "stdout",
     "output_type": "stream",
     "text": [
      "Finding the best segmentation\n",
      "  |======================================================================| 100%\n",
      "Calculating coefficients and p-values for all regions\n",
      "Adding additional information to the results\n",
      "\tAll numeric variables\n",
      "\tVariable: UCSC_RefGene_Group\n",
      "\tVariable: Relation_to_UCSC_CpG_Island\n",
      "\tVariable: UCSC_RefGene_Name\n"
     ]
    }
   ],
   "source": [
    "library(doParallel)\n",
    "registerDoParallel(cores = 4)\n",
    "cd8_cpg = seqlm(values = cd8_mat,\n",
    "                 genome_information = genome_information,\n",
    "                 annotation = cd8_key$diagnosis,\n",
    "                 max_dist = 1\n",
    "            )"
   ]
  },
  {
   "cell_type": "code",
   "execution_count": 83,
   "metadata": {},
   "outputs": [],
   "source": [
    "cd8_healthy_geo <- filter(cd8_key, diagnosis == 'Healthy')$geo\n",
    "cd8_graves_geo <- filter(cd8_key, diagnosis != 'Healthy')$geo"
   ]
  },
  {
   "cell_type": "code",
   "execution_count": 84,
   "metadata": {},
   "outputs": [],
   "source": [
    "healthy_cd8 <- as.data.frame(cd8_mat) %>% select(cd8_healthy_geo) %>%\n",
    "            mutate(\"cg\" = rownames(cd8_mat), \"mean\" = apply(., 1, median)) %>% \n",
    "            select(cg,mean)\n",
    "\n",
    "graves_cd8 <- as.data.frame(cd8_mat) %>% select(cd8_graves_geo) %>%\n",
    "            mutate(\"cg\" = rownames(cd8_mat), \"mean\" = apply(., 1, median)) %>% \n",
    "            select(cg,mean)"
   ]
  },
  {
   "cell_type": "code",
   "execution_count": 85,
   "metadata": {},
   "outputs": [
    {
     "data": {
      "text/html": [
       "<table>\n",
       "<thead><tr><th scope=col>cg</th><th scope=col>mean</th></tr></thead>\n",
       "<tbody>\n",
       "\t<tr><td>cg00001874</td><td>0.7552457 </td></tr>\n",
       "\t<tr><td>cg00004105</td><td>0.5867964 </td></tr>\n",
       "\t<tr><td>cg00005166</td><td>0.8484415 </td></tr>\n",
       "\t<tr><td>cg00005619</td><td>0.7712057 </td></tr>\n",
       "\t<tr><td>cg00009088</td><td>0.8491304 </td></tr>\n",
       "\t<tr><td>cg00010853</td><td>0.2368261 </td></tr>\n",
       "</tbody>\n",
       "</table>\n"
      ],
      "text/latex": [
       "\\begin{tabular}{r|ll}\n",
       " cg & mean\\\\\n",
       "\\hline\n",
       "\t cg00001874 & 0.7552457 \\\\\n",
       "\t cg00004105 & 0.5867964 \\\\\n",
       "\t cg00005166 & 0.8484415 \\\\\n",
       "\t cg00005619 & 0.7712057 \\\\\n",
       "\t cg00009088 & 0.8491304 \\\\\n",
       "\t cg00010853 & 0.2368261 \\\\\n",
       "\\end{tabular}\n"
      ],
      "text/markdown": [
       "\n",
       "| cg | mean |\n",
       "|---|---|\n",
       "| cg00001874 | 0.7552457  |\n",
       "| cg00004105 | 0.5867964  |\n",
       "| cg00005166 | 0.8484415  |\n",
       "| cg00005619 | 0.7712057  |\n",
       "| cg00009088 | 0.8491304  |\n",
       "| cg00010853 | 0.2368261  |\n",
       "\n"
      ],
      "text/plain": [
       "  cg         mean     \n",
       "1 cg00001874 0.7552457\n",
       "2 cg00004105 0.5867964\n",
       "3 cg00005166 0.8484415\n",
       "4 cg00005619 0.7712057\n",
       "5 cg00009088 0.8491304\n",
       "6 cg00010853 0.2368261"
      ]
     },
     "metadata": {},
     "output_type": "display_data"
    },
    {
     "data": {
      "text/html": [
       "<table>\n",
       "<thead><tr><th scope=col>cg</th><th scope=col>mean</th></tr></thead>\n",
       "<tbody>\n",
       "\t<tr><td>cg00001874</td><td>0.6983105 </td></tr>\n",
       "\t<tr><td>cg00004105</td><td>0.5259174 </td></tr>\n",
       "\t<tr><td>cg00005166</td><td>0.7624492 </td></tr>\n",
       "\t<tr><td>cg00005619</td><td>0.6837482 </td></tr>\n",
       "\t<tr><td>cg00009088</td><td>0.7605100 </td></tr>\n",
       "\t<tr><td>cg00010853</td><td>0.3086200 </td></tr>\n",
       "</tbody>\n",
       "</table>\n"
      ],
      "text/latex": [
       "\\begin{tabular}{r|ll}\n",
       " cg & mean\\\\\n",
       "\\hline\n",
       "\t cg00001874 & 0.6983105 \\\\\n",
       "\t cg00004105 & 0.5259174 \\\\\n",
       "\t cg00005166 & 0.7624492 \\\\\n",
       "\t cg00005619 & 0.6837482 \\\\\n",
       "\t cg00009088 & 0.7605100 \\\\\n",
       "\t cg00010853 & 0.3086200 \\\\\n",
       "\\end{tabular}\n"
      ],
      "text/markdown": [
       "\n",
       "| cg | mean |\n",
       "|---|---|\n",
       "| cg00001874 | 0.6983105  |\n",
       "| cg00004105 | 0.5259174  |\n",
       "| cg00005166 | 0.7624492  |\n",
       "| cg00005619 | 0.6837482  |\n",
       "| cg00009088 | 0.7605100  |\n",
       "| cg00010853 | 0.3086200  |\n",
       "\n"
      ],
      "text/plain": [
       "  cg         mean     \n",
       "1 cg00001874 0.6983105\n",
       "2 cg00004105 0.5259174\n",
       "3 cg00005166 0.7624492\n",
       "4 cg00005619 0.6837482\n",
       "5 cg00009088 0.7605100\n",
       "6 cg00010853 0.3086200"
      ]
     },
     "metadata": {},
     "output_type": "display_data"
    }
   ],
   "source": [
    "head(healthy_cd8)\n",
    "head(graves_cd8)"
   ]
  },
  {
   "cell_type": "code",
   "execution_count": 86,
   "metadata": {},
   "outputs": [
    {
     "data": {
      "text/html": [
       "<dl class=dl-horizontal>\n",
       "\t<dt>0%</dt>\n",
       "\t\t<dd>0.0500041824970137</dd>\n",
       "\t<dt>25%</dt>\n",
       "\t\t<dd>0.0587746261393595</dd>\n",
       "\t<dt>50%</dt>\n",
       "\t\t<dd>0.0703311119594908</dd>\n",
       "\t<dt>75%</dt>\n",
       "\t\t<dd>0.0880072224358413</dd>\n",
       "\t<dt>100%</dt>\n",
       "\t\t<dd>0.210925154322453</dd>\n",
       "</dl>\n"
      ],
      "text/latex": [
       "\\begin{description*}\n",
       "\\item[0\\textbackslash{}\\%] 0.0500041824970137\n",
       "\\item[25\\textbackslash{}\\%] 0.0587746261393595\n",
       "\\item[50\\textbackslash{}\\%] 0.0703311119594908\n",
       "\\item[75\\textbackslash{}\\%] 0.0880072224358413\n",
       "\\item[100\\textbackslash{}\\%] 0.210925154322453\n",
       "\\end{description*}\n"
      ],
      "text/markdown": [
       "0%\n",
       ":   0.050004182497013725%\n",
       ":   0.058774626139359550%\n",
       ":   0.070331111959490875%\n",
       ":   0.0880072224358413100%\n",
       ":   0.210925154322453\n",
       "\n"
      ],
      "text/plain": [
       "        0%        25%        50%        75%       100% \n",
       "0.05000418 0.05877463 0.07033111 0.08800722 0.21092515 "
      ]
     },
     "metadata": {},
     "output_type": "display_data"
    },
    {
     "data": {
      "image/png": "[encoded data removed]",
      "text/plain": [
       "Plot with title \"Histogram of abs(healthy_cd8$mean - graves_cd8$mean)\""
      ]
     },
     "metadata": {},
     "output_type": "display_data"
    }
   ],
   "source": [
    "hist(abs(healthy_cd8$mean - graves_cd8$mean))\n",
    "quantile(abs(healthy_cd8$mean - graves_cd8$mean))"
   ]
  },
  {
   "cell_type": "code",
   "execution_count": 87,
   "metadata": {},
   "outputs": [
    {
     "data": {
      "image/png": "[encoded data removed]",
      "text/plain": [
       "Plot with title \"Histogram of dif\""
      ]
     },
     "metadata": {},
     "output_type": "display_data"
    }
   ],
   "source": [
    "dif <- abs(healthy_cd8$mean - graves_cd8$mean)\n",
    "dif <- dif[abs(healthy_cd8$mean - graves_cd8$mean) > 0.1]\n",
    "hist(dif)\n",
    "good_cg <- names(dif)"
   ]
  },
  {
   "cell_type": "code",
   "execution_count": 88,
   "metadata": {},
   "outputs": [
    {
     "data": {
      "text/html": [
       "1861"
      ],
      "text/latex": [
       "1861"
      ],
      "text/markdown": [
       "1861"
      ],
      "text/plain": [
       "[1] 1861"
      ]
     },
     "metadata": {},
     "output_type": "display_data"
    },
    {
     "data": {
      "text/html": [
       "<ol class=list-inline>\n",
       "\t<li>'cg00030296'</li>\n",
       "\t<li>'cg00032884'</li>\n",
       "\t<li>'cg00050618'</li>\n",
       "\t<li>'cg00060800'</li>\n",
       "\t<li>'cg00067720'</li>\n",
       "\t<li>'cg00071250'</li>\n",
       "</ol>\n"
      ],
      "text/latex": [
       "\\begin{enumerate*}\n",
       "\\item 'cg00030296'\n",
       "\\item 'cg00032884'\n",
       "\\item 'cg00050618'\n",
       "\\item 'cg00060800'\n",
       "\\item 'cg00067720'\n",
       "\\item 'cg00071250'\n",
       "\\end{enumerate*}\n"
      ],
      "text/markdown": [
       "1. 'cg00030296'\n",
       "2. 'cg00032884'\n",
       "3. 'cg00050618'\n",
       "4. 'cg00060800'\n",
       "5. 'cg00067720'\n",
       "6. 'cg00071250'\n",
       "\n",
       "\n"
      ],
      "text/plain": [
       "[1] \"cg00030296\" \"cg00032884\" \"cg00050618\" \"cg00060800\" \"cg00067720\"\n",
       "[6] \"cg00071250\""
      ]
     },
     "metadata": {},
     "output_type": "display_data"
    }
   ],
   "source": [
    "length(good_cg)\n",
    "head(good_cg)"
   ]
  },
  {
   "cell_type": "code",
   "execution_count": 89,
   "metadata": {},
   "outputs": [
    {
     "data": {
      "text/html": [
       "12664"
      ],
      "text/latex": [
       "12664"
      ],
      "text/markdown": [
       "12664"
      ],
      "text/plain": [
       "[1] 12664"
      ]
     },
     "metadata": {},
     "output_type": "display_data"
    },
    {
     "data": {
      "text/html": [
       "1861"
      ],
      "text/latex": [
       "1861"
      ],
      "text/markdown": [
       "1861"
      ],
      "text/plain": [
       "[1] 1861"
      ]
     },
     "metadata": {},
     "output_type": "display_data"
    }
   ],
   "source": [
    "length(cd8_cpg)\n",
    "cd8_cpg <- as.data.frame(cd8_cpg) %>% \n",
    "            filter(fdr < 0.005 & probes %in% good_cg)\n",
    "nrow(cd8_cpg)"
   ]
  },
  {
   "cell_type": "code",
   "execution_count": 90,
   "metadata": {},
   "outputs": [],
   "source": [
    "cd8_mat <- as.data.frame(cd8_mat) %>%\n",
    "    mutate(\"probe\" = rownames(cd8_mat)) %>%\n",
    "    filter(probe %in% cd8_cpg$probes)\n",
    "\n",
    "rownames(cd8_mat) <- cd8_mat$probe\n",
    "cd8_mat <- cd8_mat[, -ncol(cd8_mat)]"
   ]
  },
  {
   "cell_type": "code",
   "execution_count": 91,
   "metadata": {},
   "outputs": [
    {
     "data": {
      "text/html": [
       "1861"
      ],
      "text/latex": [
       "1861"
      ],
      "text/markdown": [
       "1861"
      ],
      "text/plain": [
       "[1] 1861"
      ]
     },
     "metadata": {},
     "output_type": "display_data"
    },
    {
     "data": {
      "text/html": [
       "1861"
      ],
      "text/latex": [
       "1861"
      ],
      "text/markdown": [
       "1861"
      ],
      "text/plain": [
       "[1] 1861"
      ]
     },
     "metadata": {},
     "output_type": "display_data"
    },
    {
     "data": {
      "text/html": [
       "<table>\n",
       "<thead><tr><th></th><th scope=col>GSM1848063</th><th scope=col>GSM1848065</th><th scope=col>GSM1848068</th><th scope=col>GSM1848070</th><th scope=col>GSM1848071</th><th scope=col>GSM1848072</th><th scope=col>GSM1848073</th><th scope=col>GSM1848074</th><th scope=col>GSM1848075</th><th scope=col>GSM1848076</th><th scope=col>...</th><th scope=col>GSM1848125</th><th scope=col>GSM1848126</th><th scope=col>GSM1848127</th><th scope=col>GSM1848128</th><th scope=col>GSM1848129</th><th scope=col>GSM1848130</th><th scope=col>GSM1848131</th><th scope=col>GSM1848132</th><th scope=col>GSM1848133</th><th scope=col>GSM1848134</th></tr></thead>\n",
       "<tbody>\n",
       "\t<tr><th scope=row>cg00030296</th><td>0.5819730</td><td>0.7000241</td><td>0.6787659</td><td>0.6775437</td><td>0.6874588</td><td>0.6989493</td><td>0.5927803</td><td>0.6633103</td><td>0.6598131</td><td>0.6228217</td><td>...      </td><td>0.6070729</td><td>0.5461209</td><td>0.5552922</td><td>0.6499495</td><td>0.5716758</td><td>0.5405086</td><td>0.5750685</td><td>0.5460917</td><td>0.6193233</td><td>0.4981104</td></tr>\n",
       "\t<tr><th scope=row>cg00032884</th><td>0.5839259</td><td>0.2708649</td><td>0.2913396</td><td>0.2850249</td><td>0.2359946</td><td>0.2142949</td><td>0.4047235</td><td>0.3114423</td><td>0.2999232</td><td>0.3451976</td><td>...      </td><td>0.3912286</td><td>0.5023169</td><td>0.4718681</td><td>0.4193616</td><td>0.4389078</td><td>0.5084795</td><td>0.4062710</td><td>0.4969969</td><td>0.3632756</td><td>0.5013552</td></tr>\n",
       "\t<tr><th scope=row>cg00050618</th><td>0.6676749</td><td>0.2976384</td><td>0.3385806</td><td>0.3362445</td><td>0.3110799</td><td>0.2269623</td><td>0.5119304</td><td>0.3672786</td><td>0.3736005</td><td>0.4591961</td><td>...      </td><td>0.4439383</td><td>0.5518911</td><td>0.5069147</td><td>0.5549712</td><td>0.4978740</td><td>0.6026100</td><td>0.4284513</td><td>0.5418459</td><td>0.3983515</td><td>0.5969988</td></tr>\n",
       "\t<tr><th scope=row>cg00060800</th><td>0.7201319</td><td>0.8661110</td><td>0.8155584</td><td>0.8185539</td><td>0.8181838</td><td>0.8504944</td><td>0.7016773</td><td>0.7878172</td><td>0.7955811</td><td>0.8310020</td><td>...      </td><td>0.7282938</td><td>0.6537733</td><td>0.6271951</td><td>0.8362673</td><td>0.7004504</td><td>0.6718952</td><td>0.7376825</td><td>0.6411493</td><td>0.7434889</td><td>0.6408523</td></tr>\n",
       "\t<tr><th scope=row>cg00067720</th><td>0.5904981</td><td>0.7546022</td><td>0.6948224</td><td>0.7111202</td><td>0.7031895</td><td>0.7386855</td><td>0.5768486</td><td>0.6655363</td><td>0.7058848</td><td>0.7232743</td><td>...      </td><td>0.6248924</td><td>0.5553287</td><td>0.5735721</td><td>0.7242167</td><td>0.6121886</td><td>0.5503200</td><td>0.5750277</td><td>0.5396132</td><td>0.6379150</td><td>0.5640426</td></tr>\n",
       "\t<tr><th scope=row>cg00071250</th><td>0.4328201</td><td>0.2367063</td><td>0.2603586</td><td>0.2420195</td><td>0.1880294</td><td>0.1647356</td><td>0.3796386</td><td>0.2708342</td><td>0.2685779</td><td>0.3103581</td><td>...      </td><td>0.3332989</td><td>0.4212897</td><td>0.4003549</td><td>0.4055322</td><td>0.3860812</td><td>0.4419740</td><td>0.3842102</td><td>0.4285783</td><td>0.3409449</td><td>0.4910761</td></tr>\n",
       "</tbody>\n",
       "</table>\n"
      ],
      "text/latex": [
       "\\begin{tabular}{r|llllllllllllllllllllllllllllllllllllllllllllllllllllllllllllllllllll}\n",
       "  & GSM1848063 & GSM1848065 & GSM1848068 & GSM1848070 & GSM1848071 & GSM1848072 & GSM1848073 & GSM1848074 & GSM1848075 & GSM1848076 & ... & GSM1848125 & GSM1848126 & GSM1848127 & GSM1848128 & GSM1848129 & GSM1848130 & GSM1848131 & GSM1848132 & GSM1848133 & GSM1848134\\\\\n",
       "\\hline\n",
       "\tcg00030296 & 0.5819730 & 0.7000241 & 0.6787659 & 0.6775437 & 0.6874588 & 0.6989493 & 0.5927803 & 0.6633103 & 0.6598131 & 0.6228217 & ...       & 0.6070729 & 0.5461209 & 0.5552922 & 0.6499495 & 0.5716758 & 0.5405086 & 0.5750685 & 0.5460917 & 0.6193233 & 0.4981104\\\\\n",
       "\tcg00032884 & 0.5839259 & 0.2708649 & 0.2913396 & 0.2850249 & 0.2359946 & 0.2142949 & 0.4047235 & 0.3114423 & 0.2999232 & 0.3451976 & ...       & 0.3912286 & 0.5023169 & 0.4718681 & 0.4193616 & 0.4389078 & 0.5084795 & 0.4062710 & 0.4969969 & 0.3632756 & 0.5013552\\\\\n",
       "\tcg00050618 & 0.6676749 & 0.2976384 & 0.3385806 & 0.3362445 & 0.3110799 & 0.2269623 & 0.5119304 & 0.3672786 & 0.3736005 & 0.4591961 & ...       & 0.4439383 & 0.5518911 & 0.5069147 & 0.5549712 & 0.4978740 & 0.6026100 & 0.4284513 & 0.5418459 & 0.3983515 & 0.5969988\\\\\n",
       "\tcg00060800 & 0.7201319 & 0.8661110 & 0.8155584 & 0.8185539 & 0.8181838 & 0.8504944 & 0.7016773 & 0.7878172 & 0.7955811 & 0.8310020 & ...       & 0.7282938 & 0.6537733 & 0.6271951 & 0.8362673 & 0.7004504 & 0.6718952 & 0.7376825 & 0.6411493 & 0.7434889 & 0.6408523\\\\\n",
       "\tcg00067720 & 0.5904981 & 0.7546022 & 0.6948224 & 0.7111202 & 0.7031895 & 0.7386855 & 0.5768486 & 0.6655363 & 0.7058848 & 0.7232743 & ...       & 0.6248924 & 0.5553287 & 0.5735721 & 0.7242167 & 0.6121886 & 0.5503200 & 0.5750277 & 0.5396132 & 0.6379150 & 0.5640426\\\\\n",
       "\tcg00071250 & 0.4328201 & 0.2367063 & 0.2603586 & 0.2420195 & 0.1880294 & 0.1647356 & 0.3796386 & 0.2708342 & 0.2685779 & 0.3103581 & ...       & 0.3332989 & 0.4212897 & 0.4003549 & 0.4055322 & 0.3860812 & 0.4419740 & 0.3842102 & 0.4285783 & 0.3409449 & 0.4910761\\\\\n",
       "\\end{tabular}\n"
      ],
      "text/markdown": [
       "\n",
       "| <!--/--> | GSM1848063 | GSM1848065 | GSM1848068 | GSM1848070 | GSM1848071 | GSM1848072 | GSM1848073 | GSM1848074 | GSM1848075 | GSM1848076 | ... | GSM1848125 | GSM1848126 | GSM1848127 | GSM1848128 | GSM1848129 | GSM1848130 | GSM1848131 | GSM1848132 | GSM1848133 | GSM1848134 |\n",
       "|---|---|---|---|---|---|---|---|---|---|---|---|---|---|---|---|---|---|---|---|---|---|\n",
       "| cg00030296 | 0.5819730 | 0.7000241 | 0.6787659 | 0.6775437 | 0.6874588 | 0.6989493 | 0.5927803 | 0.6633103 | 0.6598131 | 0.6228217 | ...       | 0.6070729 | 0.5461209 | 0.5552922 | 0.6499495 | 0.5716758 | 0.5405086 | 0.5750685 | 0.5460917 | 0.6193233 | 0.4981104 |\n",
       "| cg00032884 | 0.5839259 | 0.2708649 | 0.2913396 | 0.2850249 | 0.2359946 | 0.2142949 | 0.4047235 | 0.3114423 | 0.2999232 | 0.3451976 | ...       | 0.3912286 | 0.5023169 | 0.4718681 | 0.4193616 | 0.4389078 | 0.5084795 | 0.4062710 | 0.4969969 | 0.3632756 | 0.5013552 |\n",
       "| cg00050618 | 0.6676749 | 0.2976384 | 0.3385806 | 0.3362445 | 0.3110799 | 0.2269623 | 0.5119304 | 0.3672786 | 0.3736005 | 0.4591961 | ...       | 0.4439383 | 0.5518911 | 0.5069147 | 0.5549712 | 0.4978740 | 0.6026100 | 0.4284513 | 0.5418459 | 0.3983515 | 0.5969988 |\n",
       "| cg00060800 | 0.7201319 | 0.8661110 | 0.8155584 | 0.8185539 | 0.8181838 | 0.8504944 | 0.7016773 | 0.7878172 | 0.7955811 | 0.8310020 | ...       | 0.7282938 | 0.6537733 | 0.6271951 | 0.8362673 | 0.7004504 | 0.6718952 | 0.7376825 | 0.6411493 | 0.7434889 | 0.6408523 |\n",
       "| cg00067720 | 0.5904981 | 0.7546022 | 0.6948224 | 0.7111202 | 0.7031895 | 0.7386855 | 0.5768486 | 0.6655363 | 0.7058848 | 0.7232743 | ...       | 0.6248924 | 0.5553287 | 0.5735721 | 0.7242167 | 0.6121886 | 0.5503200 | 0.5750277 | 0.5396132 | 0.6379150 | 0.5640426 |\n",
       "| cg00071250 | 0.4328201 | 0.2367063 | 0.2603586 | 0.2420195 | 0.1880294 | 0.1647356 | 0.3796386 | 0.2708342 | 0.2685779 | 0.3103581 | ...       | 0.3332989 | 0.4212897 | 0.4003549 | 0.4055322 | 0.3860812 | 0.4419740 | 0.3842102 | 0.4285783 | 0.3409449 | 0.4910761 |\n",
       "\n"
      ],
      "text/plain": [
       "           GSM1848063 GSM1848065 GSM1848068 GSM1848070 GSM1848071 GSM1848072\n",
       "cg00030296 0.5819730  0.7000241  0.6787659  0.6775437  0.6874588  0.6989493 \n",
       "cg00032884 0.5839259  0.2708649  0.2913396  0.2850249  0.2359946  0.2142949 \n",
       "cg00050618 0.6676749  0.2976384  0.3385806  0.3362445  0.3110799  0.2269623 \n",
       "cg00060800 0.7201319  0.8661110  0.8155584  0.8185539  0.8181838  0.8504944 \n",
       "cg00067720 0.5904981  0.7546022  0.6948224  0.7111202  0.7031895  0.7386855 \n",
       "cg00071250 0.4328201  0.2367063  0.2603586  0.2420195  0.1880294  0.1647356 \n",
       "           GSM1848073 GSM1848074 GSM1848075 GSM1848076 ... GSM1848125\n",
       "cg00030296 0.5927803  0.6633103  0.6598131  0.6228217  ... 0.6070729 \n",
       "cg00032884 0.4047235  0.3114423  0.2999232  0.3451976  ... 0.3912286 \n",
       "cg00050618 0.5119304  0.3672786  0.3736005  0.4591961  ... 0.4439383 \n",
       "cg00060800 0.7016773  0.7878172  0.7955811  0.8310020  ... 0.7282938 \n",
       "cg00067720 0.5768486  0.6655363  0.7058848  0.7232743  ... 0.6248924 \n",
       "cg00071250 0.3796386  0.2708342  0.2685779  0.3103581  ... 0.3332989 \n",
       "           GSM1848126 GSM1848127 GSM1848128 GSM1848129 GSM1848130 GSM1848131\n",
       "cg00030296 0.5461209  0.5552922  0.6499495  0.5716758  0.5405086  0.5750685 \n",
       "cg00032884 0.5023169  0.4718681  0.4193616  0.4389078  0.5084795  0.4062710 \n",
       "cg00050618 0.5518911  0.5069147  0.5549712  0.4978740  0.6026100  0.4284513 \n",
       "cg00060800 0.6537733  0.6271951  0.8362673  0.7004504  0.6718952  0.7376825 \n",
       "cg00067720 0.5553287  0.5735721  0.7242167  0.6121886  0.5503200  0.5750277 \n",
       "cg00071250 0.4212897  0.4003549  0.4055322  0.3860812  0.4419740  0.3842102 \n",
       "           GSM1848132 GSM1848133 GSM1848134\n",
       "cg00030296 0.5460917  0.6193233  0.4981104 \n",
       "cg00032884 0.4969969  0.3632756  0.5013552 \n",
       "cg00050618 0.5418459  0.3983515  0.5969988 \n",
       "cg00060800 0.6411493  0.7434889  0.6408523 \n",
       "cg00067720 0.5396132  0.6379150  0.5640426 \n",
       "cg00071250 0.4285783  0.3409449  0.4910761 "
      ]
     },
     "metadata": {},
     "output_type": "display_data"
    }
   ],
   "source": [
    "nrow(cd8_mat)\n",
    "nrow(cd8_cpg)\n",
    "head(cd8_mat)"
   ]
  },
  {
   "cell_type": "code",
   "execution_count": 92,
   "metadata": {},
   "outputs": [
    {
     "data": {
      "text/html": [
       "1861"
      ],
      "text/latex": [
       "1861"
      ],
      "text/markdown": [
       "1861"
      ],
      "text/plain": [
       "[1] 1861"
      ]
     },
     "metadata": {},
     "output_type": "display_data"
    }
   ],
   "source": [
    "cd8_anno <- anno %>% filter(Name %in% rownames(cd8_mat))\n",
    "nrow(cd8_anno)"
   ]
  },
  {
   "cell_type": "code",
   "execution_count": 93,
   "metadata": {},
   "outputs": [],
   "source": [
    "save(cd8_mat, cd8_anno, cd8_key, cd8_cpg, file=\"sig_cd8.RData\")"
   ]
  }
 ],
 "metadata": {
  "kernelspec": {
   "display_name": "R",
   "language": "R",
   "name": "ir"
  },
  "language_info": {
   "codemirror_mode": "r",
   "file_extension": ".r",
   "mimetype": "text/x-r-source",
   "name": "R",
   "pygments_lexer": "r",
   "version": "3.6.1"
  }
 },
 "nbformat": 4,
 "nbformat_minor": 2
}
